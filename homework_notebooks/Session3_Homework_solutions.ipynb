{
 "metadata": {
  "name": "",
  "signature": "sha256:9ebde67177e2526e19b46b1a13cd597249b501d1bdaa6522b864674a61581eb2"
 },
 "nbformat": 3,
 "nbformat_minor": 0,
 "worksheets": [
  {
   "cells": [
    {
     "cell_type": "markdown",
     "metadata": {},
     "source": [
      "# Session 3 Homework Solutions"
     ]
    },
    {
     "cell_type": "markdown",
     "metadata": {},
     "source": [
      "<font color=\"green\" size=4>A quick aside for people using IRAF. <br><br>\n",
      "If you see the warning <code> no login.cl found </code> it's from one of 2 things:\n",
      "<li> Either the directory you are running iraf in doesn't have login.cl (totally reasonable)\n",
      "<li> You don't have an ~iraf/login.cl  - Meaning, IRAF will automatically and by default look in your home directory for an iraf/  directory and inside that for a login.cl. If you go ahead and make an iraf directory in your home, then mkiraf in there,  when you are running iraf from random places on the same machine it will take it's defaults from there instead of making one in your current directory. <br> This can be good if you like running with the same defaults, just make sure if you are running multiple occurances you realize they are referencing the same directory and uparm/"
     ]
    },
    {
     "cell_type": "heading",
     "level": 2,
     "metadata": {},
     "source": [
      "Part 1"
     ]
    },
    {
     "cell_type": "markdown",
     "metadata": {},
     "source": [
      "- Download dataset https://github.com/spacetelescope/scientific-python-training-2015/tree/master/data/n8q624e8q_cal.fits\n",
      "\n",
      "- Download Session 3 Lecture from https://github.com/spacetelescope/scientific-python-training-2015/tree/master/lecture_notebooks/Session3_Phot_Phun_1u.ipynb , save it under a different name called \"Session3_Modified_Lecture_USERID.ipynb\".\n",
      "- Run it.\n",
      "\n",
      "- In the section \"Visualizing the Sources\" where stars are chosen based on their sharpness (just after the \"Sharpness vs. Mag\" plot), modify the selection criteria to selct stars with sharpness larger than 0.6 and magnitude brighter than -2. **Hint: Parentheses are important when there are multiple conditions.**\n",
      "\n",
      "- In the section \"Analyze Photometry Results\", also extract XCENTER and YCENTER that are associated with `goodmags`. Only plot histogram of `goodmags` for stars **at least** 100 pixels away from the image edges."
     ]
    },
    {
     "cell_type": "markdown",
     "metadata": {},
     "source": [
      "<font color=\"green\" size=4><br>In the section \"Visualizing the Sources\" where stars are chosen based on their sharpness (just after the \"Sharpness vs. Mag\" plot), modify the selection criteria to select stars with sharpness larger than 0.6 and magnitude brighter than -2. Hint: Parentheses are important when there are multiple conditions."
     ]
    },
    {
     "cell_type": "code",
     "collapsed": false,
     "input": [
      "%matplotlib inline"
     ],
     "language": "python",
     "metadata": {},
     "outputs": [],
     "prompt_number": 1
    },
    {
     "cell_type": "code",
     "collapsed": false,
     "input": [
      "import matplotlib.pylab as plt\n",
      "import numpy as np\n"
     ],
     "language": "python",
     "metadata": {},
     "outputs": [],
     "prompt_number": 2
    },
    {
     "cell_type": "code",
     "collapsed": false,
     "input": [
      "from astropy.io import ascii\n",
      "reader = ascii.Daophot()\n",
      "phot=reader.read('../data/test.stars')\n",
      "\n",
      "phot[np.where( (phot['MAG'] < -2.) & \\\n",
      "               (phot['SHARPNESS'] > 0.6))]\n",
      "\n",
      "#bright stars have more negative magnitudes..."
     ],
     "language": "python",
     "metadata": {},
     "outputs": [
      {
       "html": [
        "<table id=\"table4473257552\"><thead><tr><th>XCENTER</th><th>YCENTER</th><th>MAG</th><th>SHARPNESS</th><th>SROUND</th><th>GROUND</th><th>ID</th></tr></thead><thead><tr><th>pixels</th><th>pixels</th><th>#</th><th>#</th><th>#</th><th>#</th><th>#</th></tr></thead><tr><td>76.102</td><td>2.280</td><td>-4.065</td><td>0.708</td><td>0.533</td><td>0.089</td><td>1</td></tr><tr><td>228.560</td><td>10.609</td><td>-3.853</td><td>0.677</td><td>0.515</td><td>0.014</td><td>9</td></tr><tr><td>15.664</td><td>33.856</td><td>-2.523</td><td>0.686</td><td>-0.004</td><td>0.412</td><td>33</td></tr><tr><td>23.894</td><td>33.660</td><td>-2.704</td><td>0.897</td><td>0.593</td><td>0.716</td><td>34</td></tr><tr><td>12.132</td><td>37.093</td><td>-2.456</td><td>0.724</td><td>-0.187</td><td>-0.344</td><td>37</td></tr><tr><td>27.992</td><td>37.621</td><td>-2.290</td><td>0.904</td><td>-0.173</td><td>0.261</td><td>38</td></tr><tr><td>18.801</td><td>39.885</td><td>-5.496</td><td>0.750</td><td>-0.246</td><td>-0.244</td><td>39</td></tr><tr><td>52.958</td><td>40.482</td><td>-4.625</td><td>0.704</td><td>-0.014</td><td>0.124</td><td>43</td></tr><tr><td>18.947</td><td>43.118</td><td>-5.506</td><td>0.722</td><td>-0.189</td><td>-0.192</td><td>47</td></tr><tr><td>21.059</td><td>43.212</td><td>-5.532</td><td>0.737</td><td>0.547</td><td>-0.280</td><td>48</td></tr><tr><td>12.286</td><td>45.634</td><td>-3.003</td><td>0.688</td><td>0.110</td><td>-0.057</td><td>49</td></tr><tr><td>...</td><td>...</td><td>...</td><td>...</td><td>...</td><td>...</td><td>...</td></tr><tr><td>182.950</td><td>156.456</td><td>-5.276</td><td>0.692</td><td>0.060</td><td>0.110</td><td>187</td></tr><tr><td>188.263</td><td>164.265</td><td>-2.439</td><td>0.756</td><td>0.073</td><td>0.004</td><td>193</td></tr><tr><td>237.603</td><td>173.837</td><td>-3.345</td><td>0.713</td><td>-0.152</td><td>-0.239</td><td>202</td></tr><tr><td>190.817</td><td>175.009</td><td>-2.389</td><td>0.720</td><td>-0.047</td><td>-0.095</td><td>204</td></tr><tr><td>132.291</td><td>218.990</td><td>-2.590</td><td>0.868</td><td>0.217</td><td>0.248</td><td>237</td></tr><tr><td>149.097</td><td>224.671</td><td>-2.280</td><td>0.885</td><td>0.141</td><td>0.308</td><td>242</td></tr><tr><td>126.280</td><td>227.342</td><td>-2.165</td><td>0.897</td><td>0.176</td><td>0.295</td><td>244</td></tr><tr><td>144.490</td><td>231.700</td><td>-3.159</td><td>0.710</td><td>0.891</td><td>-0.398</td><td>250</td></tr><tr><td>181.507</td><td>233.432</td><td>-4.649</td><td>0.663</td><td>-0.323</td><td>0.007</td><td>255</td></tr><tr><td>10.566</td><td>243.944</td><td>-2.241</td><td>0.875</td><td>-0.342</td><td>-0.410</td><td>264</td></tr></table>"
       ],
       "metadata": {},
       "output_type": "pyout",
       "prompt_number": 3,
       "text": [
        "<Table rows=42 names=('XCENTER','YCENTER','MAG','SHARPNESS','SROUND','GROUND','ID') units=('pixels','pixels','#','#','#','#','#')>\n",
        "masked_array(data = [(76.102, 2.28, -4.065, 0.708, 0.533, 0.089, 1)\n",
        " (228.56, 10.609, -3.853, 0.677, 0.515, 0.014, 9)\n",
        " (15.664, 33.856, -2.523, 0.686, -0.004, 0.412, 33)\n",
        " (23.894, 33.66, -2.704, 0.897, 0.593, 0.716, 34)\n",
        " (12.132, 37.093, -2.456, 0.724, -0.187, -0.344, 37)\n",
        " (27.992, 37.621, -2.29, 0.904, -0.173, 0.261, 38)\n",
        " (18.801, 39.885, -5.496, 0.75, -0.246, -0.244, 39)\n",
        " (52.958, 40.482, -4.625, 0.704, -0.014, 0.124, 43)\n",
        " (18.947, 43.118, -5.506, 0.722, -0.189, -0.192, 47)\n",
        " (21.059, 43.212, -5.532, 0.737, 0.547, -0.28, 48)\n",
        " (12.286, 45.634, -3.003, 0.688, 0.11, -0.057, 49)\n",
        " (195.595, 47.251, -4.737, 0.7, -0.227, -0.061, 53)\n",
        " (16.096, 49.021, -3.187, 0.678, 0.966, 0.02, 55)\n",
        " (112.99, 50.012, -4.669, 0.718, -0.036, -0.028, 59)\n",
        " (211.938, 55.164, -4.827, 0.723, -0.023, -0.011, 64)\n",
        " (8.473, 66.838, -4.925, 0.671, -0.104, 0.005, 77)\n",
        " (186.838, 72.456, -5.069, 0.696, -0.023, 0.13, 86)\n",
        " (71.997, 79.797, -4.775, 0.719, 0.014, -0.075, 95)\n",
        " (30.217, 81.068, -3.326, 0.645, 0.117, 0.148, 98)\n",
        " (18.997, 84.649, -2.43, 0.708, -0.038, -0.199, 100)\n",
        " (34.219, 84.616, -2.762, 0.615, 0.717, -0.49, 101)\n",
        " (67.679, 87.705, -4.82, 0.712, 0.11, -0.186, 110)\n",
        " (18.875, 92.449, -3.238, 0.675, 0.354, -0.233, 111)\n",
        " (33.613, 92.879, -2.33, 0.773, -0.949, -0.965, 112)\n",
        " (243.038, 92.602, -2.258, 0.7, -0.005, 0.093, 114)\n",
        " (31.149, 96.824, -2.594, 0.664, 0.151, 0.059, 116)\n",
        " (60.633, 104.32, -4.471, 0.64, -0.383, 0.034, 130)\n",
        " (234.479, 125.268, -2.884, 0.774, -0.566, -0.377, 151)\n",
        " (164.184, 128.9, -4.785, 0.697, -0.059, -0.007, 154)\n",
        " (37.029, 130.148, -2.33, 0.731, 0.087, 0.006, 156)\n",
        " (253.984, 152.396, -3.958, 0.718, 0.728, -0.566, 179)\n",
        " (249.9, 155.308, -3.982, 0.606, 0.411, 0.374, 184)\n",
        " (182.95, 156.456, -5.276, 0.692, 0.06, 0.11, 187)\n",
        " (188.263, 164.265, -2.439, 0.756, 0.073, 0.004, 193)\n",
        " (237.603, 173.837, -3.345, 0.713, -0.152, -0.239, 202)\n",
        " (190.817, 175.009, -2.389, 0.72, -0.047, -0.095, 204)\n",
        " (132.291, 218.99, -2.59, 0.868, 0.217, 0.248, 237)\n",
        " (149.097, 224.671, -2.28, 0.885, 0.141, 0.308, 242)\n",
        " (126.28, 227.342, -2.165, 0.897, 0.176, 0.295, 244)\n",
        " (144.49, 231.7, -3.159, 0.71, 0.891, -0.398, 250)\n",
        " (181.507, 233.432, -4.649, 0.663, -0.323, 0.007, 255)\n",
        " (10.566, 243.944, -2.241, 0.875, -0.342, -0.41, 264)],\n",
        "             mask = [(False, False, False, False, False, False, False)\n",
        " (False, False, False, False, False, False, False)\n",
        " (False, False, False, False, False, False, False)\n",
        " (False, False, False, False, False, False, False)\n",
        " (False, False, False, False, False, False, False)\n",
        " (False, False, False, False, False, False, False)\n",
        " (False, False, False, False, False, False, False)\n",
        " (False, False, False, False, False, False, False)\n",
        " (False, False, False, False, False, False, False)\n",
        " (False, False, False, False, False, False, False)\n",
        " (False, False, False, False, False, False, False)\n",
        " (False, False, False, False, False, False, False)\n",
        " (False, False, False, False, False, False, False)\n",
        " (False, False, False, False, False, False, False)\n",
        " (False, False, False, False, False, False, False)\n",
        " (False, False, False, False, False, False, False)\n",
        " (False, False, False, False, False, False, False)\n",
        " (False, False, False, False, False, False, False)\n",
        " (False, False, False, False, False, False, False)\n",
        " (False, False, False, False, False, False, False)\n",
        " (False, False, False, False, False, False, False)\n",
        " (False, False, False, False, False, False, False)\n",
        " (False, False, False, False, False, False, False)\n",
        " (False, False, False, False, False, False, False)\n",
        " (False, False, False, False, False, False, False)\n",
        " (False, False, False, False, False, False, False)\n",
        " (False, False, False, False, False, False, False)\n",
        " (False, False, False, False, False, False, False)\n",
        " (False, False, False, False, False, False, False)\n",
        " (False, False, False, False, False, False, False)\n",
        " (False, False, False, False, False, False, False)\n",
        " (False, False, False, False, False, False, False)\n",
        " (False, False, False, False, False, False, False)\n",
        " (False, False, False, False, False, False, False)\n",
        " (False, False, False, False, False, False, False)\n",
        " (False, False, False, False, False, False, False)\n",
        " (False, False, False, False, False, False, False)\n",
        " (False, False, False, False, False, False, False)\n",
        " (False, False, False, False, False, False, False)\n",
        " (False, False, False, False, False, False, False)\n",
        " (False, False, False, False, False, False, False)\n",
        " (False, False, False, False, False, False, False)],\n",
        "       fill_value = (1e+20, 1e+20, 1e+20, 1e+20, 1e+20, 1e+20, 999999),\n",
        "            dtype = [('XCENTER', '<f8'), ('YCENTER', '<f8'), ('MAG', '<f8'), ('SHARPNESS', '<f8'), ('SROUND', '<f8'), ('GROUND', '<f8'), ('ID', '<i8')])"
       ]
      }
     ],
     "prompt_number": 3
    },
    {
     "cell_type": "markdown",
     "metadata": {},
     "source": [
      "<font color=\"green\" size=4>There was some confusion with this question and the next, some people added the xcenter and ycenter results to the selection. You can indeed extend the selection criteria to include locations, but that part of the problem was meant to be used with the goodmags array from the \"Analyze Photometry Results\" section. Below is an example of the extension to more criteria, which yields a smaller subset of stars, but you have to change the magntiude to be fainter than -2"
     ]
    },
    {
     "cell_type": "code",
     "collapsed": false,
     "input": [
      "phot[np.where( (phot['MAG'] > -2) & \\\n",
      "               (phot['SHARPNESS'] > 0.6) &\\\n",
      "               (phot['XCENTER'] >= 100) &\\\n",
      "               (phot['YCENTER'] >= 100) &\\\n",
      "               (phot['XCENTER'] <= 156) &\\\n",
      "               (phot['YCENTER'] <= 156))]\n"
     ],
     "language": "python",
     "metadata": {},
     "outputs": [
      {
       "html": [
        "<table id=\"table4473325968\"><thead><tr><th>XCENTER</th><th>YCENTER</th><th>MAG</th><th>SHARPNESS</th><th>SROUND</th><th>GROUND</th><th>ID</th></tr></thead><thead><tr><th>pixels</th><th>pixels</th><th>#</th><th>#</th><th>#</th><th>#</th><th>#</th></tr></thead><tr><td>145.960</td><td>116.562</td><td>-0.222</td><td>0.707</td><td>0.088</td><td>0.038</td><td>145</td></tr><tr><td>102.243</td><td>120.575</td><td>-0.416</td><td>0.663</td><td>-0.370</td><td>0.041</td><td>146</td></tr><tr><td>147.553</td><td>125.003</td><td>-0.083</td><td>0.692</td><td>-0.062</td><td>-0.083</td><td>150</td></tr><tr><td>132.943</td><td>126.505</td><td>-0.567</td><td>0.673</td><td>0.551</td><td>0.318</td><td>152</td></tr><tr><td>105.760</td><td>132.684</td><td>-1.143</td><td>0.709</td><td>0.224</td><td>0.049</td><td>159</td></tr><tr><td>128.401</td><td>138.020</td><td>-0.869</td><td>0.719</td><td>0.053</td><td>-0.275</td><td>161</td></tr><tr><td>141.451</td><td>148.484</td><td>-0.582</td><td>0.672</td><td>-0.227</td><td>0.090</td><td>174</td></tr><tr><td>145.115</td><td>153.710</td><td>-1.338</td><td>0.690</td><td>0.088</td><td>0.068</td><td>182</td></tr></table>"
       ],
       "metadata": {},
       "output_type": "pyout",
       "prompt_number": 4,
       "text": [
        "<Table rows=8 names=('XCENTER','YCENTER','MAG','SHARPNESS','SROUND','GROUND','ID') units=('pixels','pixels','#','#','#','#','#')>\n",
        "masked_array(data = [(145.96, 116.562, -0.222, 0.707, 0.088, 0.038, 145)\n",
        " (102.243, 120.575, -0.416, 0.663, -0.37, 0.041, 146)\n",
        " (147.553, 125.003, -0.083, 0.692, -0.062, -0.083, 150)\n",
        " (132.943, 126.505, -0.567, 0.673, 0.551, 0.318, 152)\n",
        " (105.76, 132.684, -1.143, 0.709, 0.224, 0.049, 159)\n",
        " (128.401, 138.02, -0.869, 0.719, 0.053, -0.275, 161)\n",
        " (141.451, 148.484, -0.582, 0.672, -0.227, 0.09, 174)\n",
        " (145.115, 153.71, -1.338, 0.69, 0.088, 0.068, 182)],\n",
        "             mask = [(False, False, False, False, False, False, False)\n",
        " (False, False, False, False, False, False, False)\n",
        " (False, False, False, False, False, False, False)\n",
        " (False, False, False, False, False, False, False)\n",
        " (False, False, False, False, False, False, False)\n",
        " (False, False, False, False, False, False, False)\n",
        " (False, False, False, False, False, False, False)\n",
        " (False, False, False, False, False, False, False)],\n",
        "       fill_value = (1e+20, 1e+20, 1e+20, 1e+20, 1e+20, 1e+20, 999999),\n",
        "            dtype = [('XCENTER', '<f8'), ('YCENTER', '<f8'), ('MAG', '<f8'), ('SHARPNESS', '<f8'), ('SROUND', '<f8'), ('GROUND', '<f8'), ('ID', '<i8')])"
       ]
      }
     ],
     "prompt_number": 4
    },
    {
     "cell_type": "markdown",
     "metadata": {},
     "source": [
      "<font color=\"green\" size=4><br>In the section \"Analyze Photometry Results\", also extract XCENTER and YCENTER that are associated with goodmags. Only plot histogram of goodmags for stars at least 100 pixels away from the image edges."
     ]
    },
    {
     "cell_type": "code",
     "collapsed": false,
     "input": [
      "# Manipulate phot results using the astropy ascii package.  \n",
      "from astropy.io import ascii\n",
      "import numpy as np\n",
      "\n",
      "reader = ascii.Daophot()\n",
      "photfile = reader.read('../data/test.phot')\n",
      "goodmags=photfile[~photfile['MAG'].mask] #all the mags which had no INDEF values, now select for pixel location\n",
      "selection = goodmags[np.where( (goodmags['XCENTER'] >= 100) &\\\n",
      "                               (goodmags['XCENTER'] <= 156) &\\\n",
      "                               (goodmags['YCENTER'] >= 100) &\\\n",
      "                               (goodmags['YCENTER'] <= 156))] \n",
      "                    \n",
      "selection"
     ],
     "language": "python",
     "metadata": {},
     "outputs": [
      {
       "html": [
        "<table id=\"table4473562384\"><thead><tr><th>IMAGE</th><th>XINIT</th><th>YINIT</th><th>ID</th><th>COORDS</th><th>LID</th><th>XCENTER</th><th>YCENTER</th><th>XSHIFT</th><th>YSHIFT</th><th>XERR</th><th>YERR</th><th>CIER</th><th>CERROR</th><th>MSKY</th><th>STDEV</th><th>SSKEW</th><th>NSKY</th><th>NSREJ</th><th>SIER</th><th>SERROR</th><th>ITIME</th><th>XAIRMASS</th><th>IFILTER</th><th>OTIME</th><th>RAPERT</th><th>SUM</th><th>AREA</th><th>FLUX</th><th>MAG</th><th>MERR</th><th>PIER</th><th>PERROR</th></tr></thead><thead><tr><th>imagename</th><th>pixels</th><th>pixels</th><th></th><th>filename</th><th></th><th>pixels</th><th>pixels</th><th>pixels</th><th>pixels</th><th>pixels</th><th>pixels</th><th></th><th>cerrors</th><th>counts</th><th>counts</th><th>counts</th><th>npix</th><th>npix</th><th></th><th>serrors</th><th>timeunit</th><th>number</th><th>name</th><th>timeunit</th><th>scale</th><th>counts</th><th>pixels</th><th>counts</th><th>mag</th><th>mag</th><th></th><th>perrors</th></tr></thead><tr><td>n8q624e8q_cal.fits[1]</td><td>102.243</td><td>120.575</td><td>146</td><td>test.stars</td><td>146</td><td>102.332</td><td>120.596</td><td>0.089</td><td>0.021</td><td>0.079</td><td>0.075</td><td>0</td><td>NoError</td><td>0.299269</td><td>0.0751929</td><td>0.06533106</td><td>557</td><td>263</td><td>0</td><td>NoError</td><td>1407.892</td><td>--</td><td>F160W</td><td>--</td><td>4.00</td><td>67.24822</td><td>50.50751</td><td>52.13289</td><td>29.025</td><td>0.066</td><td>0</td><td>NoError</td></tr><tr><td>n8q624e8q_cal.fits[1]</td><td>147.553</td><td>125.003</td><td>150</td><td>test.stars</td><td>150</td><td>147.570</td><td>124.977</td><td>0.017</td><td>-0.026</td><td>0.095</td><td>0.100</td><td>0</td><td>NoError</td><td>0.3422745</td><td>0.132521</td><td>0.1172747</td><td>558</td><td>258</td><td>0</td><td>NoError</td><td>1407.892</td><td>--</td><td>F160W</td><td>--</td><td>4.00</td><td>45.29793</td><td>50.47491</td><td>28.02166</td><td>29.699</td><td>0.096</td><td>0</td><td>NoError</td></tr><tr><td>n8q624e8q_cal.fits[1]</td><td>132.943</td><td>126.505</td><td>152</td><td>test.stars</td><td>152</td><td>132.771</td><td>126.520</td><td>-0.172</td><td>0.015</td><td>0.071</td><td>0.070</td><td>0</td><td>NoError</td><td>0.2851089</td><td>0.06467949</td><td>0.05740613</td><td>572</td><td>249</td><td>0</td><td>NoError</td><td>1407.892</td><td>--</td><td>F160W</td><td>--</td><td>4.00</td><td>77.42363</td><td>50.35795</td><td>63.06613</td><td>28.819</td><td>0.059</td><td>0</td><td>NoError</td></tr><tr><td>n8q624e8q_cal.fits[1]</td><td>105.760</td><td>132.684</td><td>159</td><td>test.stars</td><td>159</td><td>105.686</td><td>132.639</td><td>-0.074</td><td>-0.045</td><td>0.056</td><td>0.058</td><td>0</td><td>NoError</td><td>0.3085113</td><td>0.07176849</td><td>0.06058792</td><td>529</td><td>292</td><td>0</td><td>NoError</td><td>1407.892</td><td>--</td><td>F160W</td><td>--</td><td>4.00</td><td>89.25744</td><td>50.50165</td><td>73.67712</td><td>28.650</td><td>0.055</td><td>0</td><td>NoError</td></tr><tr><td>n8q624e8q_cal.fits[1]</td><td>141.451</td><td>148.484</td><td>174</td><td>test.stars</td><td>174</td><td>141.419</td><td>148.563</td><td>-0.032</td><td>0.079</td><td>0.068</td><td>0.068</td><td>0</td><td>NoError</td><td>0.327949</td><td>0.09177621</td><td>0.07559611</td><td>623</td><td>192</td><td>0</td><td>NoError</td><td>1407.892</td><td>--</td><td>F160W</td><td>--</td><td>4.00</td><td>76.96372</td><td>50.64872</td><td>60.35353</td><td>28.866</td><td>0.061</td><td>0</td><td>NoError</td></tr><tr><td>n8q624e8q_cal.fits[1]</td><td>145.115</td><td>153.710</td><td>182</td><td>test.stars</td><td>182</td><td>145.141</td><td>153.668</td><td>0.026</td><td>-0.042</td><td>0.052</td><td>0.051</td><td>0</td><td>NoError</td><td>0.3167602</td><td>0.08639767</td><td>0.07071445</td><td>627</td><td>186</td><td>0</td><td>NoError</td><td>1407.892</td><td>--</td><td>F160W</td><td>--</td><td>4.00</td><td>111.5333</td><td>50.51352</td><td>95.53259</td><td>28.368</td><td>0.048</td><td>0</td><td>NoError</td></tr></table>"
       ],
       "metadata": {},
       "output_type": "pyout",
       "prompt_number": 5,
       "text": [
        "<Table rows=6 names=('IMAGE','XINIT','YINIT','ID','COORDS','LID','XCENTER','YCENTER','XSHIFT','YSHIFT','XERR','YERR','CIER','CERROR','MSKY','STDEV','SSKEW','NSKY','NSREJ','SIER','SERROR','ITIME','XAIRMASS','IFILTER','OTIME','RAPERT','SUM','AREA','FLUX','MAG','MERR','PIER','PERROR') units=('imagename','pixels','pixels',None,'filename',None,'pixels','pixels','pixels','pixels','pixels','pixels',None,'cerrors','counts','counts','counts','npix','npix',None,'serrors','timeunit','number','name','timeunit','scale','counts','pixels','counts','mag','mag',None,'perrors')>\n",
        "masked_array(data = [ ('n8q624e8q_cal.fits[1]', 102.243, 120.575, 146, 'test.stars', 146, 102.332, 120.596, 0.089, 0.021, 0.079, 0.075, 0, 'NoError', 0.299269, 0.0751929, 0.06533106, 557, 263, 0, 'NoError', 1407.892, --, 'F160W', --, 4.0, 67.24822, 50.50751, 52.13289, 29.025, 0.066, 0, 'NoError')\n",
        " ('n8q624e8q_cal.fits[1]', 147.553, 125.003, 150, 'test.stars', 150, 147.57, 124.977, 0.017, -0.026, 0.095, 0.1, 0, 'NoError', 0.3422745, 0.132521, 0.1172747, 558, 258, 0, 'NoError', 1407.892, --, 'F160W', --, 4.0, 45.29793, 50.47491, 28.02166, 29.699, 0.096, 0, 'NoError')\n",
        " ('n8q624e8q_cal.fits[1]', 132.943, 126.505, 152, 'test.stars', 152, 132.771, 126.52, -0.172, 0.015, 0.071, 0.07, 0, 'NoError', 0.2851089, 0.06467949, 0.05740613, 572, 249, 0, 'NoError', 1407.892, --, 'F160W', --, 4.0, 77.42363, 50.35795, 63.06613, 28.819, 0.059, 0, 'NoError')\n",
        " ('n8q624e8q_cal.fits[1]', 105.76, 132.684, 159, 'test.stars', 159, 105.686, 132.639, -0.074, -0.045, 0.056, 0.058, 0, 'NoError', 0.3085113, 0.07176849, 0.06058792, 529, 292, 0, 'NoError', 1407.892, --, 'F160W', --, 4.0, 89.25744, 50.50165, 73.67712, 28.65, 0.055, 0, 'NoError')\n",
        " ('n8q624e8q_cal.fits[1]', 141.451, 148.484, 174, 'test.stars', 174, 141.419, 148.563, -0.032, 0.079, 0.068, 0.068, 0, 'NoError', 0.327949, 0.09177621, 0.07559611, 623, 192, 0, 'NoError', 1407.892, --, 'F160W', --, 4.0, 76.96372, 50.64872, 60.35353, 28.866, 0.061, 0, 'NoError')\n",
        " ('n8q624e8q_cal.fits[1]', 145.115, 153.71, 182, 'test.stars', 182, 145.141, 153.668, 0.026, -0.042, 0.052, 0.051, 0, 'NoError', 0.3167602, 0.08639767, 0.07071445, 627, 186, 0, 'NoError', 1407.892, --, 'F160W', --, 4.0, 111.5333, 50.51352, 95.53259, 28.368, 0.048, 0, 'NoError')],\n",
        "             mask = [ (False, False, False, False, False, False, False, False, False, False, False, False, False, False, False, False, False, False, False, False, False, False, True, False, True, False, False, False, False, False, False, False, False)\n",
        " (False, False, False, False, False, False, False, False, False, False, False, False, False, False, False, False, False, False, False, False, False, False, True, False, True, False, False, False, False, False, False, False, False)\n",
        " (False, False, False, False, False, False, False, False, False, False, False, False, False, False, False, False, False, False, False, False, False, False, True, False, True, False, False, False, False, False, False, False, False)\n",
        " (False, False, False, False, False, False, False, False, False, False, False, False, False, False, False, False, False, False, False, False, False, False, True, False, True, False, False, False, False, False, False, False, False)\n",
        " (False, False, False, False, False, False, False, False, False, False, False, False, False, False, False, False, False, False, False, False, False, False, True, False, True, False, False, False, False, False, False, False, False)\n",
        " (False, False, False, False, False, False, False, False, False, False, False, False, False, False, False, False, False, False, False, False, False, False, True, False, True, False, False, False, False, False, False, False, False)],\n",
        "       fill_value = ('N/A', 1e+20, 1e+20, 999999, 'N/A', 999999, 1e+20, 1e+20, 1e+20, 1e+20, 1e+20, 1e+20, 999999, 'N/A', 1e+20, 1e+20, 1e+20, 999999, 999999, 999999, 'N/A', 1e+20, 1e+20, 'N/A', 'N', 1e+20, 1e+20, 1e+20, 1e+20, 1e+20, 1e+20, 999999, 'N/A'),\n",
        "            dtype = [('IMAGE', 'S21'), ('XINIT', '<f8'), ('YINIT', '<f8'), ('ID', '<i8'), ('COORDS', 'S10'), ('LID', '<i8'), ('XCENTER', '<f8'), ('YCENTER', '<f8'), ('XSHIFT', '<f8'), ('YSHIFT', '<f8'), ('XERR', '<f8'), ('YERR', '<f8'), ('CIER', '<i8'), ('CERROR', 'S9'), ('MSKY', '<f8'), ('STDEV', '<f8'), ('SSKEW', '<f8'), ('NSKY', '<i8'), ('NSREJ', '<i8'), ('SIER', '<i8'), ('SERROR', 'S7'), ('ITIME', '<f8'), ('XAIRMASS', '<f8'), ('IFILTER', 'S5'), ('OTIME', 'S1'), ('RAPERT', '<f8'), ('SUM', '<f8'), ('AREA', '<f8'), ('FLUX', '<f8'), ('MAG', '<f8'), ('MERR', '<f8'), ('PIER', '<i8'), ('PERROR', 'S9')])"
       ]
      }
     ],
     "prompt_number": 5
    },
    {
     "cell_type": "code",
     "collapsed": false,
     "input": [
      "#keep in mind how the logic works with the data above, that you want to start at the 100th pixel, \n",
      "#and daophot starts numbering pixels at 1\n",
      "\n",
      "x=np.arange(10)\n",
      "print \"\\nComparing integer numbers:\"\n",
      "print x\n",
      "print \"\\n x>3\\n\",x[x > 3] #starts with 4\n",
      "print  \"\\n x>=3\\n\",x[x >= 3] #starts with 3\n",
      "\n",
      "#And this extends to FLOAT numbers you are comparing against:\n",
      "print \"\\nComparing float numbers:\"\n",
      "x=np.arange(0,10,0.2) \n",
      "print x\n",
      "print \"\\nx > 3\\n\", x[x > 3] #starts with 3.2\n",
      "print \"\\nx >= 3\\n\", x[x >= 3] #starts with 3\n",
      "\n",
      "#So for the above, if you want to get the XCENTER and YCENTER floating values selected \n",
      "#correctly you need to use the >= 100 because they are floats, >99 will include 99.4  \n",
      "#and you want selection on whole pixels starting at 100, just a nitpicky difference to consider\n",
      "\n",
      "selection = goodmags[np.where( (goodmags['XCENTER'] > 99) &\\\n",
      "                               (goodmags['XCENTER'] < 157) &\\\n",
      "                               (goodmags['YCENTER'] > 99) &\\\n",
      "                               (goodmags['YCENTER'] < 157))] \n",
      "\n",
      "print \"\\nFrom the full selection, using > 99:\\nCan you see the creeper?\\n\\n\",selection\n",
      "\n",
      "selection = goodmags[np.where( (goodmags['XCENTER'] >= 100) &\\\n",
      "                               (goodmags['XCENTER'] <= 156) &\\\n",
      "                               (goodmags['YCENTER'] >= 100) &\\\n",
      "                               (goodmags['YCENTER'] <= 156))] \n",
      "\n",
      "print \"\\nFrom the full selection, using >= 100:\\n\\n\",selection\n"
     ],
     "language": "python",
     "metadata": {},
     "outputs": [
      {
       "output_type": "stream",
       "stream": "stdout",
       "text": [
        "\n",
        "Comparing integer numbers:\n",
        "[0 1 2 3 4 5 6 7 8 9]\n",
        "\n",
        " x>3\n",
        "[4 5 6 7 8 9]\n",
        "\n",
        " x>=3\n",
        "[3 4 5 6 7 8 9]\n",
        "\n",
        "Comparing float numbers:\n",
        "[ 0.   0.2  0.4  0.6  0.8  1.   1.2  1.4  1.6  1.8  2.   2.2  2.4  2.6  2.8\n",
        "  3.   3.2  3.4  3.6  3.8  4.   4.2  4.4  4.6  4.8  5.   5.2  5.4  5.6  5.8\n",
        "  6.   6.2  6.4  6.6  6.8  7.   7.2  7.4  7.6  7.8  8.   8.2  8.4  8.6  8.8\n",
        "  9.   9.2  9.4  9.6  9.8]\n",
        "\n",
        "x > 3\n",
        "[ 3.2  3.4  3.6  3.8  4.   4.2  4.4  4.6  4.8  5.   5.2  5.4  5.6  5.8  6.\n",
        "  6.2  6.4  6.6  6.8  7.   7.2  7.4  7.6  7.8  8.   8.2  8.4  8.6  8.8  9.\n",
        "  9.2  9.4  9.6  9.8]\n",
        "\n",
        "x >= 3\n",
        "[ 3.   3.2  3.4  3.6  3.8  4.   4.2  4.4  4.6  4.8  5.   5.2  5.4  5.6  5.8\n",
        "  6.   6.2  6.4  6.6  6.8  7.   7.2  7.4  7.6  7.8  8.   8.2  8.4  8.6  8.8\n",
        "  9.   9.2  9.4  9.6  9.8]\n",
        "\n",
        "From the full selection, using > 99:\n",
        "Can you see the creeper?\n",
        "\n",
        "         IMAGE            XINIT      YINIT      ID   ...  MERR   PIER   PERROR \n",
        "       imagename          pixels     pixels          ...  mag          perrors \n",
        "----------------------- ---------- ---------- ------ ... ------ ----- ---------\n",
        "n8q624e8q_cal.fits[1]   102.243    120.575    146    ... 0.066  0     NoError  \n",
        "n8q624e8q_cal.fits[1]   147.553    125.003    150    ... 0.096  0     NoError  \n",
        "n8q624e8q_cal.fits[1]   132.943    126.505    152    ... 0.059  0     NoError  \n",
        "n8q624e8q_cal.fits[1]   105.760    132.684    159    ... 0.055  0     NoError  \n",
        "n8q624e8q_cal.fits[1]   99.139     149.567    173    ... 0.046  0     NoError  \n",
        "n8q624e8q_cal.fits[1]   141.451    148.484    174    ... 0.061  0     NoError  \n",
        "n8q624e8q_cal.fits[1]   145.115    153.710    182    ... 0.048  0     NoError  \n",
        "\n",
        "From the full selection, using >= 100:\n",
        "\n"
       ]
      },
      {
       "output_type": "stream",
       "stream": "stdout",
       "text": [
        "         IMAGE            XINIT      YINIT      ID   ...  MERR   PIER   PERROR \n",
        "       imagename          pixels     pixels          ...  mag          perrors \n",
        "----------------------- ---------- ---------- ------ ... ------ ----- ---------\n",
        "n8q624e8q_cal.fits[1]   102.243    120.575    146    ... 0.066  0     NoError  \n",
        "n8q624e8q_cal.fits[1]   147.553    125.003    150    ... 0.096  0     NoError  \n",
        "n8q624e8q_cal.fits[1]   132.943    126.505    152    ... 0.059  0     NoError  \n",
        "n8q624e8q_cal.fits[1]   105.760    132.684    159    ... 0.055  0     NoError  \n",
        "n8q624e8q_cal.fits[1]   141.451    148.484    174    ... 0.061  0     NoError  \n",
        "n8q624e8q_cal.fits[1]   145.115    153.710    182    ... 0.048  0     NoError  \n"
       ]
      }
     ],
     "prompt_number": 6
    },
    {
     "cell_type": "code",
     "collapsed": false,
     "input": [
      "sample=selection['MAG']\n",
      "plt.hist(sample, bins=5)\n",
      "plt.xlabel('Mag')\n",
      "plt.ylabel('N')\n",
      "plt.title('Recovered Magnitudes in central image')"
     ],
     "language": "python",
     "metadata": {},
     "outputs": [
      {
       "metadata": {},
       "output_type": "pyout",
       "prompt_number": 7,
       "text": [
        "<matplotlib.text.Text at 0x10ac482d0>"
       ]
      },
      {
       "metadata": {},
       "output_type": "display_data",
       "png": "[encoded data removed]",
       "text": [
        "<matplotlib.figure.Figure at 0x10aa18950>"
       ]
      }
     ],
     "prompt_number": 7
    },
    {
     "cell_type": "heading",
     "level": 2,
     "metadata": {},
     "source": [
      "Part 2"
     ]
    },
    {
     "cell_type": "markdown",
     "metadata": {},
     "source": [
      "<font color=\"green\" size=4> Write Python commands that replace the functionality of \"!tail phot.log\". That is, print the last 10 lines of phot.log."
     ]
    },
    {
     "cell_type": "code",
     "collapsed": false,
     "input": [
      "!tail phot.log\n",
      "fh=open('../data/phot.log')\n",
      "stars=fh.readlines()\n",
      "fh.close()\n",
      "print(\"\\nor from the simple solution\\n\")\n",
      "stars[-10:]"
     ],
     "language": "python",
     "metadata": {},
     "outputs": [
      {
       "output_type": "stream",
       "stream": "stdout",
       "text": [
        "n8q624e8q_cal.fits[1]    197.36   241.94  0.409375    INDEF  err\r\n",
        "n8q624e8q_cal.fits[1]     10.49   243.94  0.361452   27.511  ok\r\n",
        "n8q624e8q_cal.fits[1]    142.93   244.49  0.615968   28.300  ok\r\n",
        "n8q624e8q_cal.fits[1]     99.79   250.37  0.268955   27.937  err\r\n",
        "n8q624e8q_cal.fits[1]     99.80   250.44  0.268368   27.938  ok\r\n",
        "n8q624e8q_cal.fits[1]    241.21   249.63  0.286848   28.717  ok\r\n",
        "n8q624e8q_cal.fits[1]     38.93   251.18  0.330496   29.432  ok\r\n",
        "n8q624e8q_cal.fits[1]    141.47   252.78  0.572105    INDEF  err\r\n",
        "n8q624e8q_cal.fits[1]     68.90   253.52  0.231617    INDEF  err\r\n",
        "n8q624e8q_cal.fits[1]    173.37   253.73  0.537419    INDEF  err\r\n"
       ]
      },
      {
       "output_type": "stream",
       "stream": "stdout",
       "text": [
        "\n",
        "or from the simple solution\n",
        "\n"
       ]
      },
      {
       "metadata": {},
       "output_type": "pyout",
       "prompt_number": 8,
       "text": [
        "['n8q624e8q_cal.fits[1]    197.36   241.94  0.409375    INDEF  err\\n',\n",
        " 'n8q624e8q_cal.fits[1]     10.49   243.94  0.361452   27.511  ok\\n',\n",
        " 'n8q624e8q_cal.fits[1]    142.93   244.49  0.615968   28.300  ok\\n',\n",
        " 'n8q624e8q_cal.fits[1]     99.79   250.37  0.268955   27.937  err\\n',\n",
        " 'n8q624e8q_cal.fits[1]     99.80   250.44  0.268368   27.938  ok\\n',\n",
        " 'n8q624e8q_cal.fits[1]    241.21   249.63  0.286848   28.717  ok\\n',\n",
        " 'n8q624e8q_cal.fits[1]     38.93   251.18  0.330496   29.432  ok\\n',\n",
        " 'n8q624e8q_cal.fits[1]    141.47   252.78  0.572105    INDEF  err\\n',\n",
        " 'n8q624e8q_cal.fits[1]     68.90   253.52  0.231617    INDEF  err\\n',\n",
        " 'n8q624e8q_cal.fits[1]    173.37   253.73  0.537419    INDEF  err\\n']"
       ]
      }
     ],
     "prompt_number": 8
    },
    {
     "cell_type": "markdown",
     "metadata": {},
     "source": [
      "<font color=\"green\" size=4> It's better to use the with clause to manage the filehandle status; at the end of the <code>with</code> block the file will be automatically closed:"
     ]
    },
    {
     "cell_type": "code",
     "collapsed": false,
     "input": [
      "with open('../data/phot.log') as data:\n",
      "    stars=data.readlines()\n",
      "\n",
      "stars[-10:]"
     ],
     "language": "python",
     "metadata": {},
     "outputs": [
      {
       "metadata": {},
       "output_type": "pyout",
       "prompt_number": 9,
       "text": [
        "['n8q624e8q_cal.fits[1]    197.36   241.94  0.409375    INDEF  err\\n',\n",
        " 'n8q624e8q_cal.fits[1]     10.49   243.94  0.361452   27.511  ok\\n',\n",
        " 'n8q624e8q_cal.fits[1]    142.93   244.49  0.615968   28.300  ok\\n',\n",
        " 'n8q624e8q_cal.fits[1]     99.79   250.37  0.268955   27.937  err\\n',\n",
        " 'n8q624e8q_cal.fits[1]     99.80   250.44  0.268368   27.938  ok\\n',\n",
        " 'n8q624e8q_cal.fits[1]    241.21   249.63  0.286848   28.717  ok\\n',\n",
        " 'n8q624e8q_cal.fits[1]     38.93   251.18  0.330496   29.432  ok\\n',\n",
        " 'n8q624e8q_cal.fits[1]    141.47   252.78  0.572105    INDEF  err\\n',\n",
        " 'n8q624e8q_cal.fits[1]     68.90   253.52  0.231617    INDEF  err\\n',\n",
        " 'n8q624e8q_cal.fits[1]    173.37   253.73  0.537419    INDEF  err\\n']"
       ]
      }
     ],
     "prompt_number": 9
    },
    {
     "cell_type": "markdown",
     "metadata": {},
     "source": [
      " <font color=\"green\" size=4> Something to keep in mind here especially if you are using this to read in a text file by hand. If you use readlines, even at the head of a for loop with this syntax, Python is doing more work than you might think :"
     ]
    },
    {
     "cell_type": "code",
     "collapsed": false,
     "input": [
      "fh=open('../data/phot.log')\n",
      "for i in fh.readlines()[-10:]:\n",
      "    print i.rstrip()\n",
      "\n",
      "fh.close()"
     ],
     "language": "python",
     "metadata": {},
     "outputs": [
      {
       "output_type": "stream",
       "stream": "stdout",
       "text": [
        "n8q624e8q_cal.fits[1]    197.36   241.94  0.409375    INDEF  err\n",
        "n8q624e8q_cal.fits[1]     10.49   243.94  0.361452   27.511  ok\n",
        "n8q624e8q_cal.fits[1]    142.93   244.49  0.615968   28.300  ok\n",
        "n8q624e8q_cal.fits[1]     99.79   250.37  0.268955   27.937  err\n",
        "n8q624e8q_cal.fits[1]     99.80   250.44  0.268368   27.938  ok\n",
        "n8q624e8q_cal.fits[1]    241.21   249.63  0.286848   28.717  ok\n",
        "n8q624e8q_cal.fits[1]     38.93   251.18  0.330496   29.432  ok\n",
        "n8q624e8q_cal.fits[1]    141.47   252.78  0.572105    INDEF  err\n",
        "n8q624e8q_cal.fits[1]     68.90   253.52  0.231617    INDEF  err\n",
        "n8q624e8q_cal.fits[1]    173.37   253.73  0.537419    INDEF  err\n"
       ]
      }
     ],
     "prompt_number": 10
    },
    {
     "cell_type": "markdown",
     "metadata": {},
     "source": [
      "<font color=\"green\" size=4>Python  will read the entire file into memory first and then create a list, and then loop through the last 10 lines, this could cause more overhead than you are thinking for extremely large files. Is there a better way to do it? Perhaps, if the whole file can't fit into  memory and you know that you want only a portion, you can read it in reverse, in chunks, this takes a little more experience and programming, It's something to keep in mind, but in practice you might never run into this situation. "
     ]
    },
    {
     "cell_type": "markdown",
     "metadata": {},
     "source": [
      "<font color=\"green\" size=4>**In general, it's considered better practice to read the file in to start with and use it as an iterable if you need to do things to each line. The additional added value of using the with-open clause is that it takes care of the file garbage collection for you, which could become important if you are opening many files. "
     ]
    },
    {
     "cell_type": "code",
     "collapsed": false,
     "input": [
      "with open('../data/phot.log') as fh:\n",
      "    stars=fh.readlines()\n",
      "    for line in stars[-10:]: #uses the file object as an iterable and do stuff to it\n",
      "        print line.rstrip()    \n"
     ],
     "language": "python",
     "metadata": {},
     "outputs": [
      {
       "output_type": "stream",
       "stream": "stdout",
       "text": [
        "n8q624e8q_cal.fits[1]    197.36   241.94  0.409375    INDEF  err\n",
        "n8q624e8q_cal.fits[1]     10.49   243.94  0.361452   27.511  ok\n",
        "n8q624e8q_cal.fits[1]    142.93   244.49  0.615968   28.300  ok\n",
        "n8q624e8q_cal.fits[1]     99.79   250.37  0.268955   27.937  err\n",
        "n8q624e8q_cal.fits[1]     99.80   250.44  0.268368   27.938  ok\n",
        "n8q624e8q_cal.fits[1]    241.21   249.63  0.286848   28.717  ok\n",
        "n8q624e8q_cal.fits[1]     38.93   251.18  0.330496   29.432  ok\n",
        "n8q624e8q_cal.fits[1]    141.47   252.78  0.572105    INDEF  err\n",
        "n8q624e8q_cal.fits[1]     68.90   253.52  0.231617    INDEF  err\n",
        "n8q624e8q_cal.fits[1]    173.37   253.73  0.537419    INDEF  err\n"
       ]
      }
     ],
     "prompt_number": 11
    },
    {
     "cell_type": "markdown",
     "metadata": {},
     "source": [
      "<font color=\"green\" size=4> You can also use the file handle as the iterable:"
     ]
    },
    {
     "cell_type": "code",
     "collapsed": false,
     "input": [
      "with open('../data/phot.log') as fh:\n",
      "    for line in fh: print line.rstrip()\n"
     ],
     "language": "python",
     "metadata": {},
     "outputs": [
      {
       "output_type": "stream",
       "stream": "stdout",
       "text": [
        "n8q624e8q_cal.fits[1]     76.15     2.18  0.539946    INDEF  err\n",
        "n8q624e8q_cal.fits[1]     76.15     2.18  0.539946    INDEF  err\n",
        "n8q624e8q_cal.fits[1]    165.60     2.46  1.410098    INDEF  err\n",
        "n8q624e8q_cal.fits[1]    194.28     2.65  0.917833    INDEF  err\n",
        "n8q624e8q_cal.fits[1]    109.47     4.70  0.431631    INDEF  err\n",
        "n8q624e8q_cal.fits[1]     22.57     5.76  0.852349    INDEF  err\n",
        "n8q624e8q_cal.fits[1]    175.13     1.00  2.945082    INDEF  err\n",
        "n8q624e8q_cal.fits[1]    214.92     5.89  0.771412    INDEF  err\n",
        "n8q624e8q_cal.fits[1]    228.42    10.52  0.465744   25.737  ok\n",
        "n8q624e8q_cal.fits[1]    175.25     6.10  2.325989   26.545  err\n",
        "n8q624e8q_cal.fits[1]    206.27    10.70  0.804542   29.145  ok\n",
        "n8q624e8q_cal.fits[1]    102.25    14.10  0.408118   28.597  ok\n",
        "n8q624e8q_cal.fits[1]    175.13     1.00  2.945082    INDEF  err\n",
        "n8q624e8q_cal.fits[1]    175.13     1.00  2.945082    INDEF  err\n",
        "n8q624e8q_cal.fits[1]    214.70    17.53  0.641411   29.467  ok\n",
        "n8q624e8q_cal.fits[1]    226.01    19.21  0.464344   28.571  ok\n",
        "n8q624e8q_cal.fits[1]     72.68    21.38  0.624349   29.630  ok\n",
        "n8q624e8q_cal.fits[1]     97.60    20.66  0.433033   29.107  ok\n",
        "n8q624e8q_cal.fits[1]    209.88    21.77  0.656182   28.933  ok\n",
        "n8q624e8q_cal.fits[1]      1.60    23.11  1.027695    INDEF  err\n",
        "n8q624e8q_cal.fits[1]     54.09    23.54  0.731071    INDEF  err\n",
        "n8q624e8q_cal.fits[1]     35.99    25.34  1.503834   27.894  ok\n",
        "n8q624e8q_cal.fits[1]     48.41    26.36  0.812239   28.199  ok\n",
        "n8q624e8q_cal.fits[1]     79.70    26.69  0.567414   28.627  ok\n",
        "n8q624e8q_cal.fits[1]    137.19    29.49  0.346735   28.548  ok\n",
        "n8q624e8q_cal.fits[1]     19.98    41.55   5.47311    INDEF  err\n",
        "n8q624e8q_cal.fits[1]     79.46    29.53  0.556259   28.527  ok\n",
        "n8q624e8q_cal.fits[1]     30.10    31.02  2.208171    INDEF  err\n",
        "n8q624e8q_cal.fits[1]    248.70    31.00  0.308556    INDEF  err\n",
        "n8q624e8q_cal.fits[1]     30.10    31.02  2.208171    INDEF  err\n",
        "n8q624e8q_cal.fits[1]     19.98    41.55   5.47311    INDEF  err\n",
        "n8q624e8q_cal.fits[1]     19.97    41.55   5.47311    INDEF  err\n",
        "n8q624e8q_cal.fits[1]     19.97    41.55   5.47311    INDEF  err\n",
        "n8q624e8q_cal.fits[1]     19.98    41.55   5.47311    INDEF  err\n",
        "n8q624e8q_cal.fits[1]    230.79    35.45    0.3913    INDEF  err\n",
        "n8q624e8q_cal.fits[1]    128.62    36.37  0.349372   28.377  ok\n",
        "n8q624e8q_cal.fits[1]     19.97    41.55   5.47311    INDEF  err\n",
        "n8q624e8q_cal.fits[1]     19.97    41.55   5.47311    INDEF  err\n",
        "n8q624e8q_cal.fits[1]     19.97    41.55   5.47311    INDEF  err\n",
        "n8q624e8q_cal.fits[1]    117.39    39.48  0.362554    INDEF  err\n",
        "n8q624e8q_cal.fits[1]    224.02    39.39  0.449052   29.726  ok\n",
        "n8q624e8q_cal.fits[1]     19.97    41.55   5.47311    INDEF  err\n",
        "n8q624e8q_cal.fits[1]     52.97    40.43  1.327233   25.209  ok\n",
        "n8q624e8q_cal.fits[1]     10.73    41.00  5.969469   26.438  ok\n",
        "n8q624e8q_cal.fits[1]    150.12    41.05  0.412324   28.917  ok\n",
        "n8q624e8q_cal.fits[1]     19.97    41.55   5.47311    INDEF  err\n",
        "n8q624e8q_cal.fits[1]     19.97    41.55   5.47311    INDEF  err\n",
        "n8q624e8q_cal.fits[1]     19.97    41.55   5.47311    INDEF  err\n",
        "n8q624e8q_cal.fits[1]     19.97    41.55   5.47311    INDEF  err\n",
        "n8q624e8q_cal.fits[1]     19.97    41.55   5.47311    INDEF  err\n",
        "n8q624e8q_cal.fits[1]     85.76    45.66  0.548665   29.276  ok\n",
        "n8q624e8q_cal.fits[1]    232.51    45.71  0.305238   27.983  ok\n",
        "n8q624e8q_cal.fits[1]    195.61    47.30  0.799633    INDEF  err\n",
        "n8q624e8q_cal.fits[1]    126.08    47.49  0.405737    INDEF  err\n",
        "n8q624e8q_cal.fits[1]     19.97    41.55   5.47311    INDEF  err\n",
        "n8q624e8q_cal.fits[1]     52.94    48.67  1.372748    INDEF  err\n",
        "n8q624e8q_cal.fits[1]     19.97    41.55   5.47311    INDEF  err\n",
        "n8q624e8q_cal.fits[1]     19.97    41.55   5.47311    INDEF  err\n",
        "n8q624e8q_cal.fits[1]    112.98    50.00  0.607356    INDEF  err\n",
        "n8q624e8q_cal.fits[1]    186.32    50.10  0.878247   28.346  ok\n",
        "n8q624e8q_cal.fits[1]     19.97    41.55   5.47311    INDEF  err\n",
        "n8q624e8q_cal.fits[1]      9.37    52.25   7.37501    INDEF  err\n",
        "n8q624e8q_cal.fits[1]     63.95    55.31  1.062111   29.673  ok\n",
        "n8q624e8q_cal.fits[1]    211.87    55.23  0.530881   25.103  ok\n",
        "n8q624e8q_cal.fits[1]     17.30    55.26  5.599881   27.163  ok\n",
        "n8q624e8q_cal.fits[1]    129.25    57.03  0.346298    INDEF  err\n",
        "n8q624e8q_cal.fits[1]    199.41    60.44  0.835116   29.228  ok\n",
        "n8q624e8q_cal.fits[1]     37.18    61.09  3.881685   28.078  err\n",
        "n8q624e8q_cal.fits[1]     37.78    61.31  3.798154   28.025  ok\n",
        "n8q624e8q_cal.fits[1]    235.21    60.77  0.331696   29.361  ok\n",
        "n8q624e8q_cal.fits[1]    129.51    63.23  0.358004    INDEF  err\n",
        "n8q624e8q_cal.fits[1]    164.47    63.40  0.537136   29.626  ok\n",
        "n8q624e8q_cal.fits[1]    206.39    63.25  0.574909   28.464  ok\n",
        "n8q624e8q_cal.fits[1]     37.79    61.09  3.792419   28.017  err\n",
        "n8q624e8q_cal.fits[1]     78.90    64.92  0.707016    INDEF  err\n",
        "n8q624e8q_cal.fits[1]    172.98    64.57  0.567812   29.670  ok\n",
        "n8q624e8q_cal.fits[1]      8.78    66.61  5.952173    INDEF  err\n",
        "n8q624e8q_cal.fits[1]     43.10    72.08  2.298244   27.426  err\n",
        "n8q624e8q_cal.fits[1]     50.54    66.58  1.448072   27.495  ok\n",
        "n8q624e8q_cal.fits[1]    111.83    67.27  0.449457   29.389  ok\n",
        "n8q624e8q_cal.fits[1]     33.66    67.50  4.881919   30.540  ok\n",
        "n8q624e8q_cal.fits[1]     91.64    68.52  0.473921   29.324  ok\n",
        "n8q624e8q_cal.fits[1]      1.31    72.26  6.435762    INDEF  err\n",
        "n8q624e8q_cal.fits[1]     43.12    72.12  2.258864   27.416  ok\n",
        "n8q624e8q_cal.fits[1]    118.62    71.64  0.394936   28.988  ok\n",
        "n8q624e8q_cal.fits[1]    186.80    72.44  0.739116    INDEF  err\n",
        "n8q624e8q_cal.fits[1]      8.77    66.61  5.954103    INDEF  err\n",
        "n8q624e8q_cal.fits[1]    250.03    73.29   0.26113    INDEF  err\n",
        "n8q624e8q_cal.fits[1]     36.53    78.00  3.897146    INDEF  err\n",
        "n8q624e8q_cal.fits[1]     29.51    74.97  5.294466   27.634  ok\n",
        "n8q624e8q_cal.fits[1]    226.72    75.63  0.352472   29.239  ok\n",
        "n8q624e8q_cal.fits[1]     26.62    88.81  5.949162    INDEF  err\n",
        "n8q624e8q_cal.fits[1]     36.47    78.01  3.907048    INDEF  err\n",
        "n8q624e8q_cal.fits[1]     36.53    78.00  3.897146    INDEF  err\n",
        "n8q624e8q_cal.fits[1]     72.78    79.00  1.036965    INDEF  err\n",
        "n8q624e8q_cal.fits[1]     26.62    88.82  5.946323    INDEF  err\n",
        "n8q624e8q_cal.fits[1]     26.62    88.81  5.949162    INDEF  err\n",
        "n8q624e8q_cal.fits[1]     26.62    88.81  5.949162    INDEF  err\n",
        "n8q624e8q_cal.fits[1]    175.40    81.08  0.384847   28.527  ok\n",
        "n8q624e8q_cal.fits[1]     26.62    88.81  5.949162    INDEF  err\n",
        "n8q624e8q_cal.fits[1]     26.62    88.81  5.949162    INDEF  err\n",
        "n8q624e8q_cal.fits[1]    138.18    86.25  0.314262   28.613  ok\n",
        "n8q624e8q_cal.fits[1]     26.62    88.81  5.949162    INDEF  err\n",
        "n8q624e8q_cal.fits[1]     67.36    90.03  1.613473    INDEF  err\n",
        "n8q624e8q_cal.fits[1]     26.62    88.81  5.949162    INDEF  err\n",
        "n8q624e8q_cal.fits[1]     26.62    88.81  5.949162    INDEF  err\n",
        "n8q624e8q_cal.fits[1]     55.31    88.00   1.93599    INDEF  err\n",
        "n8q624e8q_cal.fits[1]    115.18    87.50  0.352442   28.602  ok\n",
        "n8q624e8q_cal.fits[1]     26.61    88.82  5.949162    INDEF  err\n",
        "n8q624e8q_cal.fits[1]     67.36    90.03  1.613473    INDEF  err\n",
        "n8q624e8q_cal.fits[1]     26.61    88.82  5.949162    INDEF  err\n",
        "n8q624e8q_cal.fits[1]     26.62    88.81  5.949162    INDEF  err\n",
        "n8q624e8q_cal.fits[1]    140.80    93.20  0.298183    INDEF  err\n",
        "n8q624e8q_cal.fits[1]    245.22    92.50  0.293077    INDEF  err\n",
        "n8q624e8q_cal.fits[1]     26.62    88.81  5.949162    INDEF  err\n",
        "n8q624e8q_cal.fits[1]     26.62    88.81  5.949162    INDEF  err\n",
        "n8q624e8q_cal.fits[1]     26.62    88.81  5.949162    INDEF  err\n",
        "n8q624e8q_cal.fits[1]    217.59    96.82   0.32326    INDEF  err\n",
        "n8q624e8q_cal.fits[1]     16.79    98.61  2.904182   26.734  err\n",
        "n8q624e8q_cal.fits[1]     16.78    98.62  2.885977   26.732  ok\n",
        "n8q624e8q_cal.fits[1]     26.62    88.81  5.949162    INDEF  err\n",
        "n8q624e8q_cal.fits[1]     32.34    95.99  3.254061    INDEF  err\n",
        "n8q624e8q_cal.fits[1]     76.17    99.65   0.76603   27.692  ok\n",
        "n8q624e8q_cal.fits[1]    253.45   100.33  0.351955    INDEF  err\n",
        "n8q624e8q_cal.fits[1]    189.38   101.67  0.372396   27.990  ok\n",
        "n8q624e8q_cal.fits[1]     16.62    98.61  2.918127   26.737  err\n",
        "n8q624e8q_cal.fits[1]     23.65   103.09  2.226992   26.859  ok\n",
        "n8q624e8q_cal.fits[1]    239.68   102.97  0.318904   28.979  ok\n",
        "n8q624e8q_cal.fits[1]     10.49   105.46  1.535263   27.661  ok\n",
        "n8q624e8q_cal.fits[1]     61.39   104.53  1.388941    INDEF  err\n",
        "n8q624e8q_cal.fits[1]    189.38   101.67  0.372396   27.990  err\n",
        "n8q624e8q_cal.fits[1]     44.79   108.26  2.117337   27.749  ok\n",
        "n8q624e8q_cal.fits[1]    170.55   108.40  0.359828   29.481  ok\n",
        "n8q624e8q_cal.fits[1]    202.38   107.83  0.392678   29.451  ok\n",
        "n8q624e8q_cal.fits[1]     78.51   110.70  0.553629   28.645  ok\n",
        "n8q624e8q_cal.fits[1]     44.80   108.43  2.114856   27.759  err\n",
        "n8q624e8q_cal.fits[1]     87.39   112.10  0.521552   29.118  ok\n",
        "n8q624e8q_cal.fits[1]     23.64   102.95  2.235052   26.851  err\n",
        "n8q624e8q_cal.fits[1]     44.98   108.28  2.107283   27.738  err\n",
        "n8q624e8q_cal.fits[1]     44.79   108.26  2.117337   27.749  err\n",
        "n8q624e8q_cal.fits[1]     98.40   114.38  0.333473   29.268  ok\n",
        "n8q624e8q_cal.fits[1]    201.44   114.35  0.338282    INDEF  err\n",
        "n8q624e8q_cal.fits[1]    208.99   115.40  0.333986   29.030  ok\n",
        "n8q624e8q_cal.fits[1]     34.41   116.50  0.986185   28.074  ok\n",
        "n8q624e8q_cal.fits[1]    145.91   116.59  0.332428    INDEF  err\n",
        "n8q624e8q_cal.fits[1]    102.33   120.60  0.299269   29.025  ok\n",
        "n8q624e8q_cal.fits[1]     39.05   122.66  0.723771    INDEF  err\n",
        "n8q624e8q_cal.fits[1]    164.30   128.87  0.430183   25.181  err\n",
        "n8q624e8q_cal.fits[1]     37.05   130.22  0.555886    INDEF  err\n",
        "n8q624e8q_cal.fits[1]    147.57   124.98  0.342274   29.699  ok\n",
        "n8q624e8q_cal.fits[1]    234.48   125.25  0.366496   26.736  ok\n",
        "n8q624e8q_cal.fits[1]    132.77   126.52  0.285109   28.819  ok\n",
        "n8q624e8q_cal.fits[1]     88.82   127.57  0.410777   28.397  ok\n",
        "n8q624e8q_cal.fits[1]    164.30   128.87  0.430183   25.181  ok\n",
        "n8q624e8q_cal.fits[1]    234.48   125.25  0.366496   26.736  err\n",
        "n8q624e8q_cal.fits[1]     37.05   130.22  0.555886    INDEF  err\n",
        "n8q624e8q_cal.fits[1]    184.74   131.33  0.390401    INDEF  err\n",
        "n8q624e8q_cal.fits[1]    203.59   130.84  0.361067   28.851  ok\n",
        "n8q624e8q_cal.fits[1]    105.69   132.64  0.308511   28.650  ok\n",
        "n8q624e8q_cal.fits[1]    213.36   133.58  0.378372   28.519  ok\n",
        "n8q624e8q_cal.fits[1]    128.67   138.00  0.304634    INDEF  err\n",
        "n8q624e8q_cal.fits[1]    176.94   137.64  0.526198    INDEF  err\n",
        "n8q624e8q_cal.fits[1]    233.85   139.06  0.561195   28.597  ok\n",
        "n8q624e8q_cal.fits[1]    206.67   140.34  0.411453   29.817  ok\n",
        "n8q624e8q_cal.fits[1]     60.25   143.29  0.399696   29.118  ok\n",
        "n8q624e8q_cal.fits[1]    192.27   143.07  0.539518   29.135  ok\n",
        "n8q624e8q_cal.fits[1]    219.30   142.64  0.437546   28.925  ok\n",
        "n8q624e8q_cal.fits[1]    254.75   153.30  1.407233    INDEF  err\n",
        "n8q624e8q_cal.fits[1]    249.81   145.99  0.890486   27.340  ok\n",
        "n8q624e8q_cal.fits[1]    254.75   153.30  1.407233    INDEF  err\n",
        "n8q624e8q_cal.fits[1]     55.54   146.24  0.377112   29.211  ok\n",
        "n8q624e8q_cal.fits[1]    237.76   149.58  0.608643   28.790  err\n",
        "n8q624e8q_cal.fits[1]     99.20   149.46  0.337111   28.230  ok\n",
        "n8q624e8q_cal.fits[1]    141.42   148.56  0.327949   28.866  ok\n",
        "n8q624e8q_cal.fits[1]    201.34   149.46  0.528923   28.572  ok\n",
        "n8q624e8q_cal.fits[1]    216.51   148.56  0.470054   28.375  ok\n",
        "n8q624e8q_cal.fits[1]    254.75   153.30  1.407233    INDEF  err\n",
        "n8q624e8q_cal.fits[1]    237.83   149.58  0.607458   28.788  err\n",
        "n8q624e8q_cal.fits[1]    254.71   153.32  1.366031    INDEF  err\n",
        "n8q624e8q_cal.fits[1]    254.71   153.31  1.366031    INDEF  err\n",
        "n8q624e8q_cal.fits[1]    254.75   153.30  1.407233    INDEF  err\n",
        "n8q624e8q_cal.fits[1]    145.14   153.67   0.31676   28.368  ok\n",
        "n8q624e8q_cal.fits[1]     19.43   154.69  0.455241   29.286  ok\n",
        "n8q624e8q_cal.fits[1]    254.75   153.30  1.407233    INDEF  err\n",
        "n8q624e8q_cal.fits[1]     97.04   156.37  0.330787   28.212  ok\n",
        "n8q624e8q_cal.fits[1]    173.02   156.30  0.489141   28.887  ok\n",
        "n8q624e8q_cal.fits[1]    182.93   156.43   0.65726    INDEF  err\n",
        "n8q624e8q_cal.fits[1]    254.75   153.30  1.407233    INDEF  err\n",
        "n8q624e8q_cal.fits[1]    245.25   158.44  0.852086   27.290  err\n",
        "n8q624e8q_cal.fits[1]    254.75   153.30  1.407233    INDEF  err\n",
        "n8q624e8q_cal.fits[1]    254.75   153.30  1.407233    INDEF  err\n",
        "n8q624e8q_cal.fits[1]    182.93   156.43   0.65726    INDEF  err\n",
        "n8q624e8q_cal.fits[1]    188.32   164.29  0.656089    INDEF  err\n",
        "n8q624e8q_cal.fits[1]    245.34   158.16  0.863634   27.289  err\n",
        "n8q624e8q_cal.fits[1]      2.60   166.47  0.480756    INDEF  err\n",
        "n8q624e8q_cal.fits[1]     46.50   165.70   0.32382   28.640  ok\n",
        "n8q624e8q_cal.fits[1]     73.66   165.53  0.312764   29.053  ok\n",
        "n8q624e8q_cal.fits[1]    131.14   166.44  0.321396    INDEF  err\n",
        "n8q624e8q_cal.fits[1]    188.34   164.31  0.655243    INDEF  err\n",
        "n8q624e8q_cal.fits[1]    237.73   173.90  0.509944   26.435  err\n",
        "n8q624e8q_cal.fits[1]     19.44   175.53  0.309775    INDEF  err\n",
        "n8q624e8q_cal.fits[1]    237.73   173.90  0.509944   26.435  ok\n",
        "n8q624e8q_cal.fits[1]    178.25   174.52  0.408477   28.307  ok\n",
        "n8q624e8q_cal.fits[1]    190.77   174.98  0.479977   27.439  ok\n",
        "n8q624e8q_cal.fits[1]    206.32   174.55  0.436361   28.413  ok\n",
        "n8q624e8q_cal.fits[1]    109.42   176.87  0.324175   29.091  ok\n",
        "n8q624e8q_cal.fits[1]    221.31   176.85   0.44011   29.734  ok\n",
        "n8q624e8q_cal.fits[1]    117.27   177.81  0.320781   28.181  ok\n",
        "n8q624e8q_cal.fits[1]    228.56   179.10  0.367502   29.241  ok\n",
        "n8q624e8q_cal.fits[1]    174.61   179.72  0.328618   28.907  ok\n",
        "n8q624e8q_cal.fits[1]    194.78   184.31    0.3121   28.288  ok\n",
        "n8q624e8q_cal.fits[1]    207.38   184.24  0.361515   29.331  ok\n",
        "n8q624e8q_cal.fits[1]     33.39   185.56  0.290539   29.574  ok\n",
        "n8q624e8q_cal.fits[1]     86.19   187.81  0.307505    INDEF  err\n",
        "n8q624e8q_cal.fits[1]    209.42   191.27  0.273675   27.800  ok\n",
        "n8q624e8q_cal.fits[1]    135.17   192.76  0.323044   28.718  ok\n",
        "n8q624e8q_cal.fits[1]    180.94   193.32  0.277633   29.433  ok\n",
        "n8q624e8q_cal.fits[1]     16.97   194.99  0.276194   28.810  ok\n",
        "n8q624e8q_cal.fits[1]    134.17   193.28  0.320259   28.542  err\n",
        "n8q624e8q_cal.fits[1]    117.78   197.16  0.270185    INDEF  err\n",
        "n8q624e8q_cal.fits[1]    245.40   198.18  0.310434   29.644  ok\n",
        "n8q624e8q_cal.fits[1]     17.27   200.09  0.265731   29.208  ok\n",
        "n8q624e8q_cal.fits[1]     93.35   200.58   0.27651   29.403  ok\n",
        "n8q624e8q_cal.fits[1]    179.06   201.06  0.286639   28.660  ok\n",
        "n8q624e8q_cal.fits[1]     83.51   201.65  0.286028    INDEF  err\n",
        "n8q624e8q_cal.fits[1]    150.10   205.37  0.340682   29.707  ok\n",
        "n8q624e8q_cal.fits[1]    166.27   205.08  0.319026    INDEF  err\n",
        "n8q624e8q_cal.fits[1]     99.73   207.31  0.251651    INDEF  err\n",
        "n8q624e8q_cal.fits[1]    253.75   207.61   0.32422    INDEF  err\n",
        "n8q624e8q_cal.fits[1]     26.11   210.77  0.254467   28.727  err\n",
        "n8q624e8q_cal.fits[1]     92.48   211.06  0.249391   29.227  ok\n",
        "n8q624e8q_cal.fits[1]     26.11   210.73  0.254199   28.727  ok\n",
        "n8q624e8q_cal.fits[1]    126.29   213.42  0.330841    INDEF  err\n",
        "n8q624e8q_cal.fits[1]     57.50   214.78  0.231945   28.611  ok\n",
        "n8q624e8q_cal.fits[1]     75.27   216.84  0.261823   28.370  ok\n",
        "n8q624e8q_cal.fits[1]     32.94   217.75  0.297366    INDEF  err\n",
        "n8q624e8q_cal.fits[1]    132.13   219.27  0.396971    INDEF  err\n",
        "n8q624e8q_cal.fits[1]    239.12   221.65  0.297908   29.383  ok\n",
        "n8q624e8q_cal.fits[1]     80.54   223.39  0.253363   28.977  ok\n",
        "n8q624e8q_cal.fits[1]    108.72   223.31  0.271665   29.081  ok\n",
        "n8q624e8q_cal.fits[1]    147.47   232.34  0.726845    INDEF  err\n",
        "n8q624e8q_cal.fits[1]    149.00   224.60  0.608426    INDEF  err\n",
        "n8q624e8q_cal.fits[1]    244.15   226.18  0.297994    INDEF  err\n",
        "n8q624e8q_cal.fits[1]    126.11   227.30  0.422719    INDEF  err\n",
        "n8q624e8q_cal.fits[1]    190.65   226.61  0.431976   28.076  ok\n",
        "n8q624e8q_cal.fits[1]     51.43   227.66  0.278597   29.364  ok\n",
        "n8q624e8q_cal.fits[1]    147.47   232.34  0.726845    INDEF  err\n",
        "n8q624e8q_cal.fits[1]    190.66   226.79  0.442301   28.075  err\n",
        "n8q624e8q_cal.fits[1]     43.86   231.10  0.289663   28.443  ok\n",
        "n8q624e8q_cal.fits[1]    147.47   232.34  0.726845    INDEF  err\n",
        "n8q624e8q_cal.fits[1]    213.60   230.45  0.276553   28.994  ok\n",
        "n8q624e8q_cal.fits[1]    147.47   232.33  0.726845    INDEF  err\n",
        "n8q624e8q_cal.fits[1]    164.78   232.63  0.714747    INDEF  err\n",
        "n8q624e8q_cal.fits[1]     61.61   233.21  0.270812   29.491  ok\n",
        "n8q624e8q_cal.fits[1]    181.43   233.53   0.65085   25.025  ok\n",
        "n8q624e8q_cal.fits[1]     98.21   234.86  0.262061    INDEF  err\n",
        "n8q624e8q_cal.fits[1]      4.89   236.23  0.368343   29.682  ok\n",
        "n8q624e8q_cal.fits[1]    147.47   232.34  0.726845    INDEF  err\n",
        "n8q624e8q_cal.fits[1]     41.97   236.00  0.346109    INDEF  err\n",
        "n8q624e8q_cal.fits[1]    200.29   239.55  0.394068    INDEF  err\n",
        "n8q624e8q_cal.fits[1]    200.29   239.55  0.394068    INDEF  err\n",
        "n8q624e8q_cal.fits[1]    129.51   241.29  0.367921    INDEF  err\n",
        "n8q624e8q_cal.fits[1]    197.36   241.94  0.409375    INDEF  err\n",
        "n8q624e8q_cal.fits[1]     10.49   243.94  0.361452   27.511  ok\n",
        "n8q624e8q_cal.fits[1]    142.93   244.49  0.615968   28.300  ok\n",
        "n8q624e8q_cal.fits[1]     99.79   250.37  0.268955   27.937  err\n",
        "n8q624e8q_cal.fits[1]     99.80   250.44  0.268368   27.938  ok\n",
        "n8q624e8q_cal.fits[1]    241.21   249.63  0.286848   28.717  ok\n",
        "n8q624e8q_cal.fits[1]     38.93   251.18  0.330496   29.432  ok\n",
        "n8q624e8q_cal.fits[1]    141.47   252.78  0.572105    INDEF  err\n",
        "n8q624e8q_cal.fits[1]     68.90   253.52  0.231617    INDEF  err\n",
        "n8q624e8q_cal.fits[1]    173.37   253.73  0.537419    INDEF  err\n"
       ]
      }
     ],
     "prompt_number": 12
    },
    {
     "cell_type": "code",
     "collapsed": false,
     "input": [
      "# I'll change the output a little so the print to screen is avoided, but you can see the methods \n",
      "# are pretty equivalent in terms of cost if we look at their timing\n",
      "\n",
      "def read_first():\n",
      "    with open('../data/phot.log') as fh:\n",
      "        stars=fh.readlines()\n",
      "    for line in stars[-10:]:  pass\n",
      "\n",
      "\n",
      "def loop_read():\n",
      "    with open('../data/phot.log') as fh:\n",
      "        for line in fh.readlines()[-10:]: pass\n",
      "    \n",
      "print \"read_first: \"\n",
      "%timeit(read_first())\n",
      "print \"loop_read: \"\n",
      "%timeit(loop_read())"
     ],
     "language": "python",
     "metadata": {},
     "outputs": [
      {
       "output_type": "stream",
       "stream": "stdout",
       "text": [
        "read_first: \n",
        "10000 loops, best of 3: 54.6 \u00b5s per loop"
       ]
      },
      {
       "output_type": "stream",
       "stream": "stdout",
       "text": [
        "\n",
        "loop_read: \n",
        "10000 loops, best of 3: 56.3 \u00b5s per loop"
       ]
      },
      {
       "output_type": "stream",
       "stream": "stdout",
       "text": [
        "\n"
       ]
      }
     ],
     "prompt_number": 13
    },
    {
     "cell_type": "heading",
     "level": 2,
     "metadata": {},
     "source": [
      "Part 3"
     ]
    },
    {
     "cell_type": "markdown",
     "metadata": {},
     "source": [
      "<font color=\"green\" size=4>Modify the code below to use list comprehension."
     ]
    },
    {
     "cell_type": "code",
     "collapsed": false,
     "input": [
      "import numpy as np\n",
      "mylist = []\n",
      "i = 0\n",
      "while (i < 50):\n",
      "    if np.sqrt(i) % 2 == 0:\n",
      "        mylist.append(i)\n",
      "    i += 1\n",
      "\n",
      "print mylist"
     ],
     "language": "python",
     "metadata": {},
     "outputs": [
      {
       "output_type": "stream",
       "stream": "stdout",
       "text": [
        "[0, 4, 16, 36]\n"
       ]
      }
     ],
     "prompt_number": 14
    },
    {
     "cell_type": "code",
     "collapsed": false,
     "input": [
      "[x for x in range(0,50,1) if np.sqrt(x)%2 ==0]"
     ],
     "language": "python",
     "metadata": {},
     "outputs": [
      {
       "metadata": {},
       "output_type": "pyout",
       "prompt_number": 15,
       "text": [
        "[0, 4, 16, 36]"
       ]
      }
     ],
     "prompt_number": 15
    },
    {
     "cell_type": "markdown",
     "metadata": {},
     "source": [
      "<font color=\"green\" size=4>Something you will want to consider with large datasets is how long it takes to do/use these different types of methods. Some of the optimized C code on the backend of Python can perform certain tasks very fast, others with only slight improvements over the interpreter. One thing that might make a difference is whether you need a result from your loop. Let's time our two functions:\n"
     ]
    },
    {
     "cell_type": "code",
     "collapsed": false,
     "input": [
      "def loopy():\n",
      "    mylist = [] # creating empty lists\n",
      "    i=0\n",
      "    while (i < 50):\n",
      "        if np.sqrt(i) % 2 == 0:\n",
      "            mylist.append(i)\n",
      "        i += 1    \n",
      "    return mylist\n",
      "    \n",
      "    \n",
      "def listy():\n",
      "    return [x for x in range(0,50,1) if np.sqrt(x)%2 ==0]\n",
      "    \n",
      "    "
     ],
     "language": "python",
     "metadata": {},
     "outputs": [],
     "prompt_number": 16
    },
    {
     "cell_type": "code",
     "collapsed": false,
     "input": [
      "%timeit loopy()"
     ],
     "language": "python",
     "metadata": {},
     "outputs": [
      {
       "output_type": "stream",
       "stream": "stdout",
       "text": [
        "1000 loops, best of 3: 279 \u00b5s per loop\n"
       ]
      }
     ],
     "prompt_number": 17
    },
    {
     "cell_type": "code",
     "collapsed": false,
     "input": [
      "%timeit listy()"
     ],
     "language": "python",
     "metadata": {},
     "outputs": [
      {
       "output_type": "stream",
       "stream": "stdout",
       "text": [
        "1000 loops, best of 3: 277 \u00b5s per loop\n"
       ]
      }
     ],
     "prompt_number": 18
    },
    {
     "cell_type": "markdown",
     "metadata": {},
     "source": [
      "<font color=\"green\" size=4> Those were pretty close, want to see what's really going on with the two methods?<br> This is a sidebar for the programmer enthusiast and produces the instruction list for the stack, Python bytecode interpreted to more readable mnemonics, but you can see how the instructions differ for the two methods, which is kinda cool: "
     ]
    },
    {
     "cell_type": "code",
     "collapsed": false,
     "input": [
      "import dis, inspect, timeit\n",
      "\n",
      "programs = dict(\n",
      "    loopy=\"\"\"import numpy as np\n",
      "mylist = [] \n",
      "i=0\n",
      "while (i < 50):\n",
      "    if np.sqrt(i) % 2 == 0:\n",
      "        mylist.append(i)\n",
      "    i += 1\n",
      "\"\"\",\n",
      "   listy=\"\"\"[x for x in range(0,50,1) if np.sqrt(x)%2 ==0]\"\"\"\n",
      ")\n",
      "\n",
      "for name, prog in programs.iteritems():\n",
      "    print(name) #, timeit.Timer(stmt=prog).timeit())\n",
      "    code = compile(prog, '<string>', 'exec')\n",
      "    dis.disassemble(code)\n",
      "    \n",
      "#The first column corresponds to the line number"
     ],
     "language": "python",
     "metadata": {},
     "outputs": [
      {
       "output_type": "stream",
       "stream": "stdout",
       "text": [
        "loopy\n",
        "  1           0 LOAD_CONST               0 (-1)\n",
        "              3 LOAD_CONST               1 (None)\n",
        "              6 IMPORT_NAME              0 (numpy)\n",
        "              9 STORE_NAME               1 (np)\n",
        "\n",
        "  2          12 BUILD_LIST               0\n",
        "             15 STORE_NAME               2 (mylist)\n",
        "\n",
        "  3          18 LOAD_CONST               2 (0)\n",
        "             21 STORE_NAME               3 (i)\n",
        "\n",
        "  4          24 SETUP_LOOP              67 (to 94)\n",
        "        >>   27 LOAD_NAME                3 (i)\n",
        "             30 LOAD_CONST               3 (50)\n",
        "             33 COMPARE_OP               0 (<)\n",
        "             36 POP_JUMP_IF_FALSE       93\n",
        "\n",
        "  5          39 LOAD_NAME                1 (np)\n",
        "             42 LOAD_ATTR                4 (sqrt)\n",
        "             45 LOAD_NAME                3 (i)\n",
        "             48 CALL_FUNCTION            1\n",
        "             51 LOAD_CONST               4 (2)\n",
        "             54 BINARY_MODULO       \n",
        "             55 LOAD_CONST               2 (0)\n",
        "             58 COMPARE_OP               2 (==)\n",
        "             61 POP_JUMP_IF_FALSE       80\n",
        "\n",
        "  6          64 LOAD_NAME                2 (mylist)\n",
        "             67 LOAD_ATTR                5 (append)\n",
        "             70 LOAD_NAME                3 (i)\n",
        "             73 CALL_FUNCTION            1\n",
        "             76 POP_TOP             \n",
        "             77 JUMP_FORWARD             0 (to 80)\n",
        "\n",
        "  7     >>   80 LOAD_NAME                3 (i)\n",
        "             83 LOAD_CONST               5 (1)\n",
        "             86 INPLACE_ADD         \n",
        "             87 STORE_NAME               3 (i)\n",
        "             90 JUMP_ABSOLUTE           27\n",
        "        >>   93 POP_BLOCK           \n",
        "        >>   94 LOAD_CONST               1 (None)\n",
        "             97 RETURN_VALUE        \n",
        "listy\n",
        "  1           0 BUILD_LIST               0\n",
        "              3 LOAD_NAME                0 (range)\n",
        "              6 LOAD_CONST               0 (0)\n",
        "              9 LOAD_CONST               1 (50)\n",
        "             12 LOAD_CONST               2 (1)\n",
        "             15 CALL_FUNCTION            3\n",
        "             18 GET_ITER            \n",
        "        >>   19 FOR_ITER                37 (to 59)\n",
        "             22 STORE_NAME               1 (x)\n",
        "             25 LOAD_NAME                2 (np)\n",
        "             28 LOAD_ATTR                3 (sqrt)\n",
        "             31 LOAD_NAME                1 (x)\n",
        "             34 CALL_FUNCTION            1\n",
        "             37 LOAD_CONST               3 (2)\n",
        "             40 BINARY_MODULO       \n",
        "             41 LOAD_CONST               0 (0)\n",
        "             44 COMPARE_OP               2 (==)\n",
        "             47 POP_JUMP_IF_FALSE       19\n",
        "             50 LOAD_NAME                1 (x)\n",
        "             53 LIST_APPEND              2\n",
        "             56 JUMP_ABSOLUTE           19\n",
        "        >>   59 POP_TOP             \n",
        "             60 LOAD_CONST               4 (None)\n",
        "             63 RETURN_VALUE        \n"
       ]
      }
     ],
     "prompt_number": 20
    },
    {
     "cell_type": "code",
     "collapsed": false,
     "input": [],
     "language": "python",
     "metadata": {},
     "outputs": []
    }
   ],
   "metadata": {}
  }
 ]
}