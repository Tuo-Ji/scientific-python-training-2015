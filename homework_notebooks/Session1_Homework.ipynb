{
 "metadata": {
  "name": "",
  "signature": "sha256:6ab6e12d7677854c3a35774c36330e784be270d21bf0270e7c85761a800c86c5"
 },
 "nbformat": 3,
 "nbformat_minor": 0,
 "worksheets": [
  {
   "cells": [
    {
     "cell_type": "markdown",
     "metadata": {},
     "source": [
      "# Session 1 Homework\n",
      "### Due Wednesday COB January 21\n",
      "\n",
      "Submit homework by emailing your completed Notebook to perry@stsci.edu.\n",
      "\n",
      "*Remember that you use the key commands `escape-a` and `escape-b` to insert new cells above and below the current cell, respectively.*"
     ]
    },
    {
     "cell_type": "markdown",
     "metadata": {},
     "source": [
      "## Problem 1\n",
      "\n",
      "We only scratched the surface of the many useful features built into IPython. Something we didn't discuss is IPython's library of\n",
      "[magic commands](http://ipython.org/ipython-doc/stable/interactive/tutorial.html#magic-functions). These commands add a lot of useful interactive\n",
      "functionality. One such magic command is `%quickref`, which displays a helpful IPython reference text."
     ]
    },
    {
     "cell_type": "markdown",
     "metadata": {},
     "source": [
      "Use `%quickref` to find another magic that allows you to time the execution of Python code. Then use that magic to time the following code:\n",
      "\n",
      "*(Hint: you can get help on magic commands just like other Python functions, e.g. `%quickref?`.)*"
     ]
    },
    {
     "cell_type": "code",
     "collapsed": false,
     "input": [
      "import numpy as np # do not time this command\n",
      "np.array(range(50))\n",
      "np.arange(50)"
     ],
     "language": "python",
     "metadata": {},
     "outputs": []
    },
    {
     "cell_type": "markdown",
     "metadata": {},
     "source": [
      "## Problem 2\n",
      "\n",
      "IPython keeps a [history](http://ipython.org/ipython-doc/stable/interactive/tutorial.html#history) of every input and output. (Also notice that they are all numbered.) Look at `%quickref` again and figure out different ways of looking at your history. How would you access the result of the most recent executed code? How would you search the input history?"
     ]
    },
    {
     "cell_type": "markdown",
     "metadata": {},
     "source": [
      "## Problem 3\n",
      "\n",
      "Read in `../data/pix.fits`, scale and offset the data values to range from 0 to 1000 in the new result, and plot the column or row with the maximum value. Annotate your steps using IPython Notebook text cells and include a LaTeX equation that illustrates the transformation for the pixel values you've programmed in."
     ]
    }
   ],
   "metadata": {}
  }
 ]
}