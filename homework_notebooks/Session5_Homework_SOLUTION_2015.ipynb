{
 "metadata": {
  "name": "",
  "signature": "sha256:873e6b734b14eb75d00b29300ef0d3e4268d38b787762240e5927901dab1be26"
 },
 "nbformat": 3,
 "nbformat_minor": 0,
 "worksheets": [
  {
   "cells": [
    {
     "cell_type": "markdown",
     "metadata": {},
     "source": [
      "# Session 5 Homework\n",
      "### Due Tuesday COB March 17\n",
      "\n",
      "Submit homework by emailing your completed Notebook to `lim[at]stsci.edu`\n"
     ]
    },
    {
     "cell_type": "heading",
     "level": 2,
     "metadata": {},
     "source": [
      "Part 0: Getting The Data"
     ]
    },
    {
     "cell_type": "markdown",
     "metadata": {},
     "source": [
      "- Download dataset https://github.com/spacetelescope/scientific-python-training-2015/tree/master/data/o67501020_flt.fits\n",
      "\n",
      "- Download Session 5 Lecture from https://github.com/spacetelescope/scientific-python-training-2015/tree/master/lecture_notebooks/Session5_STIS_Spec.ipynb , save it under a different name called \"Session5_Modified_Lecture_USERID.ipynb\"\n",
      "\n",
      "- Change `ifile` variable in the lecture to point to where you store your input FITS file\n",
      "\n",
      "**OR**\n",
      "\n",
      "- Use `git clone` on this entire repository. If you have already done this for a previous lecture in this course, you do not have to do it again."
     ]
    },
    {
     "cell_type": "heading",
     "level": 2,
     "metadata": {},
     "source": [
      "Part 1"
     ]
    },
    {
     "cell_type": "markdown",
     "metadata": {},
     "source": [
      "- Run the lecture notebook.\n",
      "\n",
      "- In the section **\"Fit a gaussian to a point > 2*median smoothed background\"**, turn the relevant codes into a function that returns \"pix_bestfit\". Hint: Use \"collapsed_img, loc_start, loc_end\" as input parameters. Then, call your function to get \"pix_bestfit\".\n",
      "\n",
      "- Insert a new cell below your function. Hint: Click Insert, then Insert Cell Below.\n",
      "\n",
      "- In the new cell, use your function to calculate pix_bestfit for all the spectrum locations in \"sp_start\" and \"sp_end\". Hint:\n",
      "\n",
      "        pix_list = []\n",
      "        for i, j in zip(sp_start, sp_end):\n",
      "            pix = your_function(collapsed_img, i, j)\n",
      "            pix_list.append(pix)\n",
      "\n",
      "- The solution above does not exclude any erroneous results when fitting fails. Modify it so that `pix_list` only contains real results. Hint: Use \"if\" statement."
     ]
    },
    {
     "cell_type": "heading",
     "level": 4,
     "metadata": {},
     "source": [
      "Review Comments"
     ]
    },
    {
     "cell_type": "markdown",
     "metadata": {},
     "source": [
      "Solution for Part 1 is in `Session5_Modified_Lecture_SOLUTION_2015.ipynb` from **In [29]** to **In [31]**. Visualization of the results is in **In [32]**."
     ]
    },
    {
     "cell_type": "code",
     "collapsed": false,
     "input": [
      "from __future__ import print_function\n",
      "import os"
     ],
     "language": "python",
     "metadata": {},
     "outputs": [],
     "prompt_number": 1
    },
    {
     "cell_type": "markdown",
     "metadata": {},
     "source": [
      "If you call `cs6.e` multiple times with the same input file, you have to manually remove the output file from the previous run first."
     ]
    },
    {
     "cell_type": "code",
     "collapsed": false,
     "input": [
      "file_to_remove = '30DOR-A_loc263_x1d.fits'\n",
      "if os.path.exists(file_to_remove):\n",
      "    os.remove(file_to_remove)"
     ],
     "language": "python",
     "metadata": {},
     "outputs": [],
     "prompt_number": 2
    },
    {
     "cell_type": "markdown",
     "metadata": {},
     "source": [
      "We also discussed a little about parenthesis and tuples."
     ]
    },
    {
     "cell_type": "code",
     "collapsed": false,
     "input": [
      "print, 1  # This prints \"1\" in IDL, but gives a tuple in iPython Notebook"
     ],
     "language": "python",
     "metadata": {},
     "outputs": [
      {
       "metadata": {},
       "output_type": "pyout",
       "prompt_number": 3,
       "text": [
        "(<function print>, 1)"
       ]
      }
     ],
     "prompt_number": 3
    },
    {
     "cell_type": "code",
     "collapsed": false,
     "input": [
      "x1 = (1)  # This means x1=1\n",
      "x2 = (1, )  # x2 is actually a tuple with its first element equal to 1"
     ],
     "language": "python",
     "metadata": {},
     "outputs": [],
     "prompt_number": 4
    },
    {
     "cell_type": "code",
     "collapsed": false,
     "input": [
      "def get_tuple():\n",
      "    \"\"\"Return a tuple with 1 element.\"\"\"\n",
      "    return (1, )\n",
      "\n",
      "x1 = get_tuple()[0]\n",
      "print(x1)\n",
      "\n",
      "x2, = get_tuple()  # Trailing comma on left side assigns 1 to x2\n",
      "print(x2)"
     ],
     "language": "python",
     "metadata": {},
     "outputs": [
      {
       "output_type": "stream",
       "stream": "stdout",
       "text": [
        "1\n",
        "1\n"
       ]
      }
     ],
     "prompt_number": 5
    },
    {
     "cell_type": "heading",
     "level": 2,
     "metadata": {},
     "source": [
      "Part 2"
     ]
    },
    {
     "cell_type": "markdown",
     "metadata": {},
     "source": [
      "- Replace this command using Python \"subprocess\" module:\n",
      "\n",
      "        !which cs6.e"
     ]
    },
    {
     "cell_type": "code",
     "collapsed": false,
     "input": [
      "import subprocess\n",
      "\n",
      "# Put your solution here\n",
      "\n",
      "subprocess.check_output(['which', 'cs6.e'])"
     ],
     "language": "python",
     "metadata": {},
     "outputs": [
      {
       "metadata": {},
       "output_type": "pyout",
       "prompt_number": 6,
       "text": [
        "'/usr/stsci/ssbdev/variants/common/bin/cs6.e\\n'"
       ]
      }
     ],
     "prompt_number": 6
    },
    {
     "cell_type": "heading",
     "level": 4,
     "metadata": {},
     "source": [
      "Review Comments"
     ]
    },
    {
     "cell_type": "markdown",
     "metadata": {},
     "source": [
      "Do *NOT* use `shell=True` if possible. See https://docs.python.org/2/library/subprocess.html#frequently-used-arguments."
     ]
    },
    {
     "cell_type": "code",
     "collapsed": false,
     "input": [
      "subprocess.call(['which', 'cs6.e'])  # This prints to terminal"
     ],
     "language": "python",
     "metadata": {},
     "outputs": [
      {
       "metadata": {},
       "output_type": "pyout",
       "prompt_number": 7,
       "text": [
        "0"
       ]
      }
     ],
     "prompt_number": 7
    },
    {
     "cell_type": "heading",
     "level": 4,
     "metadata": {},
     "source": [
      "Alternate Solution (More Complicated)"
     ]
    },
    {
     "cell_type": "code",
     "collapsed": false,
     "input": [
      "# Kudos to Nikole Lewis\n",
      "which = subprocess.Popen(['which', 'cs6.e'], stdout=subprocess.PIPE)\n",
      "which.communicate()[0]"
     ],
     "language": "python",
     "metadata": {},
     "outputs": [
      {
       "metadata": {},
       "output_type": "pyout",
       "prompt_number": 8,
       "text": [
        "'/usr/stsci/ssbdev/variants/common/bin/cs6.e\\n'"
       ]
      }
     ],
     "prompt_number": 8
    },
    {
     "cell_type": "heading",
     "level": 2,
     "metadata": {},
     "source": [
      "Part 3"
     ]
    },
    {
     "cell_type": "markdown",
     "metadata": {},
     "source": [
      "Use Numpy indexing/slicing to turn this \"original_array\"\n",
      "\n",
      "    [0, 1, 2, 3, 4, 5, 6, 7, 8, 9]\n",
      "\n",
      "to this\n",
      "\n",
      "    [9, 7, 5, 3, 1]"
     ]
    },
    {
     "cell_type": "code",
     "collapsed": false,
     "input": [
      "import numpy as np\n",
      "original_array = np.arange(10)\n",
      "\n",
      "# Put your solution here\n",
      "\n",
      "my_array = original_array[::-2]\n",
      "\n",
      "# If your solution is right, this test will pass,\n",
      "# else it raises AssertionError\n",
      "\n",
      "np.testing.assert_array_equal(my_array, [9, 7, 5, 3, 1])"
     ],
     "language": "python",
     "metadata": {},
     "outputs": [],
     "prompt_number": 9
    },
    {
     "cell_type": "heading",
     "level": 4,
     "metadata": {},
     "source": [
      "Notable Mentions"
     ]
    },
    {
     "cell_type": "code",
     "collapsed": false,
     "input": [
      "original_array[-1:0:-2]"
     ],
     "language": "python",
     "metadata": {},
     "outputs": [
      {
       "metadata": {},
       "output_type": "pyout",
       "prompt_number": 10,
       "text": [
        "array([9, 7, 5, 3, 1])"
       ]
      }
     ],
     "prompt_number": 10
    },
    {
     "cell_type": "code",
     "collapsed": false,
     "input": [
      "original_array[-1::-2]"
     ],
     "language": "python",
     "metadata": {},
     "outputs": [
      {
       "metadata": {},
       "output_type": "pyout",
       "prompt_number": 11,
       "text": [
        "array([9, 7, 5, 3, 1])"
       ]
      }
     ],
     "prompt_number": 11
    },
    {
     "cell_type": "code",
     "collapsed": false,
     "input": [
      "original_array[-1:-10:-2]"
     ],
     "language": "python",
     "metadata": {},
     "outputs": [
      {
       "metadata": {},
       "output_type": "pyout",
       "prompt_number": 12,
       "text": [
        "array([9, 7, 5, 3, 1])"
       ]
      }
     ],
     "prompt_number": 12
    },
    {
     "cell_type": "code",
     "collapsed": false,
     "input": [
      "original_array[10::-2]"
     ],
     "language": "python",
     "metadata": {},
     "outputs": [
      {
       "metadata": {},
       "output_type": "pyout",
       "prompt_number": 13,
       "text": [
        "array([9, 7, 5, 3, 1])"
       ]
      }
     ],
     "prompt_number": 13
    },
    {
     "cell_type": "code",
     "collapsed": false,
     "input": [
      "original_array[range(9, 0, -2)]"
     ],
     "language": "python",
     "metadata": {},
     "outputs": [
      {
       "metadata": {},
       "output_type": "pyout",
       "prompt_number": 14,
       "text": [
        "array([9, 7, 5, 3, 1])"
       ]
      }
     ],
     "prompt_number": 14
    },
    {
     "cell_type": "heading",
     "level": 4,
     "metadata": {},
     "source": [
      "Somewhat Related Discussions"
     ]
    },
    {
     "cell_type": "markdown",
     "metadata": {},
     "source": [
      "Want to extract subarray of `(300, 240)` out of an array of `(300, 300)`."
     ]
    },
    {
     "cell_type": "code",
     "collapsed": false,
     "input": [
      "# Create arbitrary 300x300 array\n",
      "a = np.arange(300 * 300).reshape((300, 300))\n",
      "\n",
      "# Extract first 240 elements out of 300 in second axis\n",
      "b = a[:, :240]\n",
      "print(b.shape)\n",
      "\n",
      "# Extract last 240 elements out of 300 in second axis\n",
      "c = a[:, 60:]\n",
      "print(c.shape)"
     ],
     "language": "python",
     "metadata": {},
     "outputs": [
      {
       "output_type": "stream",
       "stream": "stdout",
       "text": [
        "(300, 240)\n",
        "(300, 240)\n"
       ]
      }
     ],
     "prompt_number": 15
    },
    {
     "cell_type": "markdown",
     "metadata": {},
     "source": [
      "Slicing returns a view, not a copy. That means, if original array changes, the slice does too. Beware! If you want a copy, not a view, explicitly make a copy."
     ]
    },
    {
     "cell_type": "code",
     "collapsed": false,
     "input": [
      "a = np.arange(10)\n",
      "b = a[:5].copy()  # First 5 elements. This is a copy\n",
      "c = a[:5]  # First 5 elements. This is a view.\n",
      "print(b)\n",
      "print(c)"
     ],
     "language": "python",
     "metadata": {},
     "outputs": [
      {
       "output_type": "stream",
       "stream": "stdout",
       "text": [
        "[0 1 2 3 4]\n",
        "[0 1 2 3 4]\n"
       ]
      }
     ],
     "prompt_number": 16
    },
    {
     "cell_type": "code",
     "collapsed": false,
     "input": [
      "# Now we change the first element in original array\n",
      "a[0] = 100\n",
      "\n",
      "# The view changed too, but not the copy!\n",
      "print(b)\n",
      "print(c)"
     ],
     "language": "python",
     "metadata": {},
     "outputs": [
      {
       "output_type": "stream",
       "stream": "stdout",
       "text": [
        "[0 1 2 3 4]\n",
        "[100   1   2   3   4]\n"
       ]
      }
     ],
     "prompt_number": 17
    },
    {
     "cell_type": "markdown",
     "metadata": {},
     "source": [
      "If you pass into a function an array and changes it in the function, it also changes outside the function. More info: http://stackoverflow.com/questions/575196/in-python-why-can-a-function-modify-some-arguments-as-perceived-by-the-caller"
     ]
    },
    {
     "cell_type": "code",
     "collapsed": false,
     "input": [
      "def myfunc(input_array):\n",
      "    input_array[0] = 5000\n",
      "    \n",
      "a = np.arange(10)\n",
      "print(a)\n",
      "myfunc(a)\n",
      "print(a)"
     ],
     "language": "python",
     "metadata": {},
     "outputs": [
      {
       "output_type": "stream",
       "stream": "stdout",
       "text": [
        "[0 1 2 3 4 5 6 7 8 9]\n",
        "[5000    1    2    3    4    5    6    7    8    9]\n"
       ]
      }
     ],
     "prompt_number": 18
    },
    {
     "cell_type": "markdown",
     "metadata": {},
     "source": [
      "If `.copy()` method is unavailable, use `deepcopy`. For example, when working with Python dictionary."
     ]
    },
    {
     "cell_type": "code",
     "collapsed": false,
     "input": [
      "from copy import deepcopy\n",
      "d = {1: '1'}\n",
      "d2 = deepcopy(d)  # This is a copy\n",
      "d3 = d  # This is not a copy\n",
      "print(d2, d2 is d)\n",
      "print(d3, d3 is d)"
     ],
     "language": "python",
     "metadata": {},
     "outputs": [
      {
       "output_type": "stream",
       "stream": "stdout",
       "text": [
        "{1: '1'} False\n",
        "{1: '1'} True\n"
       ]
      }
     ],
     "prompt_number": 19
    },
    {
     "cell_type": "code",
     "collapsed": false,
     "input": [
      "d[1] = '100'"
     ],
     "language": "python",
     "metadata": {},
     "outputs": [],
     "prompt_number": 20
    },
    {
     "cell_type": "code",
     "collapsed": false,
     "input": [
      "print(d2)\n",
      "print(d3)"
     ],
     "language": "python",
     "metadata": {},
     "outputs": [
      {
       "output_type": "stream",
       "stream": "stdout",
       "text": [
        "{1: '1'}\n",
        "{1: '100'}\n"
       ]
      }
     ],
     "prompt_number": 21
    },
    {
     "cell_type": "markdown",
     "metadata": {},
     "source": [
      "You can use `dir(...)` to check available attributes for Python functions and modules. `func.__module__` tells you where the function resides. `help(func)` prints its docstring."
     ]
    },
    {
     "cell_type": "code",
     "collapsed": false,
     "input": [
      "dir(sum)"
     ],
     "language": "python",
     "metadata": {},
     "outputs": [
      {
       "metadata": {},
       "output_type": "pyout",
       "prompt_number": 22,
       "text": [
        "['__call__',\n",
        " '__class__',\n",
        " '__cmp__',\n",
        " '__delattr__',\n",
        " '__doc__',\n",
        " '__eq__',\n",
        " '__format__',\n",
        " '__ge__',\n",
        " '__getattribute__',\n",
        " '__gt__',\n",
        " '__hash__',\n",
        " '__init__',\n",
        " '__le__',\n",
        " '__lt__',\n",
        " '__module__',\n",
        " '__name__',\n",
        " '__ne__',\n",
        " '__new__',\n",
        " '__reduce__',\n",
        " '__reduce_ex__',\n",
        " '__repr__',\n",
        " '__self__',\n",
        " '__setattr__',\n",
        " '__sizeof__',\n",
        " '__str__',\n",
        " '__subclasshook__']"
       ]
      }
     ],
     "prompt_number": 22
    },
    {
     "cell_type": "code",
     "collapsed": false,
     "input": [
      "sum.__module__, np.sum.__module__  # Python sum vs. Numpy sum"
     ],
     "language": "python",
     "metadata": {},
     "outputs": [
      {
       "metadata": {},
       "output_type": "pyout",
       "prompt_number": 23,
       "text": [
        "('__builtin__', 'numpy.core.fromnumeric')"
       ]
      }
     ],
     "prompt_number": 23
    },
    {
     "cell_type": "code",
     "collapsed": false,
     "input": [
      "help(sum)"
     ],
     "language": "python",
     "metadata": {},
     "outputs": [
      {
       "output_type": "stream",
       "stream": "stdout",
       "text": [
        "Help on built-in function sum in module __builtin__:\n",
        "\n",
        "sum(...)\n",
        "    sum(sequence[, start]) -> value\n",
        "    \n",
        "    Returns the sum of a sequence of numbers (NOT strings) plus the value\n",
        "    of parameter 'start' (which defaults to 0).  When the sequence is\n",
        "    empty, returns start.\n",
        "\n"
       ]
      }
     ],
     "prompt_number": 24
    },
    {
     "cell_type": "heading",
     "level": 2,
     "metadata": {},
     "source": [
      "Finally"
     ]
    },
    {
     "cell_type": "markdown",
     "metadata": {},
     "source": [
      "Email your solutions (that should these 2 notebooks below) to lim[at]stsci.edu (Pey Lian Lim)\n",
      "\n",
      "- **Session5_Modified_Lecture_USERID.ipynb**\n",
      "- **Session5_Homework_USERID.ipynb** (a copy of this file with your solutions)"
     ]
    }
   ],
   "metadata": {}
  }
 ]
}