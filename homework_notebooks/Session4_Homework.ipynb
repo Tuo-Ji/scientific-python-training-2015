{
 "metadata": {
  "name": "",
  "signature": "sha256:73cceddb340886dfe3f3fecf50ac30c7afb37acf4e76993b07610a1634873752"
 },
 "nbformat": 3,
 "nbformat_minor": 0,
 "worksheets": [
  {
   "cells": [
    {
     "cell_type": "markdown",
     "metadata": {},
     "source": [
      "# Session 4 Homework\n",
      "### Due Tuesday COB March 3\n",
      "\n",
      "Submit homework by emailing your completed Notebook to lbradley@stsci.edu"
     ]
    },
    {
     "cell_type": "markdown",
     "metadata": {},
     "source": [
      "Examples of how to do all of these problems can be found in the lecture notebooks. You shouldn't need to download any data to complete the homework (unless you want to use one of the images we used from class. In that case, the data can be found in the GIT repository under the \"data\" directory. If you are not using the GIT repository directly on your machine, it is very easy to set up and the best way to have access to all the class material. In order to copy our class repository to your machine you can follow these simple commands:\n",
      "\n",
      "- Go to the directory you would like everything stored,  '/user/[yourname]/training/' for example\n",
      "- issue the command \"git init\"\n",
      "- issue the command \"git clone https://github.com/spacetelescope/scientific-python-training-2015.git\"\n",
      "\n",
      "That will make a directory called \"scientific-python-training-2015/\" and download all the files to it.\n",
      "    - if you want to update the files later, issue the command \"git pull\"\n"
     ]
    },
    {
     "cell_type": "heading",
     "level": 2,
     "metadata": {},
     "source": [
      "Part 1 - Write a Function"
     ]
    },
    {
     "cell_type": "markdown",
     "metadata": {},
     "source": [
      "Using the methods we discussed in class, write a function that satisfies these conditions:\n",
      "\n",
      "- Input is a filename of science image (FITS file), this can be any FITS file you like.\n",
      "\n",
      "- Output is a PDF file with the image scaled reasonably for its content with a scaled colorbar representing the display range\n",
      "\n",
      "\n",
      "Run the function to make sure it works and submit a copy of the PDF file produced.\n",
      "Call it [username]_part1.pdf"
     ]
    },
    {
     "cell_type": "heading",
     "level": 2,
     "metadata": {},
     "source": [
      "Part 2 - Write a Module"
     ]
    },
    {
     "cell_type": "markdown",
     "metadata": {},
     "source": [
      "1. Create a module. Name it anything you like. Place the function from Part 1 inside of it.\n",
      "\n",
      "2. Add a new function that satisfies these conditions:\n",
      "     - Input is a filename of a MEF (Multi-Extension FITS) image, any FITS image\n",
      "     - Perform object detection on the input image.\n",
      "     - Output is an ASCII table with the detection coordinates.\n",
      "\n",
      "3. Add a `__author__` global variable at the top of the file and assign it to your name. This is for identification by the grader. Example:\n",
      "\n",
      "   > `__author__` = 'Dr Evil'\n",
      "\n",
      "4. Include documentation and an example of how to run the function inside the module\n",
      "    - The documentation should be callable from the python prompt; if I ask for \"help(your function)\" something useful should be returned"
     ]
    },
    {
     "cell_type": "heading",
     "level": 2,
     "metadata": {},
     "source": [
      "Part 3 - Make your module executable from the command line"
     ]
    },
    {
     "cell_type": "markdown",
     "metadata": {},
     "source": [
      "Modify the module from Part 2 so that you can either import it or call it from your command line prompt. You can make this as simple or complex as you like, as long as it works.\n",
      "\n",
      "For example, if your module is called \"findstars.py\", you should be able to execute it from this notebook like this:\n",
      "\n",
      "    !findstars.py imagename.fits\n",
      "\n",
      "Execute your command line script below to make sure it works. Save the ascii table that is the output to a text file."
     ]
    },
    {
     "cell_type": "heading",
     "level": 2,
     "metadata": {},
     "source": [
      "Finally"
     ]
    },
    {
     "cell_type": "markdown",
     "metadata": {},
     "source": [
      "Email your solutions to lbradley@stsci.edu with the subject: **Session 4 homework**\n",
      "\n",
      "Send me this completed notebook (i.e. Part 1) and the files **module.py** and **[username]_sources.dat**.  \n",
      "\n",
      "Identify that you wrote the module by including an `__author__` assignment."
     ]
    },
    {
     "cell_type": "code",
     "collapsed": false,
     "input": [],
     "language": "python",
     "metadata": {},
     "outputs": []
    }
   ],
   "metadata": {}
  }
 ]
}