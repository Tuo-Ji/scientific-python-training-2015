{
 "metadata": {
  "name": "",
  "signature": "sha256:39d33ff31a2659ed07e9f467b6bfc104b8ceb17117e34cda3b9b4a03eee4741c"
 },
 "nbformat": 3,
 "nbformat_minor": 0,
 "worksheets": [
  {
   "cells": [
    {
     "cell_type": "markdown",
     "metadata": {},
     "source": [
      "# Session 5 Homework\n",
      "### Due Tuesday COB March 17\n",
      "\n",
      "Submit homework by emailing your completed Notebook to `lim[at]stsci.edu`\n"
     ]
    },
    {
     "cell_type": "heading",
     "level": 2,
     "metadata": {},
     "source": [
      "Part 0: Getting The Data"
     ]
    },
    {
     "cell_type": "markdown",
     "metadata": {},
     "source": [
      "- Download dataset https://github.com/spacetelescope/scientific-python-training-2015/tree/master/data/o67501020_flt.fits\n",
      "\n",
      "- Download Session 5 Lecture from https://github.com/spacetelescope/scientific-python-training-2015/tree/master/lecture_notebooks/Session5_STIS_Spec.ipynb , save it under a different name called \"Session5_Modified_Lecture_USERID.ipynb\"\n",
      "\n",
      "- Change `ifile` variable in the lecture to point to where you store your input FITS file\n",
      "\n",
      "**OR**\n",
      "\n",
      "- Use `git clone` on this entire repository. If you have already done this for a previous lecture in this course, you do not have to do it again."
     ]
    },
    {
     "cell_type": "heading",
     "level": 2,
     "metadata": {},
     "source": [
      "Part 1"
     ]
    },
    {
     "cell_type": "markdown",
     "metadata": {},
     "source": [
      "- Run the lecture notebook.\n",
      "\n",
      "- In the section **\"Fit a gaussian to a point > 2*median smoothed background\"**, turn the relevant codes into a function that returns \"pix_bestfit\". Hint: Use \"collapsed_img, loc_start, loc_end\" as input parameters. Then, call your function to get \"pix_bestfit\".\n",
      "\n",
      "- Insert a new cell below your function. Hint: Click Insert, then Insert Cell Below.\n",
      "\n",
      "- In the new cell, use your function to calculate pix_bestfit for all the spectrum locations in \"sp_start\" and \"sp_end\". Hint:\n",
      "\n",
      "        pix_list = []\n",
      "        for i, j in zip(sp_start, sp_end):\n",
      "            pix = your_function(collapsed_img, i, j)\n",
      "            pix_list.append(pix)\n",
      "\n",
      "- The solution above does not exclude any erroneous results when fitting fails. Modify it so that `pix_list` only contains real results. Hint: Use \"if\" statement."
     ]
    },
    {
     "cell_type": "heading",
     "level": 2,
     "metadata": {},
     "source": [
      "Part 2"
     ]
    },
    {
     "cell_type": "markdown",
     "metadata": {},
     "source": [
      "- Replace this command using Python \"subprocess\" module:\n",
      "\n",
      "        !which cs6.e"
     ]
    },
    {
     "cell_type": "code",
     "collapsed": false,
     "input": [
      "import subprocess\n",
      "\n",
      "# Put your solution here"
     ],
     "language": "python",
     "metadata": {},
     "outputs": []
    },
    {
     "cell_type": "heading",
     "level": 2,
     "metadata": {},
     "source": [
      "Part 3"
     ]
    },
    {
     "cell_type": "markdown",
     "metadata": {},
     "source": [
      "Use Numpy indexing/slicing to turn this \"original_array\"\n",
      "\n",
      "    [0, 1, 2, 3, 4, 5, 6, 7, 8, 9]\n",
      "\n",
      "to this\n",
      "\n",
      "    [9, 7, 5, 3, 1]"
     ]
    },
    {
     "cell_type": "code",
     "collapsed": false,
     "input": [
      "import numpy as np\n",
      "original_array = np.arange(10)\n",
      "\n",
      "# Put your solution here\n",
      "\n",
      "my_array = something\n",
      "\n",
      "# If your solution is right, this test will pass,\n",
      "# else it raises AssertionError\n",
      "\n",
      "np.testing.assert_array_equal(my_array, [9, 7, 5, 3, 1])"
     ],
     "language": "python",
     "metadata": {},
     "outputs": []
    },
    {
     "cell_type": "heading",
     "level": 2,
     "metadata": {},
     "source": [
      "Finally"
     ]
    },
    {
     "cell_type": "markdown",
     "metadata": {},
     "source": [
      "Email your solutions (that should these 2 notebooks below) to lim[at]stsci.edu (Pey Lian Lim)\n",
      "\n",
      "- **Session5_Modified_Lecture_USERID.ipynb**\n",
      "- **Session5_Homework_USERID.ipynb** (a copy of this file with your solutions)"
     ]
    }
   ],
   "metadata": {}
  }
 ]
}