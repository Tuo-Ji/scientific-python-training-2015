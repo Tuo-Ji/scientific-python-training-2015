{
 "metadata": {
  "name": "",
  "signature": "sha256:1665fd8489290ac365ac0cb21615f61c81ad0e019d5663a2c43b6f16124c49b7"
 },
 "nbformat": 3,
 "nbformat_minor": 0,
 "worksheets": [
  {
   "cells": [
    {
     "cell_type": "heading",
     "level": 1,
     "metadata": {},
     "source": [
      "Using fits, numpy, matplotlib and tables"
     ]
    },
    {
     "cell_type": "markdown",
     "metadata": {},
     "source": [
      "Fits, numpy, matplotlib and tables are the four most useful tools for analyzing astronomical data.  numpy gives Python the ability to do array arithmetic like IDL.  Fits allows us to get the data from FITS files into these arrays. Matplotlib is a simple-to-use yet powerful plotting package, and tables provides powerful tools for manipulating tabular data.\n",
      "\n",
      "You should have numpy and matplotlib available to you through ureka, while the fits and tables modules are in astropy.\n",
      "\n",
      "From within Python, you have to import a package to make it available to you; this is rather different from IDL where as long as something is on your IDL search path, it's available without you doing anything else.\n"
     ]
    },
    {
     "cell_type": "code",
     "collapsed": false,
     "input": [
      "import astropy.io.fits as fits"
     ],
     "language": "python",
     "metadata": {},
     "outputs": [],
     "prompt_number": 1
    },
    {
     "cell_type": "code",
     "collapsed": false,
     "input": [
      "import numpy as np\n",
      "np.__version__"
     ],
     "language": "python",
     "metadata": {},
     "outputs": [
      {
       "metadata": {},
       "output_type": "pyout",
       "prompt_number": 2,
       "text": [
        "'1.9.0'"
       ]
      }
     ],
     "prompt_number": 2
    },
    {
     "cell_type": "code",
     "collapsed": false,
     "input": [
      "from matplotlib import pyplot\n",
      "pyplot.ion()\n",
      "pyplot.plot()"
     ],
     "language": "python",
     "metadata": {},
     "outputs": [
      {
       "metadata": {},
       "output_type": "pyout",
       "prompt_number": 8,
       "text": [
        "[]"
       ]
      },
      {
       "metadata": {},
       "output_type": "display_data",
       "png": "[encoded data removed]",
       "text": [
        "<matplotlib.figure.Figure at 0xd44e550>"
       ]
      }
     ],
     "prompt_number": 8
    },
    {
     "cell_type": "markdown",
     "metadata": {},
     "source": [
      "The first thing you need to be able to do is get the data from a FITS file and put it into an array.  First let's find a FITS file.  IPython allows you to use several shell commands from within Python, so we can type 'cd' and 'ls' and IPython executes them.  The regular Python interpreter doesn't do this, PyRAF does to a certain extent."
     ]
    },
    {
     "cell_type": "code",
     "collapsed": false,
     "input": [
      "pwd"
     ],
     "language": "python",
     "metadata": {},
     "outputs": [
      {
       "metadata": {},
       "output_type": "pyout",
       "prompt_number": 9,
       "text": [
        "u'c:\\\\Users\\\\rij\\\\repo\\\\lecture_notebooks'"
       ]
      }
     ],
     "prompt_number": 9
    },
    {
     "cell_type": "code",
     "collapsed": false,
     "input": [
      "cd z:\\ssb\\PythonCourse2012"
     ],
     "language": "python",
     "metadata": {},
     "outputs": [
      {
       "output_type": "stream",
       "stream": "stdout",
       "text": [
        "z:\\ssb\\PythonCourse2012\n"
       ]
      }
     ],
     "prompt_number": 33
    },
    {
     "cell_type": "code",
     "collapsed": false,
     "input": [
      "ls"
     ],
     "language": "python",
     "metadata": {},
     "outputs": [
      {
       "output_type": "stream",
       "stream": "stdout",
       "text": [
        " Volume in drive Z is 385\n",
        " Volume Serial Number is 0000-03B4\n",
        "\n",
        " Directory of z:\\ssb\\PythonCourse2012\n",
        "\n",
        "12/13/2012  10:06 AM    <DIR>          .\n",
        "01/05/2015  04:34 PM    <DIR>          ..\n",
        "12/05/2012  11:21 AM    <DIR>          astropy-2012-12-05\n",
        "12/05/2012  11:19 AM        24,268,800 astropy-2012-12-05.tar\n",
        "03/13/2013  02:08 PM    <DIR>          Homework\n",
        "12/04/2012  05:35 PM             3,636 install_ureka_v1.0beta3\n",
        "11/26/2012  03:09 PM            49,315 Lecture2-Copy0.ipynb\n",
        "11/28/2012  03:32 PM     3,691,019,520 newversion.fits\n",
        "11/09/2012  04:06 PM     2,952,820,800 NRS1_dark88.fits\n",
        "01/08/2013  03:04 PM    <DIR>          scientific-python-training-2012\n",
        "12/11/2012  03:07 PM           380,874 Session2_Basic.ipynb\n",
        "12/11/2012  02:49 PM             2,483 Session2_Homework.ipynb\n",
        "11/21/2012  03:15 PM               100 Untitled0.ipynb\n",
        "12/04/2012  05:42 PM    <DIR>          Ureka\n",
        "               8 File(s)  6,668,545,528 bytes\n",
        "               6 Dir(s)  56,485,715,968 bytes free\n"
       ]
      }
     ],
     "prompt_number": 34
    },
    {
     "cell_type": "markdown",
     "metadata": {},
     "source": [
      "We have NRS1_dark88.fits.  This is a NIRSpec dark exposure made up of 88 groups, each group holds a 10.5 second exposure and the data is read non-destructively, like NICMOS and WFC3IR.  We can inspect the contents of this without actually opening it:"
     ]
    },
    {
     "cell_type": "code",
     "collapsed": false,
     "input": [
      "fits.info('NRS1_dark88.fits')"
     ],
     "language": "python",
     "metadata": {},
     "outputs": [
      {
       "output_type": "stream",
       "stream": "stdout",
       "text": [
        "Filename: NRS1_dark88.fits\n",
        "No.    Name         Type      Cards   Dimensions   Format\n",
        "0    PRIMARY     PrimaryHDU     200   ()              \n",
        "1    SCI         ImageHDU        13   (2048, 2048, 88, 1)   int16   \n",
        "2    ERR         ImageHDU        10   (2048, 2048, 88, 1)   float32   \n",
        "3    DQ          ImageHDU        10   (2048, 2048, 88, 1)   int16   \n"
       ]
      }
     ],
     "prompt_number": 35
    },
    {
     "cell_type": "markdown",
     "metadata": {},
     "source": [
      "The most flexible way of opening this file and getting at the data and header information is to use the \n",
      "fits open command"
     ]
    },
    {
     "cell_type": "code",
     "collapsed": false,
     "input": [
      "h = fits.open('NRS1_dark88.fits')"
     ],
     "language": "python",
     "metadata": {},
     "outputs": [],
     "prompt_number": 36
    },
    {
     "cell_type": "markdown",
     "metadata": {},
     "source": [
      "h is a handle or pointer to all the information in the FITS file."
     ]
    },
    {
     "cell_type": "code",
     "collapsed": false,
     "input": [
      "help(h)"
     ],
     "language": "python",
     "metadata": {},
     "outputs": [
      {
       "output_type": "stream",
       "stream": "stdout",
       "text": [
        "Help on HDUList in module astropy.io.fits.hdu.hdulist object:\n",
        "\n",
        "class HDUList(__builtin__.list, astropy.io.fits.verify._Verify)\n",
        " |  HDU list class.  This is the top-level FITS object.  When a FITS\n",
        " |  file is opened, a `HDUList` object is returned.\n",
        " |  \n",
        " |  Method resolution order:\n",
        " |      HDUList\n",
        " |      __builtin__.list\n",
        " |      astropy.io.fits.verify._Verify\n",
        " |      __builtin__.object\n",
        " |  \n",
        " |  Methods defined here:\n",
        " |  \n",
        " |  __delitem__(self, key)\n",
        " |      Delete an HDU from the `HDUList`, indexed by number or name.\n",
        " |  \n",
        " |  __delslice__(self, start, stop)\n",
        " |      Delete a slice of HDUs from the `HDUList`, indexed by number only.\n",
        " |  \n",
        " |  __enter__(self)\n",
        " |      # Support the 'with' statement\n",
        " |  \n",
        " |  __exit__(self, type, value, traceback)\n",
        " |  \n",
        " |  __getitem__(self, key)\n",
        " |      Get an HDU from the `HDUList`, indexed by number or name.\n",
        " |  \n",
        " |  __getslice__(self, start, end)\n",
        " |  \n",
        " |  __init__(self, hdus=[], file=None)\n",
        " |      Construct a `HDUList` object.\n",
        " |      \n",
        " |      Parameters\n",
        " |      ----------\n",
        " |      hdus : sequence of HDU objects or single HDU, optional\n",
        " |          The HDU object(s) to comprise the `HDUList`.  Should be\n",
        " |          instances of HDU classes like `ImageHDU` or `BinTableHDU`.\n",
        " |      \n",
        " |      file : file object, optional\n",
        " |          The opened physical file associated with the `HDUList`.\n",
        " |  \n",
        " |  __iter__(self)\n",
        " |  \n",
        " |  __setitem__(self, key, hdu)\n",
        " |      Set an HDU to the `HDUList`, indexed by number or name.\n",
        " |  \n",
        " |  append(self, hdu)\n",
        " |      Append a new HDU to the `HDUList`.\n",
        " |      \n",
        " |      Parameters\n",
        " |      ----------\n",
        " |      hdu : HDU object\n",
        " |          HDU to add to the `HDUList`.\n",
        " |  \n",
        " |  close(self, output_verify='exception', verbose=False, closed=True)\n",
        " |      Close the associated FITS file and memmap object, if any.\n",
        " |      \n",
        " |      Parameters\n",
        " |      ----------\n",
        " |      output_verify : str\n",
        " |          Output verification option.  Must be one of ``\"fix\"``,\n",
        " |          ``\"silentfix\"``, ``\"ignore\"``, ``\"warn\"``, or\n",
        " |          ``\"exception\"``.  May also be any combination of ``\"fix\"`` or\n",
        " |          ``\"silentfix\"`` with ``\"+ignore\"``, ``+warn``, or ``+exception\"\n",
        " |          (e.g. ``\"fix+warn\"``).  See :ref:`verify` for more info.\n",
        " |      \n",
        " |      verbose : bool\n",
        " |          When `True`, print out verbose messages.\n",
        " |      \n",
        " |      closed : bool\n",
        " |          When `True`, close the underlying file object.\n",
        " |  \n",
        " |  fileinfo(self, index)\n",
        " |      Returns a dictionary detailing information about the locations\n",
        " |      of the indexed HDU within any associated file.  The values are\n",
        " |      only valid after a read or write of the associated file with\n",
        " |      no intervening changes to the `HDUList`.\n",
        " |      \n",
        " |      Parameters\n",
        " |      ----------\n",
        " |      index : int\n",
        " |          Index of HDU for which info is to be returned.\n",
        " |      \n",
        " |      Returns\n",
        " |      -------\n",
        " |      fileinfo : dict or None\n",
        " |      \n",
        " |          The dictionary details information about the locations of\n",
        " |          the indexed HDU within an associated file.  Returns `None`\n",
        " |          when the HDU is not associated with a file.\n",
        " |      \n",
        " |          Dictionary contents:\n",
        " |      \n",
        " |          ========== ========================================================\n",
        " |          Key        Value\n",
        " |          ========== ========================================================\n",
        " |          file       File object associated with the HDU\n",
        " |          filename   Name of associated file object\n",
        " |          filemode   Mode in which the file was opened (readonly,\n",
        " |                     update, append, denywrite, ostream)\n",
        " |          resized    Flag that when `True` indicates that the data has been\n",
        " |                     resized since the last read/write so the returned values\n",
        " |                     may not be valid.\n",
        " |          hdrLoc     Starting byte location of header in file\n",
        " |          datLoc     Starting byte location of data block in file\n",
        " |          datSpan    Data size including padding\n",
        " |          ========== ========================================================\n",
        " |  \n",
        " |  filename(self)\n",
        " |      Return the file name associated with the HDUList object if one exists.\n",
        " |      Otherwise returns None.\n",
        " |      \n",
        " |      Returns\n",
        " |      -------\n",
        " |      filename : a string containing the file name associated with the\n",
        " |                 HDUList object if an association exists.  Otherwise returns\n",
        " |                 None.\n",
        " |  \n",
        " |  flush(*args, **kwargs)\n",
        " |      Force a write of the `HDUList` back to the file (for append and\n",
        " |      update modes only).\n",
        " |      \n",
        " |      Parameters\n",
        " |      ----------\n",
        " |      output_verify : str\n",
        " |          Output verification option.  Must be one of ``\"fix\"``,\n",
        " |          ``\"silentfix\"``, ``\"ignore\"``, ``\"warn\"``, or\n",
        " |          ``\"exception\"``.  May also be any combination of ``\"fix\"`` or\n",
        " |          ``\"silentfix\"`` with ``\"+ignore\"``, ``+warn``, or ``+exception\"\n",
        " |          (e.g. ``\"fix+warn\"``).  See :ref:`verify` for more info.\n",
        " |      \n",
        " |      verbose : bool\n",
        " |          When `True`, print verbose messages\n",
        " |  \n",
        " |  index_of(self, key)\n",
        " |      Get the index of an HDU from the `HDUList`.\n",
        " |      \n",
        " |      Parameters\n",
        " |      ----------\n",
        " |      key : int, str or tuple of (string, int)\n",
        " |         The key identifying the HDU.  If ``key`` is a tuple, it is of the\n",
        " |         form ``(key, ver)`` where ``ver`` is an ``EXTVER`` value that must\n",
        " |         match the HDU being searched for.\n",
        " |      \n",
        " |      Returns\n",
        " |      -------\n",
        " |      index : int\n",
        " |         The index of the HDU in the `HDUList`.\n",
        " |  \n",
        " |  info(self, output=None)\n",
        " |      Summarize the info of the HDUs in this `HDUList`.\n",
        " |      \n",
        " |      Note that this function prints its results to the console---it\n",
        " |      does not return a value.\n",
        " |      \n",
        " |      Parameters\n",
        " |      ----------\n",
        " |      output : file, bool, optional\n",
        " |          A file-like object to write the output to.  If `False`, does not\n",
        " |          output to a file and instead returns a list of tuples representing\n",
        " |          the HDU info.  Writes to ``sys.stdout`` by default.\n",
        " |  \n",
        " |  insert(self, index, hdu)\n",
        " |      Insert an HDU into the `HDUList` at the given ``index``.\n",
        " |      \n",
        " |      Parameters\n",
        " |      ----------\n",
        " |      index : int\n",
        " |          Index before which to insert the new HDU.\n",
        " |      \n",
        " |      hdu : HDU object\n",
        " |          The HDU object to insert\n",
        " |  \n",
        " |  readall(self)\n",
        " |      Read data of all HDUs into memory.\n",
        " |  \n",
        " |  update_extend(self)\n",
        " |      Make sure that if the primary header needs the keyword ``EXTEND`` that\n",
        " |      it has it and it is correct.\n",
        " |  \n",
        " |  writeto(self, fileobj, output_verify='exception', clobber=False, checksum=False)\n",
        " |      Write the `HDUList` to a new file.\n",
        " |      \n",
        " |      Parameters\n",
        " |      ----------\n",
        " |      fileobj : file path, file object or file-like object\n",
        " |          File to write to.  If a file object, must be opened in a\n",
        " |          writeable mode.\n",
        " |      \n",
        " |      output_verify : str\n",
        " |          Output verification option.  Must be one of ``\"fix\"``,\n",
        " |          ``\"silentfix\"``, ``\"ignore\"``, ``\"warn\"``, or\n",
        " |          ``\"exception\"``.  May also be any combination of ``\"fix\"`` or\n",
        " |          ``\"silentfix\"`` with ``\"+ignore\"``, ``+warn``, or ``+exception\"\n",
        " |          (e.g. ``\"fix+warn\"``).  See :ref:`verify` for more info.\n",
        " |      \n",
        " |      clobber : bool\n",
        " |          When `True`, overwrite the output file if exists.\n",
        " |      \n",
        " |      checksum : bool\n",
        " |          When `True` adds both ``DATASUM`` and ``CHECKSUM`` cards\n",
        " |          to the headers of all HDU's written to the file.\n",
        " |  \n",
        " |  ----------------------------------------------------------------------\n",
        " |  Class methods defined here:\n",
        " |  \n",
        " |  fromfile(cls, fileobj, mode=None, memmap=False, save_backup=False, **kwargs) from __builtin__.type\n",
        " |      Creates an `HDUList` instance from a file-like object.\n",
        " |      \n",
        " |      The actual implementation of ``fitsopen()``, and generally shouldn't\n",
        " |      be used directly.  Use :func:`open` instead (and see its\n",
        " |      documentation for details of the parameters accepted by this method).\n",
        " |  \n",
        " |  fromstring(cls, data, **kwargs) from __builtin__.type\n",
        " |      Creates an `HDUList` instance from a string or other in-memory data\n",
        " |      buffer containing an entire FITS file.  Similar to\n",
        " |      :meth:`HDUList.fromfile`, but does not accept the mode or memmap\n",
        " |      arguments, as they are only relevant to reading from a file on disk.\n",
        " |      \n",
        " |      This is useful for interfacing with other libraries such as CFITSIO,\n",
        " |      and may also be useful for streaming applications.\n",
        " |      \n",
        " |      Parameters\n",
        " |      ----------\n",
        " |      data : str, buffer, memoryview, etc.\n",
        " |          A string or other memory buffer containing an entire FITS file.  It\n",
        " |          should be noted that if that memory is read-only (such as a Python\n",
        " |          string) the returned :class:`HDUList`'s data portions will also be\n",
        " |          read-only.\n",
        " |      \n",
        " |      kwargs : dict\n",
        " |          Optional keyword arguments.  See\n",
        " |          :func:`astropy.io.fits.open` for details.\n",
        " |      \n",
        " |      Returns\n",
        " |      -------\n",
        " |      hdul : HDUList\n",
        " |          An :class:`HDUList` object representing the in-memory FITS file.\n",
        " |  \n",
        " |  ----------------------------------------------------------------------\n",
        " |  Data descriptors defined here:\n",
        " |  \n",
        " |  __dict__\n",
        " |      dictionary for instance variables (if defined)\n",
        " |  \n",
        " |  __weakref__\n",
        " |      list of weak references to the object (if defined)\n",
        " |  \n",
        " |  ----------------------------------------------------------------------\n",
        " |  Methods inherited from __builtin__.list:\n",
        " |  \n",
        " |  __add__(...)\n",
        " |      x.__add__(y) <==> x+y\n",
        " |  \n",
        " |  __contains__(...)\n",
        " |      x.__contains__(y) <==> y in x\n",
        " |  \n",
        " |  __eq__(...)\n",
        " |      x.__eq__(y) <==> x==y\n",
        " |  \n",
        " |  __ge__(...)\n",
        " |      x.__ge__(y) <==> x>=y\n",
        " |  \n",
        " |  __getattribute__(...)\n",
        " |      x.__getattribute__('name') <==> x.name\n",
        " |  \n",
        " |  __gt__(...)\n",
        " |      x.__gt__(y) <==> x>y\n",
        " |  \n",
        " |  __iadd__(...)\n",
        " |      x.__iadd__(y) <==> x+=y\n",
        " |  \n",
        " |  __imul__(...)\n",
        " |      x.__imul__(y) <==> x*=y\n",
        " |  \n",
        " |  __le__(...)\n",
        " |      x.__le__(y) <==> x<=y\n",
        " |  \n",
        " |  __len__(...)\n",
        " |      x.__len__() <==> len(x)\n",
        " |  \n",
        " |  __lt__(...)\n",
        " |      x.__lt__(y) <==> x<y\n",
        " |  \n",
        " |  __mul__(...)\n",
        " |      x.__mul__(n) <==> x*n\n",
        " |  \n",
        " |  __ne__(...)\n",
        " |      x.__ne__(y) <==> x!=y\n",
        " |  \n",
        " |  __repr__(...)\n",
        " |      x.__repr__() <==> repr(x)\n",
        " |  \n",
        " |  __reversed__(...)\n",
        " |      L.__reversed__() -- return a reverse iterator over the list\n",
        " |  \n",
        " |  __rmul__(...)\n",
        " |      x.__rmul__(n) <==> n*x\n",
        " |  \n",
        " |  __setslice__(...)\n",
        " |      x.__setslice__(i, j, y) <==> x[i:j]=y\n",
        " |      \n",
        " |      Use  of negative indices is not supported.\n",
        " |  \n",
        " |  __sizeof__(...)\n",
        " |      L.__sizeof__() -- size of L in memory, in bytes\n",
        " |  \n",
        " |  count(...)\n",
        " |      L.count(value) -> integer -- return number of occurrences of value\n",
        " |  \n",
        " |  extend(...)\n",
        " |      L.extend(iterable) -- extend list by appending elements from the iterable\n",
        " |  \n",
        " |  index(...)\n",
        " |      L.index(value, [start, [stop]]) -> integer -- return first index of value.\n",
        " |      Raises ValueError if the value is not present.\n",
        " |  \n",
        " |  pop(...)\n",
        " |      L.pop([index]) -> item -- remove and return item at index (default last).\n",
        " |      Raises IndexError if list is empty or index is out of range.\n",
        " |  \n",
        " |  remove(...)\n",
        " |      L.remove(value) -- remove first occurrence of value.\n",
        " |      Raises ValueError if the value is not present.\n",
        " |  \n",
        " |  reverse(...)\n",
        " |      L.reverse() -- reverse *IN PLACE*\n",
        " |  \n",
        " |  sort(...)\n",
        " |      L.sort(cmp=None, key=None, reverse=False) -- stable sort *IN PLACE*;\n",
        " |      cmp(x, y) -> -1, 0, 1\n",
        " |  \n",
        " |  ----------------------------------------------------------------------\n",
        " |  Data and other attributes inherited from __builtin__.list:\n",
        " |  \n",
        " |  __hash__ = None\n",
        " |  \n",
        " |  __new__ = <built-in method __new__ of type object>\n",
        " |      T.__new__(S, ...) -> a new object with type S, a subtype of T\n",
        " |  \n",
        " |  ----------------------------------------------------------------------\n",
        " |  Methods inherited from astropy.io.fits.verify._Verify:\n",
        " |  \n",
        " |  run_option(self, option=u'warn', err_text=u'', fix_text=u'Fixed.', fix=None, fixable=True)\n",
        " |      Execute the verification with selected option.\n",
        " |  \n",
        " |  verify(self, option=u'warn')\n",
        " |      Verify all values in the instance.\n",
        " |      \n",
        " |      Parameters\n",
        " |      ----------\n",
        " |      option : str\n",
        " |          Output verification option.  Must be one of ``\"fix\"``,\n",
        " |          ``\"silentfix\"``, ``\"ignore\"``, ``\"warn\"``, or\n",
        " |          ``\"exception\"``.  May also be any combination of ``\"fix\"`` or\n",
        " |          ``\"silentfix\"`` with ``\"+ignore\"``, ``+warn``, or ``+exception\"\n",
        " |          (e.g. ``\"fix+warn\"``).  See :ref:`verify` for more info.\n",
        "\n"
       ]
      }
     ],
     "prompt_number": 37
    },
    {
     "cell_type": "code",
     "collapsed": false,
     "input": [
      "type(h)"
     ],
     "language": "python",
     "metadata": {},
     "outputs": [
      {
       "metadata": {},
       "output_type": "pyout",
       "prompt_number": 38,
       "text": [
        "astropy.io.fits.hdu.hdulist.HDUList"
       ]
      }
     ],
     "prompt_number": 38
    },
    {
     "cell_type": "markdown",
     "metadata": {},
     "source": [
      "fits.open returns something called an HDUList, which behaves like a list of header/data units."
     ]
    },
    {
     "cell_type": "code",
     "collapsed": false,
     "input": [
      "h"
     ],
     "language": "python",
     "metadata": {},
     "outputs": [
      {
       "metadata": {},
       "output_type": "pyout",
       "prompt_number": 39,
       "text": [
        "[<astropy.io.fits.hdu.image.PrimaryHDU at 0xd740208>,\n",
        " <astropy.io.fits.hdu.image.ImageHDU at 0xd2d5f60>,\n",
        " <astropy.io.fits.hdu.image.ImageHDU at 0xd2d5ac8>,\n",
        " <astropy.io.fits.hdu.image.ImageHDU at 0xd2d5e48>]"
       ]
      }
     ],
     "prompt_number": 39
    },
    {
     "cell_type": "markdown",
     "metadata": {},
     "source": [
      "A list is Python data structure that is an ordered collection of objects, enclosed in square brackets and with its members separated by commas.\n",
      "\n",
      "This list has four members, a PrimaryHDU object and three ImageHDU objects. These are what we saw when we did fits.info(), a single Primary HDU and 3 Image HDUs, the SCI, ERR and DQ HDUs.\n",
      "\n",
      "We can refer to the individual members of a list using C-like indexing, starting at 0."
     ]
    },
    {
     "cell_type": "code",
     "collapsed": false,
     "input": [
      "h[0]"
     ],
     "language": "python",
     "metadata": {},
     "outputs": [
      {
       "metadata": {},
       "output_type": "pyout",
       "prompt_number": 40,
       "text": [
        "<astropy.io.fits.hdu.image.PrimaryHDU at 0xd740208>"
       ]
      }
     ],
     "prompt_number": 40
    },
    {
     "cell_type": "code",
     "collapsed": false,
     "input": [
      "h[2]"
     ],
     "language": "python",
     "metadata": {},
     "outputs": [
      {
       "metadata": {},
       "output_type": "pyout",
       "prompt_number": 41,
       "text": [
        "<astropy.io.fits.hdu.image.ImageHDU at 0xd2d5ac8>"
       ]
      }
     ],
     "prompt_number": 41
    },
    {
     "cell_type": "code",
     "collapsed": false,
     "input": [
      "h[4]"
     ],
     "language": "python",
     "metadata": {},
     "outputs": [
      {
       "ename": "IndexError",
       "evalue": "list index out of range",
       "output_type": "pyerr",
       "traceback": [
        "\u001b[1;31m---------------------------------------------------------------------------\u001b[0m\n\u001b[1;31mIndexError\u001b[0m                                Traceback (most recent call last)",
        "\u001b[1;32m<ipython-input-42-0b2c789b69f7>\u001b[0m in \u001b[0;36m<module>\u001b[1;34m()\u001b[0m\n\u001b[1;32m----> 1\u001b[1;33m \u001b[0mh\u001b[0m\u001b[1;33m[\u001b[0m\u001b[1;36m4\u001b[0m\u001b[1;33m]\u001b[0m\u001b[1;33m\u001b[0m\u001b[0m\n\u001b[0m",
        "\u001b[1;32mc:\\Users\\rij\\AppData\\Local\\Continuum\\Anaconda\\lib\\site-packages\\astropy\\io\\fits\\hdu\\hdulist.pyc\u001b[0m in \u001b[0;36m__getitem__\u001b[1;34m(self, key)\u001b[0m\n\u001b[0;32m    175\u001b[0m \u001b[1;33m\u001b[0m\u001b[0m\n\u001b[0;32m    176\u001b[0m         \u001b[0midx\u001b[0m \u001b[1;33m=\u001b[0m \u001b[0mself\u001b[0m\u001b[1;33m.\u001b[0m\u001b[0mindex_of\u001b[0m\u001b[1;33m(\u001b[0m\u001b[0mkey\u001b[0m\u001b[1;33m)\u001b[0m\u001b[1;33m\u001b[0m\u001b[0m\n\u001b[1;32m--> 177\u001b[1;33m         \u001b[1;32mreturn\u001b[0m \u001b[0msuper\u001b[0m\u001b[1;33m(\u001b[0m\u001b[0mHDUList\u001b[0m\u001b[1;33m,\u001b[0m \u001b[0mself\u001b[0m\u001b[1;33m)\u001b[0m\u001b[1;33m.\u001b[0m\u001b[0m__getitem__\u001b[0m\u001b[1;33m(\u001b[0m\u001b[0midx\u001b[0m\u001b[1;33m)\u001b[0m\u001b[1;33m\u001b[0m\u001b[0m\n\u001b[0m\u001b[0;32m    178\u001b[0m \u001b[1;33m\u001b[0m\u001b[0m\n\u001b[0;32m    179\u001b[0m     \u001b[1;32mdef\u001b[0m \u001b[0m__setitem__\u001b[0m\u001b[1;33m(\u001b[0m\u001b[0mself\u001b[0m\u001b[1;33m,\u001b[0m \u001b[0mkey\u001b[0m\u001b[1;33m,\u001b[0m \u001b[0mhdu\u001b[0m\u001b[1;33m)\u001b[0m\u001b[1;33m:\u001b[0m\u001b[1;33m\u001b[0m\u001b[0m\n",
        "\u001b[1;31mIndexError\u001b[0m: list index out of range"
       ]
      }
     ],
     "prompt_number": 42
    },
    {
     "cell_type": "markdown",
     "metadata": {},
     "source": [
      "The index goes from 0 to 3, so if we try to access element #4, Python will give us an error, or 'throw an exception'"
     ]
    },
    {
     "cell_type": "markdown",
     "metadata": {},
     "source": [
      "In this case, we are throwing an IndexError exception, because we tried to access a list element with an index outside the range of indices of h."
     ]
    },
    {
     "cell_type": "markdown",
     "metadata": {},
     "source": [
      "The data we are interested in is in extension #1.  We can't get at it using the 'SCI' name like we can with IRAF, we have to use its index."
     ]
    },
    {
     "cell_type": "code",
     "collapsed": false,
     "input": [
      "cube = h[1].data"
     ],
     "language": "python",
     "metadata": {},
     "outputs": [],
     "prompt_number": 43
    },
    {
     "cell_type": "markdown",
     "metadata": {},
     "source": [
      "Now I have the 4-dimensional pixel data from the SCI extension in the 4-dimension numpy array 'cube'.  This cube has 1 integration of 88 groups, each with a 2048 by 2048 2-dimensional array\n",
      "\n",
      "We could have read the data into our array by using the convenience functions as mentioned in the previous lecture:\n",
      "\n",
      "cube = fits.getdata('NRS1_dark88.fits')\n",
      "\n",
      "which avoids using the 'Open' function of fits.  Similarly, you can get the header from a FITS file by doing\n",
      "\n",
      "header = fits.getheader('NRS1_dark88.fits')\n",
      "\n",
      "The fits documentation at http://astropy.readthedocs.org/en/latest/io/fits/ will give more information."
     ]
    },
    {
     "cell_type": "code",
     "collapsed": false,
     "input": [
      "cube.shape"
     ],
     "language": "python",
     "metadata": {},
     "outputs": [
      {
       "metadata": {},
       "output_type": "pyout",
       "prompt_number": 44,
       "text": [
        "(1L, 88L, 2048L, 2048L)"
       ]
      }
     ],
     "prompt_number": 44
    },
    {
     "cell_type": "markdown",
     "metadata": {},
     "source": [
      "We can investigate the shape of this array by inspecting the 'shape' attribute of the cube object.  All numpy arrays have a shape attribute.  The ordering is C-like rather than FORTRAN-like, with the most rapidly-varying index last rather than first.  Notice how the ordering in the fits.info() function earlier is IRAF/Fortran like, probably from a historical desire to make the header listing somewhat similar to IRAF's FITS header listings."
     ]
    },
    {
     "cell_type": "markdown",
     "metadata": {},
     "source": [
      "numpy arrays have many attributes that you can inspect.  Some of these are variables, others are functions.  You can find out all the atributes of an object by using the Python built-in 'dir' function:"
     ]
    },
    {
     "cell_type": "code",
     "collapsed": false,
     "input": [
      "dir(cube)"
     ],
     "language": "python",
     "metadata": {},
     "outputs": [
      {
       "metadata": {},
       "output_type": "pyout",
       "prompt_number": 45,
       "text": [
        "['T',\n",
        " '__abs__',\n",
        " '__add__',\n",
        " '__and__',\n",
        " '__array__',\n",
        " '__array_finalize__',\n",
        " '__array_interface__',\n",
        " '__array_prepare__',\n",
        " '__array_priority__',\n",
        " '__array_struct__',\n",
        " '__array_wrap__',\n",
        " '__class__',\n",
        " '__contains__',\n",
        " '__copy__',\n",
        " '__deepcopy__',\n",
        " '__delattr__',\n",
        " '__delitem__',\n",
        " '__delslice__',\n",
        " '__div__',\n",
        " '__divmod__',\n",
        " '__doc__',\n",
        " '__eq__',\n",
        " '__float__',\n",
        " '__floordiv__',\n",
        " '__format__',\n",
        " '__ge__',\n",
        " '__getattribute__',\n",
        " '__getitem__',\n",
        " '__getslice__',\n",
        " '__gt__',\n",
        " '__hash__',\n",
        " '__hex__',\n",
        " '__iadd__',\n",
        " '__iand__',\n",
        " '__idiv__',\n",
        " '__ifloordiv__',\n",
        " '__ilshift__',\n",
        " '__imod__',\n",
        " '__imul__',\n",
        " '__index__',\n",
        " '__init__',\n",
        " '__int__',\n",
        " '__invert__',\n",
        " '__ior__',\n",
        " '__ipow__',\n",
        " '__irshift__',\n",
        " '__isub__',\n",
        " '__iter__',\n",
        " '__itruediv__',\n",
        " '__ixor__',\n",
        " '__le__',\n",
        " '__len__',\n",
        " '__long__',\n",
        " '__lshift__',\n",
        " '__lt__',\n",
        " '__mod__',\n",
        " '__mul__',\n",
        " '__ne__',\n",
        " '__neg__',\n",
        " '__new__',\n",
        " '__nonzero__',\n",
        " '__oct__',\n",
        " '__or__',\n",
        " '__pos__',\n",
        " '__pow__',\n",
        " '__radd__',\n",
        " '__rand__',\n",
        " '__rdiv__',\n",
        " '__rdivmod__',\n",
        " '__reduce__',\n",
        " '__reduce_ex__',\n",
        " '__repr__',\n",
        " '__rfloordiv__',\n",
        " '__rlshift__',\n",
        " '__rmod__',\n",
        " '__rmul__',\n",
        " '__ror__',\n",
        " '__rpow__',\n",
        " '__rrshift__',\n",
        " '__rshift__',\n",
        " '__rsub__',\n",
        " '__rtruediv__',\n",
        " '__rxor__',\n",
        " '__setattr__',\n",
        " '__setitem__',\n",
        " '__setslice__',\n",
        " '__setstate__',\n",
        " '__sizeof__',\n",
        " '__str__',\n",
        " '__sub__',\n",
        " '__subclasshook__',\n",
        " '__truediv__',\n",
        " '__xor__',\n",
        " 'all',\n",
        " 'any',\n",
        " 'argmax',\n",
        " 'argmin',\n",
        " 'argpartition',\n",
        " 'argsort',\n",
        " 'astype',\n",
        " 'base',\n",
        " 'byteswap',\n",
        " 'choose',\n",
        " 'clip',\n",
        " 'compress',\n",
        " 'conj',\n",
        " 'conjugate',\n",
        " 'copy',\n",
        " 'ctypes',\n",
        " 'cumprod',\n",
        " 'cumsum',\n",
        " 'data',\n",
        " 'diagonal',\n",
        " 'dot',\n",
        " 'dtype',\n",
        " 'dump',\n",
        " 'dumps',\n",
        " 'fill',\n",
        " 'flags',\n",
        " 'flat',\n",
        " 'flatten',\n",
        " 'getfield',\n",
        " 'imag',\n",
        " 'item',\n",
        " 'itemset',\n",
        " 'itemsize',\n",
        " 'max',\n",
        " 'mean',\n",
        " 'min',\n",
        " 'nbytes',\n",
        " 'ndim',\n",
        " 'newbyteorder',\n",
        " 'nonzero',\n",
        " 'partition',\n",
        " 'prod',\n",
        " 'ptp',\n",
        " 'put',\n",
        " 'ravel',\n",
        " 'real',\n",
        " 'repeat',\n",
        " 'reshape',\n",
        " 'resize',\n",
        " 'round',\n",
        " 'searchsorted',\n",
        " 'setfield',\n",
        " 'setflags',\n",
        " 'shape',\n",
        " 'size',\n",
        " 'sort',\n",
        " 'squeeze',\n",
        " 'std',\n",
        " 'strides',\n",
        " 'sum',\n",
        " 'swapaxes',\n",
        " 'take',\n",
        " 'tobytes',\n",
        " 'tofile',\n",
        " 'tolist',\n",
        " 'tostring',\n",
        " 'trace',\n",
        " 'transpose',\n",
        " 'var',\n",
        " 'view']"
       ]
      }
     ],
     "prompt_number": 45
    },
    {
     "cell_type": "markdown",
     "metadata": {},
     "source": [
      "Note that it tells you ALL of the attributes of the cube object, including those preceded by one or more underscores, which are conventionally meant to be 'private'."
     ]
    },
    {
     "cell_type": "markdown",
     "metadata": {},
     "source": [
      "IPython lets you do this more simply by just hitting the TAB key after typing cube and then a period.  You only see the public attributes, not the private ones."
     ]
    },
    {
     "cell_type": "code",
     "collapsed": true,
     "input": [
      "cube."
     ],
     "language": "python",
     "metadata": {},
     "outputs": [
      {
       "ename": "SyntaxError",
       "evalue": "invalid syntax (<ipython-input-32-82ef5b289c03>, line 1)",
       "output_type": "pyerr",
       "traceback": [
        "\u001b[1;36m  File \u001b[1;32m\"<ipython-input-32-82ef5b289c03>\"\u001b[1;36m, line \u001b[1;32m1\u001b[0m\n\u001b[1;33m    cube.\u001b[0m\n\u001b[1;37m         ^\u001b[0m\n\u001b[1;31mSyntaxError\u001b[0m\u001b[1;31m:\u001b[0m invalid syntax\n"
       ]
      }
     ],
     "prompt_number": 32
    },
    {
     "cell_type": "markdown",
     "metadata": {},
     "source": [
      "Let's say we want to plot the ramp for the pixel in column 200 and row 100.  We specify what to plot using the following notation:"
     ]
    },
    {
     "cell_type": "code",
     "collapsed": false,
     "input": [
      "cube[0,:,99,199]"
     ],
     "language": "python",
     "metadata": {},
     "outputs": [
      {
       "metadata": {},
       "output_type": "pyout",
       "prompt_number": 46,
       "text": [
        "array([ 16792.,  16812.,  16776.,  16804.,  16786.,  16781.,  16729.,\n",
        "        16682.,  16744.,  16743.,  16727.,  16793.,  16742.,  16736.,\n",
        "        16743.,  16813.,  16761.,  16785.,  16732.,  16787.,  16752.,\n",
        "        16743.,  16782.,  16689.,  16801.,  16809.,  16763.,  16747.,\n",
        "        16729.,  16779.,  16785.,  16770.,  16846.,  16757.,  16781.,\n",
        "        16736.,  16782.,  16803.,  16858.,  16749.,  16780.,  16761.,\n",
        "        16739.,  16773.,  16771.,  16769.,  16719.,  16765.,  16812.,\n",
        "        16783.,  16793.,  16791.,  16789.,  16821.,  16858.,  16848.,\n",
        "        16794.,  16796.,  16858.,  16825.,  16864.,  16847.,  16885.,\n",
        "        16887.,  16821.,  16782.,  16843.,  16796.,  16840.,  16796.,\n",
        "        16808.,  16837.,  16862.,  16848.,  16828.,  16830.,  16807.,\n",
        "        16875.,  16812.,  16905.,  16824.,  16848.,  16843.,  16828.,\n",
        "        16897.,  16828.,  16831.,  16856.], dtype=float32)"
       ]
      }
     ],
     "prompt_number": 46
    },
    {
     "cell_type": "markdown",
     "metadata": {},
     "source": [
      "Here's what you need to notice:\n",
      "\n",
      "- we put the indices within square brackets\n",
      "- they go in the order [integration, group, row, column]\n",
      "- when you want to refer to ALL values of an index, use a colon (:)\n",
      "- Since Python indices are zero-indexed, we need to subtract 1 from the number of the row or column to get its index\n",
      "\n",
      "You can find out more about numpy by going to the documentation at http://docs.scipy.org/doc/numpy/reference/"
     ]
    },
    {
     "cell_type": "code",
     "collapsed": false,
     "input": [
      "pyplot.plot(cube[0,:,99,199])"
     ],
     "language": "python",
     "metadata": {},
     "outputs": [
      {
       "metadata": {},
       "output_type": "pyout",
       "prompt_number": 48,
       "text": [
        "[<matplotlib.lines.Line2D at 0xad0e898>]"
       ]
      },
      {
       "metadata": {},
       "output_type": "display_data",
       "png": "[encoded data removed]",
       "text": [
        "<matplotlib.figure.Figure at 0xadaa7b8>"
       ]
      }
     ],
     "prompt_number": 48
    },
    {
     "cell_type": "markdown",
     "metadata": {},
     "source": [
      "We can overplot the ramp for the pixel to the right of this:"
     ]
    },
    {
     "cell_type": "code",
     "collapsed": false,
     "input": [
      "pyplot.plot(cube[0,:,99,200])"
     ],
     "language": "python",
     "metadata": {},
     "outputs": [
      {
       "metadata": {},
       "output_type": "pyout",
       "prompt_number": 49,
       "text": [
        "[<matplotlib.lines.Line2D at 0xd44e6a0>]"
       ]
      },
      {
       "metadata": {},
       "output_type": "display_data",
       "png": "[encoded data removed]",
       "text": [
        "<matplotlib.figure.Figure at 0xd718f28>"
       ]
      }
     ],
     "prompt_number": 49
    },
    {
     "cell_type": "markdown",
     "metadata": {},
     "source": [
      "As you can see, the ramps have almost identical bumps and wiggles, but are vertically offset by about 600 counts. There is a lot of high-frequency (i.e. pixel-to-pixel) structure in the reset - 600 counts from one pixel to the next.  This makes it very hard to see low-signal detail in the raw ramps even if you look at the last one which has the most signal.  To alleviate this, we can subtract the first read from every group:"
     ]
    },
    {
     "cell_type": "code",
     "collapsed": false,
     "input": [
      "newcube = cube - cube[0,0]"
     ],
     "language": "python",
     "metadata": {},
     "outputs": [],
     "prompt_number": 50
    },
    {
     "cell_type": "markdown",
     "metadata": {},
     "source": [
      "Notice how we didn't need to specify any : or * to tell numpy to use all the groups, rows and columns.  Also notice that numpy handles the fact that 'cube' and 'cube[0,0]' have different shapes.  This is a feature of numpy known as 'broadcasting'.  Numpy looks at the two operands of the '-' operator.  cube has a shape of [1,88,2048,2048], while cube[0,0] has a shape of [2048,2048].  To make the operation possible, numpy 'broadcasts' the second operand to be [1, 88, 2048, 2048] by replicating it as needed to make the shapes the same."
     ]
    },
    {
     "cell_type": "code",
     "collapsed": false,
     "input": [
      "newcube.shape"
     ],
     "language": "python",
     "metadata": {},
     "outputs": [
      {
       "metadata": {},
       "output_type": "pyout",
       "prompt_number": 51,
       "text": [
        "(1L, 88L, 2048L, 2048L)"
       ]
      }
     ],
     "prompt_number": 51
    },
    {
     "cell_type": "code",
     "collapsed": false,
     "input": [
      "pyplot.plot(newcube[0,:,99,199])"
     ],
     "language": "python",
     "metadata": {},
     "outputs": [
      {
       "metadata": {},
       "output_type": "pyout",
       "prompt_number": 53,
       "text": [
        "[<matplotlib.lines.Line2D at 0xd3b0470>]"
       ]
      },
      {
       "metadata": {},
       "output_type": "display_data",
       "png": "[encoded data removed]",
       "text": [
        "<matplotlib.figure.Figure at 0xd623d30>"
       ]
      }
     ],
     "prompt_number": 53
    },
    {
     "cell_type": "markdown",
     "metadata": {},
     "source": [
      "That's no good, pylab overplots by default.  We can fix this by using the 'hold' keyword argument:"
     ]
    },
    {
     "cell_type": "code",
     "collapsed": false,
     "input": [
      "pyplotplot(newcube[0,:,99,199],hold=False)"
     ],
     "language": "python",
     "metadata": {},
     "outputs": [
      {
       "metadata": {},
       "output_type": "pyout",
       "prompt_number": 22,
       "text": [
        "[<matplotlib.lines.Line2D at 0x4639050>]"
       ]
      },
      {
       "metadata": {},
       "output_type": "display_data",
       "png": "[encoded data removed]"
      }
     ],
     "prompt_number": 22
    },
    {
     "cell_type": "code",
     "collapsed": false,
     "input": [
      "pyplot.plot(newcube[0,:,99,199])\n",
      "pyplot.plot(newcube[0,:,99,200])"
     ],
     "language": "python",
     "metadata": {},
     "outputs": [
      {
       "metadata": {},
       "output_type": "pyout",
       "prompt_number": 55,
       "text": [
        "[<matplotlib.lines.Line2D at 0xd3afeb8>]"
       ]
      },
      {
       "metadata": {},
       "output_type": "display_data",
       "png": "[encoded data removed]",
       "text": [
        "<matplotlib.figure.Figure at 0xd3af9e8>"
       ]
      }
     ],
     "prompt_number": 55
    },
    {
     "cell_type": "markdown",
     "metadata": {},
     "source": [
      "Now you can see how well the ramps sit over the top of each other. The bumps and wiggles can actually be taken out for the most part by using the reference pixels."
     ]
    },
    {
     "cell_type": "markdown",
     "metadata": {},
     "source": [
      "Most of what you'll do in Matplotlib will be using the pyplot interface, which is where the 'plot' command lives.  There is a point of confusion in the documentation, however, in that this is sometimes referred to as pylab.  Most people seem to still use pylab and even the documentation to pyplot refers to pylab all over the place.  The point is, to find out more about the plot command, the best thing to google is the pyplot tutorial.\n",
      "\n",
      "http://matplotlib.org/users/pyplot_tutorial.html\n",
      "\n",
      "There you will find out that you can add a title and axis labels by doing something like this:"
     ]
    },
    {
     "cell_type": "code",
     "collapsed": false,
     "input": [
      "pyplot.plot(newcube[0,:,99,199])\n",
      "pyplot.plot(newcube[0,:,99,200])\n",
      "pyplot.xlabel('Read number (1 read every $10\\mu{}s$)')\n",
      "pyplot.ylabel('Counts')\n",
      "pyplot.title('NIRSpec dark ramp')\n",
      "pyplot.legend(('Pixel [100,200]','Pixel [200,201]'), loc='lower right')"
     ],
     "language": "python",
     "metadata": {},
     "outputs": [
      {
       "metadata": {},
       "output_type": "pyout",
       "prompt_number": 58,
       "text": [
        "<matplotlib.legend.Legend at 0xdf297f0>"
       ]
      },
      {
       "metadata": {},
       "output_type": "display_data",
       "png": "[encoded data removed]",
       "text": [
        "<matplotlib.figure.Figure at 0xdd02e48>"
       ]
      }
     ],
     "prompt_number": 58
    },
    {
     "cell_type": "markdown",
     "metadata": {},
     "source": [
      "You can change the color and change to plotting symbols using something like this:"
     ]
    },
    {
     "cell_type": "code",
     "collapsed": false,
     "input": [
      "pyplot.plot(newcube[0,:,99,199],'r+')"
     ],
     "language": "python",
     "metadata": {},
     "outputs": [
      {
       "metadata": {},
       "output_type": "pyout",
       "prompt_number": 59,
       "text": [
        "[<matplotlib.lines.Line2D at 0xdd77828>]"
       ]
      },
      {
       "metadata": {},
       "output_type": "display_data",
       "png": "[encoded data removed]",
       "text": [
        "<matplotlib.figure.Figure at 0xf35d278>"
       ]
      }
     ],
     "prompt_number": 59
    },
    {
     "cell_type": "markdown",
     "metadata": {},
     "source": [
      "This plots each point as a red + symbol.  Change the letter to one of the following:\n",
      "\n",
      "- b = blue\n",
      "- g = green\n",
      "- r = red\n",
      "- c = cyan\n",
      "- m = magenta\n",
      "- y = yellow\n",
      "- k = black\n",
      "- w = white\n",
      "\n",
      "look at the documentation for the pyplot plot command to find out what options exist for choosing the plot style\n",
      "\n",
      "http://matplotlib.org/api/pyplot_api.html#matplotlib.pyplot.plot\n",
      "\n",
      "If you want to see examples of how to create any plot imaginable, go to the matplot gallery at http://matplotlib.org/gallery.html"
     ]
    },
    {
     "cell_type": "heading",
     "level": 2,
     "metadata": {},
     "source": [
      "More on numpy indexes (indices)"
     ]
    },
    {
     "cell_type": "markdown",
     "metadata": {},
     "source": [
      "numpy allows very flexible specification of indices.  The most general specification looks like\n",
      "\n",
      "array[start:end:stride]\n",
      "\n",
      "Start is the index of the first item wanted\n",
      "\n",
      "end is ONE MORE THAN the index of the last item wanted\n",
      "\n",
      "stride is the increment that is traversed along the array\n",
      "\n",
      "We call the indices [start:end:stride] a SLICE.\n",
      "\n",
      "As an example:   data[1:100:2] means \"take every other element, starting with the second and ending with the 100th (i.e. the one with index 99)\"\n",
      "\n",
      "You can make all of these negative too.  In the case of strides, it just means go in the reverse direction.  So specifying data[::-1] gives the array reversed.\n",
      "\n",
      "If the start or end index is negative, it means \"starting from the end\".  So data[-1] means the last element.\n",
      "\n",
      "More can be found on slicing at http://docs.scipy.org/doc/numpy/reference/arrays.indexing.html\n",
      "\n"
     ]
    },
    {
     "cell_type": "heading",
     "level": 2,
     "metadata": {},
     "source": [
      "A Real-World Example"
     ]
    },
    {
     "cell_type": "markdown",
     "metadata": {},
     "source": [
      "We can do a very simple reference pixel correction using some very basic python and numpy.  The reference pixel correction is done by calculating the average signal in the reference pixels for a given amplifier and subtracting this signal from each pixel that is read through this amplifier.\n",
      "\n",
      "First we need to identify where the reference pixels are.  On our NRS1 dark exposure, the reference pixels are on the left and right hand edges, in columns 1-4 and columns 2045-2048.  To make this simple, we'll only use the reference pixels on the left hand edge, in columns 1-4.  Also, we'll only consider amplifier A, which encompasses rows 1-512.\n",
      "\n",
      "We specify this region using the following numpy index notation:\n"
     ]
    },
    {
     "cell_type": "code",
     "collapsed": false,
     "input": [
      "ref = newcube[:,:,0:512,0:4]\n",
      "ref.shape"
     ],
     "language": "python",
     "metadata": {},
     "outputs": [
      {
       "metadata": {},
       "output_type": "pyout",
       "prompt_number": 60,
       "text": [
        "(1L, 88L, 512L, 4L)"
       ]
      }
     ],
     "prompt_number": 60
    },
    {
     "cell_type": "markdown",
     "metadata": {},
     "source": [
      "Now we need to take the mean of the reference pixels in each plane.  We can do this by looping over all the groups and putting the result of each group into a 1-d array of mean reference pixel values.  First off, we have to create an empty array of the right size:"
     ]
    },
    {
     "cell_type": "code",
     "collapsed": false,
     "input": [
      "meanref = np.zeros(88, dtype=np.float32)"
     ],
     "language": "python",
     "metadata": {},
     "outputs": [],
     "prompt_number": 61
    },
    {
     "cell_type": "markdown",
     "metadata": {},
     "source": [
      "Now we need to loop over the groups.  We use the 'range' builtin function in Python to give us a list of all the integers we need, rather like IDL's 'indgen':"
     ]
    },
    {
     "cell_type": "code",
     "collapsed": false,
     "input": [
      "for i in range(88):\n",
      "    meanref[i] = newcube[0,i,0:512,0:4].mean()\n",
      "    \n",
      "print meanref"
     ],
     "language": "python",
     "metadata": {},
     "outputs": [
      {
       "output_type": "stream",
       "stream": "stdout",
       "text": [
        "[   0.           24.65722656  -24.51464844   -2.08642578  -20.03125\n",
        "  -21.64257812  -74.33496094  -94.28515625  -35.43457031  -63.31298828\n",
        "  -77.56152344   -8.43164062  -43.94628906  -37.08154297  -46.32080078\n",
        "    8.484375    -42.23730469  -17.22265625  -69.10791016  -19.24853516\n",
        "  -59.98193359  -40.62988281  -28.23632812 -109.15966797  -15.37841797\n",
        "   -2.18310547  -42.87646484  -40.96875     -77.06445312  -38.67578125\n",
        "  -31.37744141  -35.89941406   48.20117188  -48.14794922  -28.07128906\n",
        "  -66.86328125  -22.19824219   -3.52294922   36.96337891  -41.18994141\n",
        "  -29.60253906  -44.91992188  -57.73974609  -43.97216797  -19.13671875\n",
        "  -22.32470703  -72.12548828  -41.38818359   -0.48681641  -19.09277344\n",
        "   -7.5234375    -9.78564453   -1.14013672   10.33300781   49.76855469\n",
        "   31.59765625   -1.86621094   -9.17626953   52.17382812   21.48583984\n",
        "   43.95703125   38.25048828   66.29443359   83.828125      1.34179688\n",
        "  -11.31884766   36.12792969   -2.66845703   34.83886719  -21.453125\n",
        "   -7.23632812   43.56640625   48.33105469   29.92919922   14.27783203\n",
        "   13.31494141    0.90380859   63.53857422   -5.58007812   77.22021484\n",
        "   15.73339844   21.8125       17.17529297   28.68212891   75.78710938\n",
        "    7.51757812   16.97949219   27.18505859]\n"
       ]
      }
     ],
     "prompt_number": 62
    },
    {
     "cell_type": "markdown",
     "metadata": {},
     "source": [
      "Now we can overplot the signal from pixel (200, 100) and the reference pixel signal:"
     ]
    },
    {
     "cell_type": "code",
     "collapsed": false,
     "input": [
      "pyplot.plot(newcube[0,:,99,199])\n",
      "pyplot.plot(meanref)"
     ],
     "language": "python",
     "metadata": {},
     "outputs": [
      {
       "metadata": {},
       "output_type": "pyout",
       "prompt_number": 63,
       "text": [
        "[<matplotlib.lines.Line2D at 0xf371e80>]"
       ]
      },
      {
       "metadata": {},
       "output_type": "display_data",
       "png": "[encoded data removed]",
       "text": [
        "<matplotlib.figure.Figure at 0xf3717b8>"
       ]
      }
     ],
     "prompt_number": 63
    },
    {
     "cell_type": "markdown",
     "metadata": {},
     "source": [
      "Pretty close, aren't they?  Now lets plot the difference:"
     ]
    },
    {
     "cell_type": "code",
     "collapsed": false,
     "input": [
      "pyplot.plot(newcube[0,:,99,199])\n",
      "pyplot.plot(meanref)\n",
      "pyplot.plot(newcube[0,:,99,199]-meanref)"
     ],
     "language": "python",
     "metadata": {},
     "outputs": [
      {
       "metadata": {},
       "output_type": "pyout",
       "prompt_number": 64,
       "text": [
        "[<matplotlib.lines.Line2D at 0xf95ac88>]"
       ]
      },
      {
       "metadata": {},
       "output_type": "display_data",
       "png": "[encoded data removed]",
       "text": [
        "<matplotlib.figure.Figure at 0xdcefe10>"
       ]
      }
     ],
     "prompt_number": 64
    },
    {
     "cell_type": "heading",
     "level": 2,
     "metadata": {},
     "source": [
      "Back to fits"
     ]
    },
    {
     "cell_type": "markdown",
     "metadata": {},
     "source": [
      "fits allows you to do a lot more than just reading the pixel the data.  You can examine the headers:"
     ]
    },
    {
     "cell_type": "code",
     "collapsed": true,
     "input": [
      "h[0].header"
     ],
     "language": "python",
     "metadata": {},
     "outputs": [
      {
       "metadata": {},
       "output_type": "pyout",
       "prompt_number": 65,
       "text": [
        "SIMPLE  =                    T / Data conform to FITS standard                  \n",
        "BITPIX  =                    8 / Bits per data value                            \n",
        "NAXIS   =                    0 / Number of data array dimensions                \n",
        "EXTEND  =                    T / File may contain standard extensions           \n",
        "NEXTEND =                    3 / Number of standard extensions                  \n",
        "                                                                                \n",
        "TELESCOP= 'JWST    '           / Telescope used to acquire data                 \n",
        "INSTRUME= 'NIRSPEC '           / Identifier for instrument used to acquire data \n",
        "RADESYS = 'ICRS    '           / Reference frame of equatorial or ecliptic coord\n",
        "                                                                                \n",
        "DATE    = '2012-11-07T15:10:05' / [yyyy-mm-ddThh:mm:ss.ssssss] UTC date of file \n",
        "ORIGIN  = 'STScI   '           / Institution responsible for creating FITS file \n",
        "FILENAME= 'jw00020001001_01101_00001_NRS1_uncal.fits' / Name of file            \n",
        "FILETYPE= 'UNCALIBRATED'       / Type of data found in file                     \n",
        "DPSW_VER= '0.1     '           / Data processing software version number        \n",
        "        Observation identifiers                                                 \n",
        "                                                                                \n",
        "                                                                                \n",
        "DATE-OBS= '2011-02-28T21:30:03.583' / [yyyy-mm-ddThh:mm:ss.sss] UTC date at star\n",
        "OBS_ID  = 'FILL-DET-DARK-SHORT-01' / full programmatic observation identifier   \n",
        "VISIT_ID= '' / visit identifier                                                 \n",
        "PROGRAM = '00020   '           / program number                                 \n",
        "OBSERVTN= '001     '           / observation number                             \n",
        "VISIT   = '001     '           / visit number                                   \n",
        "VISITGRP= '01      '           / visit group identifier                         \n",
        "SEQ_ID  = '1       '           / parallel sequence identifier                   \n",
        "ACT_ID  = '01      '           / activity identifier                            \n",
        "EXPOSURE= '00001   '           / exposure request number within a single activit\n",
        "        Exposure parameters                                                     \n",
        "                                                                                \n",
        "                                                                                \n",
        "DETECTOR= 'NRS1    '           / name of detector used to acquire data          \n",
        "NINTS   =                    1 / number of integrations within exposure         \n",
        "NGROUPS =                   88 / number of groups within integration            \n",
        "ZEROFRAM=                    F / T if a zero frame was read separately          \n",
        "READPATT= 'NRSRAPID'           / readout pattern                                \n",
        "DATAPROB=                    0 / T if science telemetry indicated any problems w\n",
        "        Program information                                                     \n",
        "                                                                                \n",
        "                                                                                \n",
        "TITLE   = 'N/A     '           / proposal title                                 \n",
        "PI_NAME = 'UNKNOWN '           / name of principal investigator (last, first, mi\n",
        "CATEGORY= 'N/A     '           / program category                               \n",
        "SUBCAT  = 'N/A     '           / program sub-category                           \n",
        "SCICAT  = 'N/A     '           / science category assigned during the TAC proces\n",
        "CONT_ID = 'N/A     '           / continuation of the specified previous program \n",
        "        Observation information                                                 \n",
        "                                                                                \n",
        "                                                                                \n",
        "TEMPLATE= 'N/A     '           / proposal instruction template used to specify o\n",
        "OBSLABEL= '#TODO   '           / proposer label for observation                 \n",
        "        Visit information                                                       \n",
        "                                                                                \n",
        "                                                                                \n",
        "VISITYPE= '#TODO   '           / type of visit (prime or parallel)              \n",
        "VSTSTART= '#TODO   '           / UTC visit start time                           \n",
        "WFSVISIT= '#TODO   '           / wavefront sensing and control visit indicator  \n",
        "NEXPOSUR= '#TODO   '           / total number of exposures in visit             \n",
        "INTARGET= '#TODO   '           / T if at least one exposure in visit is internal\n",
        "EXTARGET= '#TODO   '           / T if at least one exposure in visit is external\n",
        "TARGOOPP= '#TODO   '           / visit scheduled as target of opportunity (T/F) \n",
        "        Exposure information                                                    \n",
        "                                                                                \n",
        "                                                                                \n",
        "PNTG_SEQ= '#TODO   '           / pointing sequence number                       \n",
        "EXPCOUNT= '#TODO   '           / count of the exposures in visit                \n",
        "EXP_TYPE= '#TODO   '           / type of data in exposure                       \n",
        "        Target information                                                      \n",
        "                                                                                \n",
        "                                                                                \n",
        "TARGPROP= 'UNKNOWN '           / proposer's name for the target                 \n",
        "TARGNAME= 'N/A     '           / standard astronomical catalog name for the targ\n",
        "TARGTYPE= 'N/A     '           / fixed target, moving target, or generic target \n",
        "TARG_RA =                  0.0 / target RA computed at time of exposure         \n",
        "TARGURA = 'N/A     '           / target RA uncertainty computed at time of expos\n",
        "TARG_DEC=                  0.0 / target DEC computed at time of exposure        \n",
        "TARRUDEC= 'N/A     '           / target Dec uncertainty computed at time of expo\n",
        "PROP_RA = 'N/A     '           / proposer specified RA for the target           \n",
        "PROP_DEC= 'N/A     '           / proposer specified Dec for the target          \n",
        "PROPEPOC= 'N/A     '           / proposer specified epoch for RA and Dec        \n",
        "        Exposure times                                                          \n",
        "                                                                                \n",
        "                                                                                \n",
        "EXPSTART= '2011-02-28T21:30:03.583' / [Modified Julian Date] UTC exposure start \n",
        "EXPMID  = '#TODO   '           / [Modified Julian Date] UTC exposure mid time   \n",
        "EXPEND  = '2011-02-28T21:45:48.417' / [Modified Julian Date] UTC exposure end ti\n",
        "        Exposure time parameters                                                \n",
        "                                                                                \n",
        "                                                                                \n",
        "NSAMPLES=                    1 / number of A/D samples per pixel                \n",
        "NFRAMES =                    1 / number of frames in group                      \n",
        "GROUPGAP=                    0 / number of frames dropped between groups        \n",
        "TSAMPLE =                   10 / delta time between samples in microseconds     \n",
        "NRESET  = '#TODO   '           / number of resets between integrations in an exp\n",
        "NRSTSTRT= '#TODO   '           / number of extra resets at start of exposure    \n",
        "TFRAME  =             10.73676 / [seconds] time between frames                  \n",
        "TGROUP  =             10.73676 / [seconds] time between groups                  \n",
        "EFFINTTM=            934.09812 / [seconds] effective integration time           \n",
        "EFFEXPTM= '' / [seconds] effective exposure time                                \n",
        "CHRGTIME= '#TODO   '           / [seconds] charge accumulation time             \n",
        "DURATION= '#TODO   '           / [seconds] total duration of exposure           \n",
        "        subarray parameters                                                     \n",
        "                                                                                \n",
        "                                                                                \n",
        "SUBARRAY=                    F / name of subarray used                          \n",
        "SUBXSTRT=                    1 / starting pixel number in the SIAS x direction  \n",
        "SUBXSIZE=                 2048 / number of pixels in the SIAS x direction       \n",
        "SUBYSTRT=                    1 / starting pixel number in the SIAS y direction  \n",
        "SUBYSIZE=                 2048 / number of pixels in the SIAS y direction       \n",
        "NXLIGHT = '#TODO   '           / number of light sensitive x values (columns)   \n",
        "        NIRSpec configuration (NIRSpec only)                                    \n",
        "                                                                                \n",
        "                                                                                \n",
        "FILTER  = 'OPAQUE  '           / name of the filter element used                \n",
        "GRATING = 'G140H   '           / name of the grating element used               \n",
        "FXD_SLIT= '#TODO   '           / name of fixed slit aperture used               \n",
        "MSASTATE= '#TODO   '           / state of MSA: all open, all closed, configured \n",
        "FOCUSPOS= '#TODO   '           / [mm] focus position for NIRSpec                \n",
        "        NIRSpec MSA supporting files (NIRSpec MSA only)                         \n",
        "                                                                                \n",
        "                                                                                \n",
        "MSACONFG= 'N/A     '           / MSA configuration file name                    \n",
        "        lamp configuration                                                      \n",
        "                                                                                \n",
        "                                                                                \n",
        "LAMP    = 'CLOSE   '           / internal lamp state                            \n",
        "        Guide star information                                                  \n",
        "                                                                                \n",
        "GS_ORDER= 'N/A     '           / index of guide star within list of selected gui\n",
        "GSSTRTTM= 'N/A     '           / UTC start time of guide star acquisition activi\n",
        "GSENDTIM= 'N/A     '           / UTC end time of guide star acquisition activity\n",
        "GDSTARID= 'N/A     '           / guide star identifier                          \n",
        "GS_RA   = 'N/A     '           / guide star right ascension                     \n",
        "GS_DEC  = 'N/A     '           / guide star declination                         \n",
        "GSURA   = 'N/A     '           / guide star right ascension uncertainty         \n",
        "GSUDEC  = 'N/A     '           / guide star declination uncertainty             \n",
        "GS_MAG  = 'N/A     '           / guide star magnitude in FGS detector           \n",
        "GSUMAG  = 'N/A     '           / guide star magnitude uncertainty               \n",
        "PCS_MODE= 'N/A     '           / Pointing Control System mode                   \n",
        "GSCENTX = 'N/A     '           / guide star centroid x position in ideal coordin\n",
        "GSCENTY = 'N/A     '           / guide star centroid y position in ideal coordin\n",
        "JITTERMS= 'N/A     '           / [arcsec] RMS jitter over the exposure          \n",
        "        JWST ephemeris information                                              \n",
        "                                                                                \n",
        "                                                                                \n",
        "COORDSYS= 'N/A     '           / ephemeris coordinate system                    \n",
        "EPH_TIME= 'N/A     '           / [sec] UTC time from ephemeris start time       \n",
        "JWST_X  = 'N/A     '           / [km] X spatial coordinate of JWST              \n",
        "JWST_Y  = 'N/A     '           / [km] Y spatial coordinate of JWST              \n",
        "JWST_Z  = 'N/A     '           / [km] Z spatial coordinate of JWST              \n",
        "JWST_DX = 'N/A     '           / [km/sec] X component of JWST velocity vector   \n",
        "JWST_DY = 'N/A     '           / [km/sec] Y component of JWST velocity vector   \n",
        "JWST_DZ = 'N/A     '           / [km/sec] Z component of JWST velocity vector   \n",
        "        Spacecraft pointing information                                         \n",
        "                                                                                \n",
        "                                                                                \n",
        "                                                                                \n",
        "PA_V3   = 'N/A     '           / [deg] position angle of V3-axis of JWST        \n",
        "RA_V1   = 'N/A     '           / [deg] RA of telescope V1 axis                  \n",
        "DEC_V1  = 'N/A     '           / [deg] Dec of telescope V1 axis                 \n",
        "        Aperture pointing information                                           \n",
        "                                                                                \n",
        "                                                                                \n",
        "APERNAME= '#TODO   '           / mnemonic for PDB science aperture used         \n",
        "PA_APER = '#TODO   '           / [deg] position angle of aperture used with targ\n",
        "        WCS parameters                                                          \n",
        "                                                                                \n",
        "                                                                                \n",
        "WCSAXES =                    2 / number of World Coordinate System axes         \n",
        "CRPIX1  = 'N/A     '           / x-coordinate of the reference pixel            \n",
        "CRPIX2  = 'N/A     '           / y-coordinate of the reference pixel            \n",
        "CRVAL1  = 'N/A     '           / [degrees] right ascension value at the referenc\n",
        "CRVAL2  = 'N/A     '           / [degrees] declination value at the reference pi\n",
        "CTYPE1  = 'RA---TAN'           / first axis coordinate type                     \n",
        "CTYPE2  = 'DEC--TAN'           / second axis coordinate type                    \n",
        "CDELT1  = 'N/A     '           / [degrees] increment per pixel, increasing eastw\n",
        "CDELT2  = 'N/A     '           / [degrees] increment per pixel, increasing north\n",
        "PC1_1   = 'N/A     '           / linear transformation matrix element cos(theta)\n",
        "PC1_2   = 'N/A     '           / linear transformation matrix element -sin(theta\n",
        "PC2_1   = 'N/A     '           / linear transformation matrix element sin(theta)\n",
        "PC2_2   = 'N/A     '           / linear transformation matrix element cos(theta)\n",
        "S_REGION= 'N/A     '           / spatial extent of the observation              \n",
        "        Velocity aberration correction                                          \n",
        "                                                                                \n",
        "DVA_RA  = 'N/A     '           / [radians] velocity aberration correction RA off\n",
        "DVA_DEC = 'N/A     '           / [radians] velocity aberration correction Dec of\n",
        "VA_SCALE= 'N/A     '           / velocity aberration scale factor               \n",
        "        Time related keywords                                                   \n",
        "                                                                                \n",
        "                                                                                \n",
        "BARTDELT= 'N/A     '           / [sec] calculated Barycentric time correction fr\n",
        "BSTRTIME= 'N/A     '           / [days] Solar System Barycentric exposure start \n",
        "BENDTIME= 'N/A     '           / [days] Solar System Barycentric exposure end ti\n",
        "BMIDTIME= 'N/A     '           / [days] Solar System Barycentric exposure mid ti\n",
        "HELIDELT= 'N/A     '           / [days] calculated Heliocentric time correction \n",
        "HSTRTIME= 'N/A     '           / [days] Heliocentric exposure start time in MJD \n",
        "HENDTIME= 'N/A     '           / [days] Heliocentric exposure end time in MJD   \n",
        "HMIDTIME= 'N/A     '           / [days] Heliocentric exposure mid time in MJD   \n",
        "                                                                                \n",
        "                                                                                "
       ]
      }
     ],
     "prompt_number": 65
    },
    {
     "cell_type": "markdown",
     "metadata": {},
     "source": [
      "You can inspect individual header entries:"
     ]
    },
    {
     "cell_type": "code",
     "collapsed": false,
     "input": [
      "h[0].header['HMIDTIME']"
     ],
     "language": "python",
     "metadata": {},
     "outputs": [
      {
       "metadata": {},
       "output_type": "pyout",
       "prompt_number": 66,
       "text": [
        "'N/A'"
       ]
      }
     ],
     "prompt_number": 66
    },
    {
     "cell_type": "markdown",
     "metadata": {},
     "source": [
      "and change them"
     ]
    },
    {
     "cell_type": "code",
     "collapsed": false,
     "input": [
      "h[0].header['HMIDTIME'] = 0.0\n",
      "h[0].header['HMIDTIME']"
     ],
     "language": "python",
     "metadata": {},
     "outputs": [
      {
       "metadata": {},
       "output_type": "pyout",
       "prompt_number": 68,
       "text": [
        "0.0"
       ]
      }
     ],
     "prompt_number": 68
    },
    {
     "cell_type": "markdown",
     "metadata": {},
     "source": [
      "But nothing changes until you write out the data"
     ]
    },
    {
     "cell_type": "code",
     "collapsed": false,
     "input": [
      "h.writeto('newversion.fits',clobber=True)"
     ],
     "language": "python",
     "metadata": {},
     "outputs": [
      {
       "output_type": "stream",
       "stream": "stderr",
       "text": [
        "WARNING: Overwriting existing file 'newversion.fits'. [astropy.io.fits.file]\n",
        "WARNING:astropy:Overwriting existing file 'newversion.fits'.\n"
       ]
      }
     ],
     "prompt_number": 70
    },
    {
     "cell_type": "markdown",
     "metadata": {},
     "source": [
      "Now we have two FITS files, and the only difference between them is the value of the HMIDTIME keyword."
     ]
    },
    {
     "cell_type": "markdown",
     "metadata": {},
     "source": [
      "You can also change the data:"
     ]
    },
    {
     "cell_type": "code",
     "collapsed": false,
     "input": [
      "h[1].data = newcube"
     ],
     "language": "python",
     "metadata": {},
     "outputs": [],
     "prompt_number": 71
    },
    {
     "cell_type": "code",
     "collapsed": false,
     "input": [
      "cd c:\\Users\\rij\\Desktop"
     ],
     "language": "python",
     "metadata": {},
     "outputs": [
      {
       "output_type": "stream",
       "stream": "stdout",
       "text": [
        "c:\\Users\\rij\\Desktop\n"
       ]
      }
     ],
     "prompt_number": 73
    },
    {
     "cell_type": "code",
     "collapsed": false,
     "input": [
      "h.writeto('newversion.fits',clobber=True)"
     ],
     "language": "python",
     "metadata": {},
     "outputs": [],
     "prompt_number": 74
    },
    {
     "cell_type": "markdown",
     "metadata": {},
     "source": [
      "If you display this version of the data using ds9 or similar, you'll be able to see much more than is visible in the version without the first group subtracted\n",
      "\n",
      "- The amplifier boundaries are visible, as is the fact that they jump randomly from group to group\n",
      "- Each hot pixel (more than a few thousand counts) is surrounded by four warm pixels in a cross-shaped pattern.  This is due to inter-pixel capacitance.\n",
      "- There is a zebra-stripe pattern that is due to 1/f noise in the amplifiers"
     ]
    },
    {
     "cell_type": "markdown",
     "metadata": {},
     "source": [
      "You can display images into a ds9 window from within Python using the numdisplay package."
     ]
    },
    {
     "cell_type": "code",
     "collapsed": true,
     "input": [
      "from stsci import numdisplay\n",
      "numdisplay.display(newcube[0,50],zscale=True)"
     ],
     "language": "python",
     "metadata": {},
     "outputs": [
      {
       "ename": "ImportError",
       "evalue": "No module named stsci",
       "output_type": "pyerr",
       "traceback": [
        "\u001b[1;31m---------------------------------------------------------------------------\u001b[0m\n\u001b[1;31mImportError\u001b[0m                               Traceback (most recent call last)",
        "\u001b[1;32m<ipython-input-75-c328235357fe>\u001b[0m in \u001b[0;36m<module>\u001b[1;34m()\u001b[0m\n\u001b[1;32m----> 1\u001b[1;33m \u001b[1;32mfrom\u001b[0m \u001b[0mstsci\u001b[0m \u001b[1;32mimport\u001b[0m \u001b[0mnumdisplay\u001b[0m\u001b[1;33m\u001b[0m\u001b[0m\n\u001b[0m\u001b[0;32m      2\u001b[0m \u001b[0mnumdisplay\u001b[0m\u001b[1;33m.\u001b[0m\u001b[0mdisplay\u001b[0m\u001b[1;33m(\u001b[0m\u001b[0mnewcube\u001b[0m\u001b[1;33m[\u001b[0m\u001b[1;36m0\u001b[0m\u001b[1;33m,\u001b[0m\u001b[1;36m50\u001b[0m\u001b[1;33m]\u001b[0m\u001b[1;33m,\u001b[0m\u001b[0mzscale\u001b[0m\u001b[1;33m=\u001b[0m\u001b[0mTrue\u001b[0m\u001b[1;33m)\u001b[0m\u001b[1;33m\u001b[0m\u001b[0m\n",
        "\u001b[1;31mImportError\u001b[0m: No module named stsci"
       ]
      }
     ],
     "prompt_number": 75
    },
    {
     "cell_type": "markdown",
     "metadata": {},
     "source": [
      "It's a bit like using the IRAF 'display' command, in that your image is scaled into the range 0-199 before being sent to ds9.  Personally, I find it much more useful to write the files out and read them directly into ds9, that way you see all the planes of a cube and you can easily scroll through them."
     ]
    },
    {
     "cell_type": "heading",
     "level": 2,
     "metadata": {},
     "source": [
      "Working with tables"
     ]
    },
    {
     "cell_type": "markdown",
     "metadata": {},
     "source": [
      "You can work with text tables using the ascii module in the astropy package.  This is the same as the asciitables package of Tom Aldcroft that some of you may have used.\n",
      "\n",
      "Start by importing the package:"
     ]
    },
    {
     "cell_type": "code",
     "collapsed": false,
     "input": [
      "from astropy.io import ascii"
     ],
     "language": "python",
     "metadata": {},
     "outputs": [],
     "prompt_number": 76
    },
    {
     "cell_type": "markdown",
     "metadata": {},
     "source": [
      "The ascii table reader can read a large number of different table formats:\n",
      "\n",
      "-    Basic: basic table with customizable delimiters and header configurations\n",
      "-    Cds: CDS format table (also Vizier and ApJ machine readable tables)\n",
      "-    CommentedHeader: column names given in a line that begins with the comment character\n",
      "-    Daophot: table from the IRAF DAOphot package\n",
      "-    FixedWidth: table with fixed-width columns (Fixed-width Gallery)\n",
      "-    Ipac: IPAC format table\n",
      "-    Latex, AASTex: LaTeX tables (plain and AASTex)\n",
      "-    Memory: table already in memory (list of lists, dict of lists, etc)\n",
      "-    NoHeader: basic table with no header where columns are auto-named\n",
      "-    Rdb: tab-separated values with an extra line after the column definition line\n",
      "-    Tab: tab-separated values\n",
      "\n",
      "First we need some suitable table data.  I picked a large .csv file with information about MIRI FM test data."
     ]
    },
    {
     "cell_type": "code",
     "collapsed": false,
     "input": [
      "ls"
     ],
     "language": "python",
     "metadata": {},
     "outputs": [
      {
       "output_type": "stream",
       "stream": "stdout",
       "text": [
        " Volume in drive C is OSDisk\n",
        " Volume Serial Number is 2AEA-2913\n",
        "\n",
        " Directory of c:\\Users\\rij\\Desktop\n",
        "\n",
        "01/22/2015  02:11 PM    <DIR>          .\n",
        "01/22/2015  02:11 PM    <DIR>          ..\n",
        "08/13/2013  10:20 AM             1,916 Canopy command prompt.lnk\n",
        "08/13/2013  10:19 AM             2,166 Code Editor .lnk\n",
        "08/13/2013  10:19 AM             2,084 Enthought Canopy (64-bit).lnk\n",
        "08/16/2011  08:55 AM         3,126,370 Exposure_Log_FM_Phase5_Latest_29Jul11.csv\n",
        "08/08/2013  01:57 PM             1,874 main.rst\n",
        "01/22/2015  02:07 PM     3,691,019,520 newversion.fits\n",
        "03/22/2013  09:42 AM               987 PuTTY.lnk\n",
        "12/04/2014  04:36 PM         5,020,472 pythonmaster.zip\n",
        "12/04/2014  05:05 PM    <DIR>          pythonmaster_3\n",
        "12/09/2014  09:34 AM    <DIR>          PythonMastery\n",
        "12/09/2014  09:32 AM         6,440,408 PythonMastery.zip\n",
        "08/13/2013  10:05 AM               526 SAOImage DS9.lnk\n",
        "08/13/2013  10:03 AM             1,326 XEmacs-21.4.22.lnk\n",
        "              11 File(s)  3,705,617,649 bytes\n",
        "               4 Dir(s)  195,886,608,384 bytes free\n"
       ]
      }
     ],
     "prompt_number": 78
    },
    {
     "cell_type": "markdown",
     "metadata": {},
     "source": [
      "This file has a couple of lines of junk, followed by a line with the column names, followed by the data.  If we tell the ascii.read function this, it will read the table nicely..."
     ]
    },
    {
     "cell_type": "code",
     "collapsed": false,
     "input": [
      "data = ascii.read('Exposure_Log_FM_Phase5_Latest_29Jul11.csv', header_start=2, data_start=3)"
     ],
     "language": "python",
     "metadata": {},
     "outputs": [],
     "prompt_number": 79
    },
    {
     "cell_type": "markdown",
     "metadata": {},
     "source": [
      "That seemed to work.  What did we get?"
     ]
    },
    {
     "cell_type": "code",
     "collapsed": false,
     "input": [
      "data"
     ],
     "language": "python",
     "metadata": {},
     "outputs": [
      {
       "html": [
        "<table id=\"table254510584\"><thead><tr><th>OBSID</th><th>EXPID</th><th>Test Label</th><th>Exp Start Time</th><th>FPE Side</th><th>Detectors</th><th>Nframes</th><th>Nints</th><th>SubArray</th><th>NColumns</th><th>NRows</th><th>Read Mode</th><th>Det Mode</th><th>Start Column</th><th>Start Row</th><th>Detector Temp</th><th>Frame_Resets</th><th>Row_Resets</th><th>ADC_Delay</th><th>RPC_Delay</th><th>Row_Underlap</th><th>Col_Underlap</th><th>VDETCOM</th><th>VDDUC</th><th>VP Bias</th><th>VSSOUT</th><th>FPE Temp</th><th>ICE Side</th><th>CCC Pos</th><th>FWA Pos</th><th>DGAA Pos</th><th>DGAB Pos</th><th>IMG Cal I</th><th>IMG Cal V</th><th>IMG Cal Mode</th><th>MRS Cal I</th><th>MRS Cal V</th><th>MRS Cal Mode</th><th>MTS FW</th><th>VAS %</th><th>BB Temp</th><th>FM4 Temp</th><th>Source</th><th>Pinhole</th><th>FOV X</th><th>FOV Y</th><th>Imager X</th><th>Imager Y</th><th>SS Focus</th><th>Focus Offset</th><th>MRS Alpha</th><th>MRS Slice</th><th>MRS Subchan</th><th>PSS LED Current</th><th>Pupil X</th><th>Pupil Y</th></tr></thead><tr><td>FM1T00010019</td><td>1</td><td>MIRI_FT_FPE_IM_FULL_TP</td><td>2011-04-26:16:24:53</td><td>NOMINAL</td><td>IMAGER</td><td>2</td><td>3</td><td>FULL</td><td>1032</td><td>1024</td><td>FAST</td><td>TEST_PATTERN</td><td>1</td><td>1</td><td>293.2877724</td><td>0</td><td>3</td><td>260</td><td>24</td><td>12</td><td>24</td><td>-0.000383</td><td>-0.000383</td><td>-0.000217</td><td>-0.002797</td><td>295.6150632</td><td>NOMINAL</td><td>LOCKED</td><td>F770W</td><td>LONG</td><td>LONG</td><td>0.0</td><td>0.0</td><td>NA</td><td>0.0</td><td>0.0</td><td>NA</td><td>UNKNOWN</td><td>0.0</td><td>294.7900085</td><td>292.2000122</td><td>UNKNOWN</td><td>NONE</td><td>0.0</td><td>0.0</td><td>-999.0</td><td>-999.0</td><td>0.0</td><td>0</td><td>-999.0</td><td>-999.0</td><td>NONE</td><td>0.0</td><td>0.0</td><td>0.0</td></tr><tr><td>FM1T00010020</td><td>1</td><td>MIRI_FT_FPE_MRS_FULL_TP</td><td>2011-04-26:16:27:15</td><td>NOMINAL</td><td>BOTH_MRS</td><td>2</td><td>3</td><td>FULL</td><td>1032</td><td>1024</td><td>FAST</td><td>TEST_PATTERN</td><td>1</td><td>1</td><td>293.3529064</td><td>0</td><td>3</td><td>260</td><td>24</td><td>12</td><td>24</td><td>-0.000383</td><td>-0.000383</td><td>-0.000217</td><td>-0.002797</td><td>296.0079324</td><td>NOMINAL</td><td>LOCKED</td><td>F770W</td><td>LONG</td><td>LONG</td><td>0.0</td><td>0.0</td><td>NA</td><td>0.0</td><td>0.0</td><td>NA</td><td>UNKNOWN</td><td>0.0</td><td>294.7839966</td><td>292.2000122</td><td>UNKNOWN</td><td>NONE</td><td>0.0</td><td>0.0</td><td>-999.0</td><td>-999.0</td><td>0.0</td><td>0</td><td>-999.0</td><td>-999.0</td><td>NONE</td><td>0.0</td><td>0.0</td><td>0.0</td></tr><tr><td>FM1T00010021</td><td>1</td><td>MIRI_FT_FPE_COMMS_CHECK</td><td>2011-04-26:16:30:15</td><td>NOMINAL</td><td>ALL</td><td>3</td><td>2</td><td>FULL</td><td>1032</td><td>1024</td><td>FAST</td><td>TEST_PATTERN</td><td>1</td><td>1</td><td>293.4533905</td><td>0</td><td>3</td><td>260</td><td>24</td><td>12</td><td>24</td><td>-0.000383</td><td>-0.000383</td><td>-0.000217</td><td>-0.002797</td><td>296.4134748</td><td>NOMINAL</td><td>LOCKED</td><td>F770W</td><td>LONG</td><td>LONG</td><td>0.0</td><td>0.0</td><td>NA</td><td>0.0</td><td>0.0</td><td>NA</td><td>UNKNOWN</td><td>0.0</td><td>294.776001</td><td>292.2999878</td><td>UNKNOWN</td><td>NONE</td><td>0.0</td><td>0.0</td><td>-999.0</td><td>-999.0</td><td>0.0</td><td>0</td><td>-999.0</td><td>-999.0</td><td>NONE</td><td>0.0</td><td>0.0</td><td>0.0</td></tr><tr><td>FM1T00010023</td><td>1</td><td>FPS Grounding Test</td><td>2011-04-26:17:04:43</td><td>NOMINAL</td><td>ALL</td><td>24</td><td>1</td><td>FULL</td><td>1032</td><td>1024</td><td>FAST</td><td>EXPOSURE</td><td>1</td><td>1</td><td>293.2877724</td><td>0</td><td>3</td><td>260</td><td>24</td><td>12</td><td>24</td><td>-1.991407</td><td>-1.991407</td><td>-0.802094</td><td>2.996283</td><td>299.6831604</td><td>NOMINAL</td><td>LOCKED</td><td>F770W</td><td>LONG</td><td>LONG</td><td>0.0</td><td>0.0</td><td>NA</td><td>0.0</td><td>0.0</td><td>NA</td><td>UNKNOWN</td><td>0.0</td><td>294.6870117</td><td>292.2999878</td><td>UNKNOWN</td><td>NONE</td><td>0.0</td><td>0.0</td><td>-999.0</td><td>-999.0</td><td>0.0</td><td>0</td><td>-999.0</td><td>-999.0</td><td>NONE</td><td>0.0</td><td>0.0</td><td>0.0</td></tr><tr><td>FM1T00010023</td><td>2</td><td>FPS Grounding Test</td><td>2011-04-26:17:08:26</td><td>NOMINAL</td><td>ALL</td><td>24</td><td>1</td><td>FULL</td><td>1032</td><td>1024</td><td>FAST</td><td>EXPOSURE</td><td>1</td><td>1</td><td>293.4533905</td><td>0</td><td>3</td><td>260</td><td>24</td><td>12</td><td>24</td><td>-1.991407</td><td>-1.991407</td><td>-0.802094</td><td>2.996283</td><td>300.03801</td><td>NOMINAL</td><td>LOCKED</td><td>F770W</td><td>LONG</td><td>LONG</td><td>0.0</td><td>0.0</td><td>NA</td><td>0.0</td><td>0.0</td><td>NA</td><td>UNKNOWN</td><td>0.0</td><td>294.6789856</td><td>292.2999878</td><td>UNKNOWN</td><td>NONE</td><td>0.0</td><td>0.0</td><td>-999.0</td><td>-999.0</td><td>0.0</td><td>0</td><td>-999.0</td><td>-999.0</td><td>NONE</td><td>0.0</td><td>0.0</td><td>0.0</td></tr><tr><td>FM1T00010023</td><td>3</td><td>FPS Grounding Test</td><td>2011-04-26:17:31:30</td><td>NOMINAL</td><td>ALL</td><td>24</td><td>1</td><td>FULL</td><td>1032</td><td>1024</td><td>FAST</td><td>EXPOSURE</td><td>1</td><td>1</td><td>293.2877724</td><td>0</td><td>3</td><td>260</td><td>24</td><td>12</td><td>24</td><td>-1.991407</td><td>-1.991407</td><td>-0.802094</td><td>2.996283</td><td>300.5322648</td><td>NOMINAL</td><td>LOCKED</td><td>F770W</td><td>LONG</td><td>LONG</td><td>0.0</td><td>0.0</td><td>NA</td><td>0.0</td><td>0.0</td><td>NA</td><td>UNKNOWN</td><td>0.0</td><td>294.6229858</td><td>292.2999878</td><td>UNKNOWN</td><td>NONE</td><td>0.0</td><td>0.0</td><td>-999.0</td><td>-999.0</td><td>0.0</td><td>0</td><td>-999.0</td><td>-999.0</td><td>NONE</td><td>0.0</td><td>0.0</td><td>0.0</td></tr><tr><td>FM1T00010023</td><td>4</td><td>FPS Grounding Test</td><td>2011-04-26:17:38:01</td><td>NOMINAL</td><td>ALL</td><td>24</td><td>1</td><td>FULL</td><td>1032</td><td>1024</td><td>FAST</td><td>EXPOSURE</td><td>1</td><td>1</td><td>293.4533905</td><td>0</td><td>3</td><td>260</td><td>24</td><td>12</td><td>24</td><td>-1.991407</td><td>-1.991407</td><td>-0.802094</td><td>2.996283</td><td>300.6336504</td><td>NOMINAL</td><td>LOCKED</td><td>F770W</td><td>LONG</td><td>LONG</td><td>0.0</td><td>0.0</td><td>NA</td><td>0.0</td><td>0.0</td><td>NA</td><td>UNKNOWN</td><td>0.0</td><td>294.6069946</td><td>292.2999878</td><td>UNKNOWN</td><td>NONE</td><td>0.0</td><td>0.0</td><td>-999.0</td><td>-999.0</td><td>0.0</td><td>0</td><td>-999.0</td><td>-999.0</td><td>NONE</td><td>0.0</td><td>0.0</td><td>0.0</td></tr><tr><td>FM1T00010023</td><td>5</td><td>FPS Grounding Test</td><td>2011-04-26:17:41:30</td><td>NOMINAL</td><td>ALL</td><td>24</td><td>1</td><td>FULL</td><td>1032</td><td>1024</td><td>FAST</td><td>EXPOSURE</td><td>1</td><td>1</td><td>293.2877724</td><td>0</td><td>3</td><td>260</td><td>24</td><td>12</td><td>24</td><td>-1.991407</td><td>-1.991407</td><td>-0.802094</td><td>2.996283</td><td>300.7096896</td><td>NOMINAL</td><td>LOCKED</td><td>F770W</td><td>LONG</td><td>LONG</td><td>0.0</td><td>0.0</td><td>NA</td><td>0.0</td><td>0.0</td><td>NA</td><td>UNKNOWN</td><td>0.0</td><td>294.6000061</td><td>292.2999878</td><td>UNKNOWN</td><td>NONE</td><td>0.0</td><td>0.0</td><td>-999.0</td><td>-999.0</td><td>0.0</td><td>0</td><td>-999.0</td><td>-999.0</td><td>NONE</td><td>0.0</td><td>0.0</td><td>0.0</td></tr><tr><td>FM1T00010023</td><td>6</td><td>FPS Grounding Test</td><td>2011-04-26:17:44:30</td><td>NOMINAL</td><td>ALL</td><td>24</td><td>1</td><td>FULL</td><td>1032</td><td>1024</td><td>FAST</td><td>EXPOSURE</td><td>1</td><td>1</td><td>293.5639108</td><td>0</td><td>3</td><td>260</td><td>24</td><td>12</td><td>24</td><td>-1.991407</td><td>-1.991407</td><td>-0.802094</td><td>2.996283</td><td>300.735036</td><td>NOMINAL</td><td>LOCKED</td><td>F770W</td><td>LONG</td><td>LONG</td><td>0.0</td><td>0.0</td><td>NA</td><td>0.0</td><td>0.0</td><td>NA</td><td>UNKNOWN</td><td>0.0</td><td>294.5929871</td><td>292.2999878</td><td>UNKNOWN</td><td>NONE</td><td>0.0</td><td>0.0</td><td>-999.0</td><td>-999.0</td><td>0.0</td><td>0</td><td>-999.0</td><td>-999.0</td><td>NONE</td><td>0.0</td><td>0.0</td><td>0.0</td></tr><tr><td>FM1T00010023</td><td>7</td><td>FPS Grounding Test</td><td>2011-04-26:18:03:29</td><td>NOMINAL</td><td>ALL</td><td>24</td><td>1</td><td>FULL</td><td>1032</td><td>1024</td><td>FAST</td><td>EXPOSURE</td><td>1</td><td>1</td><td>293.5639108</td><td>0</td><td>3</td><td>260</td><td>24</td><td>12</td><td>24</td><td>-1.991407</td><td>-1.991407</td><td>-0.802094</td><td>2.996283</td><td>300.8744412</td><td>NOMINAL</td><td>LOCKED</td><td>F770W</td><td>LONG</td><td>LONG</td><td>0.0</td><td>0.0</td><td>NA</td><td>0.0</td><td>0.0</td><td>NA</td><td>UNKNOWN</td><td>0.0</td><td>294.5509949</td><td>292.2999878</td><td>UNKNOWN</td><td>NONE</td><td>0.0</td><td>0.0</td><td>-999.0</td><td>-999.0</td><td>0.0</td><td>0</td><td>-999.0</td><td>-999.0</td><td>NONE</td><td>0.0</td><td>0.0</td><td>0.0</td></tr><tr><td>FM1T00010024</td><td>1</td><td>MIRI_FT_FPE_IM_AMB</td><td>2011-04-26:18:08:59</td><td>NOMINAL</td><td>IMAGER</td><td>24</td><td>1</td><td>FULL</td><td>1032</td><td>1024</td><td>FAST</td><td>EXPOSURE</td><td>1</td><td>1</td><td>293.2877724</td><td>0</td><td>3</td><td>260</td><td>24</td><td>12</td><td>24</td><td>-1.991407</td><td>-1.991407</td><td>-0.802094</td><td>2.996283</td><td>300.925134</td><td>NOMINAL</td><td>LOCKED</td><td>F770W</td><td>LONG</td><td>LONG</td><td>0.0</td><td>0.0</td><td>NA</td><td>0.0</td><td>0.0</td><td>NA</td><td>UNKNOWN</td><td>0.0</td><td>294.5400085</td><td>292.2999878</td><td>UNKNOWN</td><td>NONE</td><td>0.0</td><td>0.0</td><td>-999.0</td><td>-999.0</td><td>0.0</td><td>0</td><td>-999.0</td><td>-999.0</td><td>NONE</td><td>0.0</td><td>0.0</td><td>0.0</td></tr><tr><td>...</td><td>...</td><td>...</td><td>...</td><td>...</td><td>...</td><td>...</td><td>...</td><td>...</td><td>...</td><td>...</td><td>...</td><td>...</td><td>...</td><td>...</td><td>...</td><td>...</td><td>...</td><td>...</td><td>...</td><td>...</td><td>...</td><td>...</td><td>...</td><td>...</td><td>...</td><td>...</td><td>...</td><td>...</td><td>...</td><td>...</td><td>...</td><td>...</td><td>...</td><td>...</td><td>...</td><td>...</td><td>...</td><td>...</td><td>...</td><td>...</td><td>...</td><td>...</td><td>...</td><td>...</td><td>...</td><td>...</td><td>...</td><td>...</td><td>...</td><td>...</td><td>...</td><td>...</td><td>...</td><td>...</td><td>...</td></tr><tr><td>FM1T00014002</td><td>2</td><td>IMG_OPT_05_POL</td><td>2011-07-29:14:56:29</td><td>NOMINAL</td><td>IMAGER</td><td>10</td><td>10</td><td>FULL</td><td>1032</td><td>1024</td><td>FAST</td><td>EXPOSURE</td><td>1</td><td>1</td><td>6.699921875</td><td>3</td><td>4</td><td>260</td><td>90</td><td>12</td><td>24</td><td>-4.016759</td><td>-1.991407</td><td>-0.802094</td><td>5.202749</td><td>301.4574084</td><td>NOMINAL</td><td>OPEN</td><td>F770W</td><td>MEDIUM</td><td>MEDIUM</td><td>-0.000349</td><td>-5.9e-05</td><td>NA</td><td>-0.000444</td><td>0.000117095</td><td>NA</td><td>HOLE</td><td>4.0</td><td>800.0040283</td><td>26.39999962</td><td>POLARISER</td><td>POLAR1</td><td>-29525.18359</td><td>22405.16602</td><td>950.0</td><td>900.0</td><td>12580.87109</td><td>0</td><td>-999.0</td><td>-999.0</td><td>NONE</td><td>0.0</td><td>0.0</td><td>0.0</td></tr><tr><td>FM1T00014002</td><td>3</td><td>IMG_OPT_05_POL</td><td>2011-07-29:15:03:53</td><td>NOMINAL</td><td>IMAGER</td><td>10</td><td>10</td><td>FULL</td><td>1032</td><td>1024</td><td>FAST</td><td>EXPOSURE</td><td>1</td><td>1</td><td>6.700128929</td><td>3</td><td>4</td><td>260</td><td>90</td><td>12</td><td>24</td><td>-4.016759</td><td>-1.991407</td><td>-0.802094</td><td>5.202749</td><td>301.4574084</td><td>NOMINAL</td><td>OPEN</td><td>F770W</td><td>MEDIUM</td><td>MEDIUM</td><td>-0.000349</td><td>-5.9e-05</td><td>NA</td><td>-0.000444</td><td>8e-06</td><td>NA</td><td>HOLE</td><td>4.0</td><td>800.0009766</td><td>26.39999962</td><td>POLARISER</td><td>POLAR2</td><td>-17949.61523</td><td>19202.14258</td><td>900.0</td><td>740.0</td><td>16452.39258</td><td>0</td><td>-999.0</td><td>-999.0</td><td>NONE</td><td>0.0</td><td>0.0</td><td>0.0</td></tr><tr><td>FM1T00014002</td><td>4</td><td>IMG_OPT_05_POL</td><td>2011-07-29:15:11:05</td><td>NOMINAL</td><td>IMAGER</td><td>10</td><td>10</td><td>FULL</td><td>1032</td><td>1024</td><td>FAST</td><td>EXPOSURE</td><td>1</td><td>1</td><td>6.699921875</td><td>3</td><td>4</td><td>260</td><td>90</td><td>12</td><td>24</td><td>-4.016759</td><td>-1.991407</td><td>-0.802094</td><td>5.202749</td><td>301.495428</td><td>NOMINAL</td><td>OPEN</td><td>F770W</td><td>MEDIUM</td><td>MEDIUM</td><td>-0.000349</td><td>-5.9e-05</td><td>NA</td><td>-0.000444</td><td>0.000117095</td><td>NA</td><td>HOLE</td><td>4.0</td><td>800.0029907</td><td>26.39999962</td><td>POLARISER</td><td>POLAR2</td><td>-29525.18359</td><td>22405.16602</td><td>950.0</td><td>900.0</td><td>12585.14355</td><td>0</td><td>-999.0</td><td>-999.0</td><td>NONE</td><td>0.0</td><td>0.0</td><td>0.0</td></tr><tr><td>FM1T00014002</td><td>5</td><td>IMG_OPT_05_POL</td><td>2011-07-29:15:18:25</td><td>NOMINAL</td><td>IMAGER</td><td>10</td><td>10</td><td>FULL</td><td>1032</td><td>1024</td><td>FAST</td><td>EXPOSURE</td><td>1</td><td>1</td><td>6.699921875</td><td>3</td><td>4</td><td>260</td><td>90</td><td>12</td><td>24</td><td>-4.016759</td><td>-1.991407</td><td>-0.802094</td><td>5.202749</td><td>301.495428</td><td>NOMINAL</td><td>OPEN</td><td>F770W</td><td>MEDIUM</td><td>MEDIUM</td><td>-0.000349</td><td>-5.9e-05</td><td>NA</td><td>-0.000444</td><td>0.000117095</td><td>NA</td><td>HOLE</td><td>4.0</td><td>800.0020142</td><td>26.39999962</td><td>POLARISER</td><td>POLAR3</td><td>-17949.61523</td><td>19202.14258</td><td>900.0</td><td>740.0</td><td>16450.62109</td><td>0</td><td>-999.0</td><td>-999.0</td><td>NONE</td><td>0.0</td><td>0.0</td><td>0.0</td></tr><tr><td>FM1T00014002</td><td>6</td><td>IMG_OPT_05_POL</td><td>2011-07-29:15:25:40</td><td>NOMINAL</td><td>IMAGER</td><td>10</td><td>10</td><td>FULL</td><td>1032</td><td>1024</td><td>FAST</td><td>EXPOSURE</td><td>1</td><td>1</td><td>6.699921875</td><td>3</td><td>4</td><td>260</td><td>90</td><td>12</td><td>24</td><td>-4.016759</td><td>-1.991407</td><td>-0.802094</td><td>5.202749</td><td>301.4700816</td><td>NOMINAL</td><td>OPEN</td><td>F770W</td><td>MEDIUM</td><td>MEDIUM</td><td>0.000417197</td><td>-5.9e-05</td><td>NA</td><td>6.68e-05</td><td>0.000117095</td><td>NA</td><td>HOLE</td><td>4.0</td><td>799.9990234</td><td>26.39999962</td><td>POLARISER</td><td>POLAR3</td><td>-29525.18359</td><td>22405.16602</td><td>950.0</td><td>900.0</td><td>12584.71582</td><td>0</td><td>-999.0</td><td>-999.0</td><td>NONE</td><td>0.0</td><td>0.0</td><td>0.0</td></tr><tr><td>FM1T00014003</td><td>1</td><td>IMG_OPT_05_POL</td><td>2011-07-29:15:40:53</td><td>NOMINAL</td><td>IMAGER</td><td>10</td><td>10</td><td>FULL</td><td>1032</td><td>1024</td><td>FAST</td><td>EXPOSURE</td><td>1</td><td>1</td><td>6.700128929</td><td>3</td><td>4</td><td>260</td><td>90</td><td>12</td><td>24</td><td>-4.016759</td><td>-1.991407</td><td>-0.802094</td><td>5.202749</td><td>301.4827548</td><td>NOMINAL</td><td>OPEN</td><td>F560W</td><td>MEDIUM</td><td>MEDIUM</td><td>-0.000349</td><td>-5.9e-05</td><td>NA</td><td>6.68e-05</td><td>0.000117095</td><td>NA</td><td>HOLE</td><td>4.0</td><td>800.0009766</td><td>26.29999924</td><td>POLARISER</td><td>POLAR1</td><td>-17949.61523</td><td>19202.14258</td><td>900.0</td><td>740.0</td><td>16452.69727</td><td>0</td><td>-999.0</td><td>-999.0</td><td>NONE</td><td>0.0</td><td>0.0</td><td>0.0</td></tr><tr><td>FM1T00014003</td><td>2</td><td>IMG_OPT_05_POL</td><td>2011-07-29:15:48:08</td><td>NOMINAL</td><td>IMAGER</td><td>10</td><td>10</td><td>FULL</td><td>1032</td><td>1024</td><td>FAST</td><td>EXPOSURE</td><td>1</td><td>1</td><td>6.699921875</td><td>3</td><td>4</td><td>260</td><td>90</td><td>12</td><td>24</td><td>-4.016759</td><td>-1.991407</td><td>-0.802094</td><td>5.202749</td><td>301.5081012</td><td>NOMINAL</td><td>OPEN</td><td>F560W</td><td>MEDIUM</td><td>MEDIUM</td><td>-0.000349</td><td>-5.9e-05</td><td>NA</td><td>-0.000444</td><td>0.000117095</td><td>NA</td><td>HOLE</td><td>4.0</td><td>800.0</td><td>26.29999924</td><td>POLARISER</td><td>POLAR1</td><td>-29525.18359</td><td>22405.16602</td><td>950.0</td><td>900.0</td><td>12581.84766</td><td>0</td><td>-999.0</td><td>-999.0</td><td>NONE</td><td>0.0</td><td>0.0</td><td>0.0</td></tr><tr><td>FM1T00014003</td><td>3</td><td>IMG_OPT_05_POL</td><td>2011-07-29:15:55:28</td><td>NOMINAL</td><td>IMAGER</td><td>10</td><td>10</td><td>FULL</td><td>1032</td><td>1024</td><td>FAST</td><td>EXPOSURE</td><td>1</td><td>1</td><td>6.700128929</td><td>3</td><td>4</td><td>260</td><td>90</td><td>12</td><td>24</td><td>-4.016759</td><td>-1.991407</td><td>-0.802094</td><td>5.202749</td><td>301.495428</td><td>NOMINAL</td><td>OPEN</td><td>F560W</td><td>MEDIUM</td><td>MEDIUM</td><td>-0.000349</td><td>-5.9e-05</td><td>NA</td><td>6.68e-05</td><td>8.07e-05</td><td>NA</td><td>HOLE</td><td>4.0</td><td>800.0020142</td><td>26.29999924</td><td>POLARISER</td><td>POLAR2</td><td>-17949.61523</td><td>19202.14258</td><td>900.0</td><td>740.0</td><td>16453.30664</td><td>0</td><td>-999.0</td><td>-999.0</td><td>NONE</td><td>0.0</td><td>0.0</td><td>0.0</td></tr><tr><td>FM1T00014003</td><td>4</td><td>IMG_OPT_05_POL</td><td>2011-07-29:16:02:44</td><td>NOMINAL</td><td>IMAGER</td><td>10</td><td>10</td><td>FULL</td><td>1032</td><td>1024</td><td>FAST</td><td>EXPOSURE</td><td>1</td><td>1</td><td>6.699921875</td><td>3</td><td>4</td><td>260</td><td>90</td><td>12</td><td>24</td><td>-4.016759</td><td>-1.991407</td><td>-0.802094</td><td>5.202749</td><td>301.5334476</td><td>NOMINAL</td><td>OPEN</td><td>F560W</td><td>MEDIUM</td><td>MEDIUM</td><td>0.000161798</td><td>-5.9e-05</td><td>NA</td><td>6.68e-05</td><td>0.000117095</td><td>NA</td><td>HOLE</td><td>4.0</td><td>800.0009766</td><td>26.29999924</td><td>POLARISER</td><td>POLAR2</td><td>-29525.18359</td><td>22405.16602</td><td>950.0</td><td>900.0</td><td>12584.28906</td><td>0</td><td>-999.0</td><td>-999.0</td><td>NONE</td><td>0.0</td><td>0.0</td><td>0.0</td></tr><tr><td>FM1T00014003</td><td>5</td><td>IMG_OPT_05_POL</td><td>2011-07-29:16:10:11</td><td>NOMINAL</td><td>IMAGER</td><td>10</td><td>10</td><td>FULL</td><td>1032</td><td>1024</td><td>FAST</td><td>EXPOSURE</td><td>1</td><td>1</td><td>6.699921875</td><td>3</td><td>4</td><td>260</td><td>90</td><td>12</td><td>24</td><td>-4.016759</td><td>-1.991407</td><td>-0.802094</td><td>5.202749</td><td>301.5081012</td><td>NOMINAL</td><td>OPEN</td><td>F560W</td><td>MEDIUM</td><td>MEDIUM</td><td>-0.000349</td><td>-5.9e-05</td><td>NA</td><td>-0.000444</td><td>0.000117095</td><td>NA</td><td>HOLE</td><td>4.0</td><td>799.9990234</td><td>26.39999962</td><td>POLARISER</td><td>POLAR3</td><td>-17949.61523</td><td>19202.14258</td><td>900.0</td><td>740.0</td><td>16450.74414</td><td>0</td><td>-999.0</td><td>-999.0</td><td>NONE</td><td>0.0</td><td>0.0</td><td>0.0</td></tr><tr><td>FM1T00014003</td><td>6</td><td>IMG_OPT_05_POL</td><td>2011-07-29:16:17:24</td><td>NOMINAL</td><td>IMAGER</td><td>10</td><td>10</td><td>FULL</td><td>1032</td><td>1024</td><td>FAST</td><td>EXPOSURE</td><td>1</td><td>1</td><td>6.700128929</td><td>3</td><td>4</td><td>260</td><td>90</td><td>12</td><td>24</td><td>-4.016759</td><td>-1.991407</td><td>-0.802094</td><td>5.202749</td><td>301.4827548</td><td>NOMINAL</td><td>OPEN</td><td>F560W</td><td>MEDIUM</td><td>MEDIUM</td><td>-9.36e-05</td><td>-5.9e-05</td><td>NA</td><td>6.68e-05</td><td>0.00015346</td><td>NA</td><td>HOLE</td><td>4.0</td><td>800.0020142</td><td>26.39999962</td><td>POLARISER</td><td>POLAR3</td><td>-29525.18359</td><td>22405.16602</td><td>950.0</td><td>900.0</td><td>12583.3125</td><td>0</td><td>-999.0</td><td>-999.0</td><td>NONE</td><td>0.0</td><td>0.0</td><td>0.0</td></tr></table>"
       ],
       "metadata": {},
       "output_type": "pyout",
       "prompt_number": 80,
       "text": [
        "<Table rows=8326 names=('OBSID','EXPID','Test Label','Exp Start Time','FPE Side','Detectors','Nframes','Nints','SubArray','NColumns','NRows','Read Mode','Det Mode','Start Column','Start Row','Detector Temp','Frame_Resets','Row_Resets','ADC_Delay','RPC_Delay','Row_Underlap','Col_Underlap','VDETCOM','VDDUC','VP Bias','VSSOUT','FPE Temp','ICE Side','CCC Pos','FWA Pos','DGAA Pos','DGAB Pos','IMG Cal I','IMG Cal V','IMG Cal Mode','MRS Cal I','MRS Cal V','MRS Cal Mode','MTS FW','VAS %','BB Temp','FM4 Temp','Source','Pinhole','FOV X','FOV Y','Imager X','Imager Y','SS Focus','Focus Offset','MRS Alpha','MRS Slice','MRS Subchan','PSS LED Current','Pupil X','Pupil Y')>\n",
        "array([ ('FM1T00010019', 1, 'MIRI_FT_FPE_IM_FULL_TP', '2011-04-26:16:24:53', 'NOMINAL', 'IMAGER', 2, 3, 'FULL', 1032, 1024, 'FAST', 'TEST_PATTERN', 1, 1, 293.2877724, 0, 3, 260, 24, 12, 24, -0.000383, -0.000383, -0.000217, -0.002797, 295.6150632, 'NOMINAL', 'LOCKED', 'F770W', 'LONG', 'LONG', 0.0, 0.0, 'NA', 0.0, 0.0, 'NA', 'UNKNOWN', 0.0, 294.7900085, 292.2000122, 'UNKNOWN', 'NONE', 0.0, 0.0, -999.0, -999.0, 0.0, 0, -999.0, -999.0, 'NONE', 0.0, 0.0, 0.0),\n",
        "       ('FM1T00010020', 1, 'MIRI_FT_FPE_MRS_FULL_TP', '2011-04-26:16:27:15', 'NOMINAL', 'BOTH_MRS', 2, 3, 'FULL', 1032, 1024, 'FAST', 'TEST_PATTERN', 1, 1, 293.3529064, 0, 3, 260, 24, 12, 24, -0.000383, -0.000383, -0.000217, -0.002797, 296.0079324, 'NOMINAL', 'LOCKED', 'F770W', 'LONG', 'LONG', 0.0, 0.0, 'NA', 0.0, 0.0, 'NA', 'UNKNOWN', 0.0, 294.7839966, 292.2000122, 'UNKNOWN', 'NONE', 0.0, 0.0, -999.0, -999.0, 0.0, 0, -999.0, -999.0, 'NONE', 0.0, 0.0, 0.0),\n",
        "       ('FM1T00010021', 1, 'MIRI_FT_FPE_COMMS_CHECK', '2011-04-26:16:30:15', 'NOMINAL', 'ALL', 3, 2, 'FULL', 1032, 1024, 'FAST', 'TEST_PATTERN', 1, 1, 293.4533905, 0, 3, 260, 24, 12, 24, -0.000383, -0.000383, -0.000217, -0.002797, 296.4134748, 'NOMINAL', 'LOCKED', 'F770W', 'LONG', 'LONG', 0.0, 0.0, 'NA', 0.0, 0.0, 'NA', 'UNKNOWN', 0.0, 294.776001, 292.2999878, 'UNKNOWN', 'NONE', 0.0, 0.0, -999.0, -999.0, 0.0, 0, -999.0, -999.0, 'NONE', 0.0, 0.0, 0.0),\n",
        "       ...,\n",
        "       ('FM1T00014003', 4, 'IMG_OPT_05_POL', '2011-07-29:16:02:44', 'NOMINAL', 'IMAGER', 10, 10, 'FULL', 1032, 1024, 'FAST', 'EXPOSURE', 1, 1, 6.699921875, 3, 4, 260, 90, 12, 24, -4.016759, -1.991407, -0.802094, 5.202749, 301.5334476, 'NOMINAL', 'OPEN', 'F560W', 'MEDIUM', 'MEDIUM', 0.000161798, -5.9e-05, 'NA', 6.68e-05, 0.000117095, 'NA', 'HOLE', 4.0, 800.0009766, 26.29999924, 'POLARISER', 'POLAR2', -29525.18359, 22405.16602, 950.0, 900.0, 12584.28906, 0, -999.0, -999.0, 'NONE', 0.0, 0.0, 0.0),\n",
        "       ('FM1T00014003', 5, 'IMG_OPT_05_POL', '2011-07-29:16:10:11', 'NOMINAL', 'IMAGER', 10, 10, 'FULL', 1032, 1024, 'FAST', 'EXPOSURE', 1, 1, 6.699921875, 3, 4, 260, 90, 12, 24, -4.016759, -1.991407, -0.802094, 5.202749, 301.5081012, 'NOMINAL', 'OPEN', 'F560W', 'MEDIUM', 'MEDIUM', -0.000349, -5.9e-05, 'NA', -0.000444, 0.000117095, 'NA', 'HOLE', 4.0, 799.9990234, 26.39999962, 'POLARISER', 'POLAR3', -17949.61523, 19202.14258, 900.0, 740.0, 16450.74414, 0, -999.0, -999.0, 'NONE', 0.0, 0.0, 0.0),\n",
        "       ('FM1T00014003', 6, 'IMG_OPT_05_POL', '2011-07-29:16:17:24', 'NOMINAL', 'IMAGER', 10, 10, 'FULL', 1032, 1024, 'FAST', 'EXPOSURE', 1, 1, 6.700128929, 3, 4, 260, 90, 12, 24, -4.016759, -1.991407, -0.802094, 5.202749, 301.4827548, 'NOMINAL', 'OPEN', 'F560W', 'MEDIUM', 'MEDIUM', -9.36e-05, -5.9e-05, 'NA', 6.68e-05, 0.00015346, 'NA', 'HOLE', 4.0, 800.0020142, 26.39999962, 'POLARISER', 'POLAR3', -29525.18359, 22405.16602, 950.0, 900.0, 12583.3125, 0, -999.0, -999.0, 'NONE', 0.0, 0.0, 0.0)], \n",
        "      dtype=[('OBSID', 'S12'), ('EXPID', '<i4'), ('Test Label', 'S32'), ('Exp Start Time', 'S19'), ('FPE Side', 'S9'), ('Detectors', 'S8'), ('Nframes', '<i4'), ('Nints', '<i4'), ('SubArray', 'S13'), ('NColumns', '<i4'), ('NRows', '<i4'), ('Read Mode', 'S4'), ('Det Mode', 'S12'), ('Start Column', '<i4'), ('Start Row', '<i4'), ('Detector Temp', '<f8'), ('Frame_Resets', '<i4'), ('Row_Resets', '<i4'), ('ADC_Delay', '<i4'), ('RPC_Delay', '<i4'), ('Row_Underlap', '<i4'), ('Col_Underlap', '<i4'), ('VDETCOM', '<f8'), ('VDDUC', '<f8'), ('VP Bias', '<f8'), ('VSSOUT', '<f8'), ('FPE Temp', '<f8'), ('ICE Side', 'S9'), ('CCC Pos', 'S6'), ('FWA Pos', 'S7'), ('DGAA Pos', 'S6'), ('DGAB Pos', 'S6'), ('IMG Cal I', '<f8'), ('IMG Cal V', '<f8'), ('IMG Cal Mode', 'S9'), ('MRS Cal I', '<f8'), ('MRS Cal V', '<f8'), ('MRS Cal Mode', 'S9'), ('MTS FW', 'S9'), ('VAS %', '<f8'), ('BB Temp', '<f8'), ('FM4 Temp', '<f8'), ('Source', 'S9'), ('Pinhole', 'S11'), ('FOV X', '<f8'), ('FOV Y', '<f8'), ('Imager X', '<f8'), ('Imager Y', '<f8'), ('SS Focus', '<f8'), ('Focus Offset', '<i4'), ('MRS Alpha', '<f8'), ('MRS Slice', '<f8'), ('MRS Subchan', 'S4'), ('PSS LED Current', '<f8'), ('Pupil X', '<f8'), ('Pupil Y', '<f8')])"
       ]
      }
     ],
     "prompt_number": 80
    },
    {
     "cell_type": "markdown",
     "metadata": {},
     "source": [
      "We clearly got some complex object, but what is it?"
     ]
    },
    {
     "cell_type": "code",
     "collapsed": false,
     "input": [
      "type(data)"
     ],
     "language": "python",
     "metadata": {},
     "outputs": [
      {
       "metadata": {},
       "output_type": "pyout",
       "prompt_number": 81,
       "text": [
        "astropy.table.table.Table"
       ]
      }
     ],
     "prompt_number": 81
    },
    {
     "cell_type": "markdown",
     "metadata": {},
     "source": [
      "The Table class is part of astropy, and its documentation can be found in the data tables section of astropy's documentation:\n",
      "\n",
      "http://astropy.readthedocs.org/en/stable/table/index.html\n",
      "\n",
      "We can find out what we can do with this object by tabbing"
     ]
    },
    {
     "cell_type": "code",
     "collapsed": true,
     "input": [
      "data."
     ],
     "language": "python",
     "metadata": {},
     "outputs": [
      {
       "metadata": {},
       "output_type": "pyout",
       "prompt_number": 84,
       "text": [
        "astropy.table.row.Row"
       ]
      }
     ],
     "prompt_number": 84
    },
    {
     "cell_type": "code",
     "collapsed": false,
     "input": [
      "data.colnames"
     ],
     "language": "python",
     "metadata": {},
     "outputs": [
      {
       "metadata": {},
       "output_type": "pyout",
       "prompt_number": 85,
       "text": [
        "['OBSID',\n",
        " 'EXPID',\n",
        " 'Test Label',\n",
        " 'Exp Start Time',\n",
        " 'FPE Side',\n",
        " 'Detectors',\n",
        " 'Nframes',\n",
        " 'Nints',\n",
        " 'SubArray',\n",
        " 'NColumns',\n",
        " 'NRows',\n",
        " 'Read Mode',\n",
        " 'Det Mode',\n",
        " 'Start Column',\n",
        " 'Start Row',\n",
        " 'Detector Temp',\n",
        " 'Frame_Resets',\n",
        " 'Row_Resets',\n",
        " 'ADC_Delay',\n",
        " 'RPC_Delay',\n",
        " 'Row_Underlap',\n",
        " 'Col_Underlap',\n",
        " 'VDETCOM',\n",
        " 'VDDUC',\n",
        " 'VP Bias',\n",
        " 'VSSOUT',\n",
        " 'FPE Temp',\n",
        " 'ICE Side',\n",
        " 'CCC Pos',\n",
        " 'FWA Pos',\n",
        " 'DGAA Pos',\n",
        " 'DGAB Pos',\n",
        " 'IMG Cal I',\n",
        " 'IMG Cal V',\n",
        " 'IMG Cal Mode',\n",
        " 'MRS Cal I',\n",
        " 'MRS Cal V',\n",
        " 'MRS Cal Mode',\n",
        " 'MTS FW',\n",
        " 'VAS %',\n",
        " 'BB Temp',\n",
        " 'FM4 Temp',\n",
        " 'Source',\n",
        " 'Pinhole',\n",
        " 'FOV X',\n",
        " 'FOV Y',\n",
        " 'Imager X',\n",
        " 'Imager Y',\n",
        " 'SS Focus',\n",
        " 'Focus Offset',\n",
        " 'MRS Alpha',\n",
        " 'MRS Slice',\n",
        " 'MRS Subchan',\n",
        " 'PSS LED Current',\n",
        " 'Pupil X',\n",
        " 'Pupil Y']"
       ]
      }
     ],
     "prompt_number": 85
    },
    {
     "cell_type": "code",
     "collapsed": false,
     "input": [
      "data.pprint()"
     ],
     "language": "python",
     "metadata": {},
     "outputs": [
      {
       "output_type": "stream",
       "stream": "stdout",
       "text": [
        "   OBSID     EXPID        Test Label       ... PSS LED Current Pupil X Pupil Y\n",
        "------------ ----- ----------------------- ... --------------- ------- -------\n",
        "FM1T00010019     1  MIRI_FT_FPE_IM_FULL_TP ...             0.0     0.0     0.0\n",
        "FM1T00010020     1 MIRI_FT_FPE_MRS_FULL_TP ...             0.0     0.0     0.0\n",
        "FM1T00010021     1 MIRI_FT_FPE_COMMS_CHECK ...             0.0     0.0     0.0\n",
        "FM1T00010023     1      FPS Grounding Test ...             0.0     0.0     0.0\n",
        "FM1T00010023     2      FPS Grounding Test ...             0.0     0.0     0.0\n",
        "FM1T00010023     3      FPS Grounding Test ...             0.0     0.0     0.0\n",
        "FM1T00010023     4      FPS Grounding Test ...             0.0     0.0     0.0\n",
        "FM1T00010023     5      FPS Grounding Test ...             0.0     0.0     0.0\n",
        "FM1T00010023     6      FPS Grounding Test ...             0.0     0.0     0.0\n",
        "FM1T00010023     7      FPS Grounding Test ...             0.0     0.0     0.0\n",
        "FM1T00010024     1      MIRI_FT_FPE_IM_AMB ...             0.0     0.0     0.0\n",
        "         ...   ...                     ... ...             ...     ...     ...\n",
        "FM1T00014002     2          IMG_OPT_05_POL ...             0.0     0.0     0.0\n",
        "FM1T00014002     3          IMG_OPT_05_POL ...             0.0     0.0     0.0\n",
        "FM1T00014002     4          IMG_OPT_05_POL ...             0.0     0.0     0.0\n",
        "FM1T00014002     5          IMG_OPT_05_POL ...             0.0     0.0     0.0\n",
        "FM1T00014002     6          IMG_OPT_05_POL ...             0.0     0.0     0.0\n",
        "FM1T00014003     1          IMG_OPT_05_POL ...             0.0     0.0     0.0\n",
        "FM1T00014003     2          IMG_OPT_05_POL ...             0.0     0.0     0.0\n",
        "FM1T00014003     3          IMG_OPT_05_POL ...             0.0     0.0     0.0\n",
        "FM1T00014003     4          IMG_OPT_05_POL ...             0.0     0.0     0.0\n",
        "FM1T00014003     5          IMG_OPT_05_POL ...             0.0     0.0     0.0\n",
        "FM1T00014003     6          IMG_OPT_05_POL ...             0.0     0.0     0.0\n"
       ]
      }
     ],
     "prompt_number": 86
    },
    {
     "cell_type": "markdown",
     "metadata": {},
     "source": [
      "One thing that isn't obvious from the list of methods is that we can use the column name to refer to the column, rather like a FITS header keyword"
     ]
    },
    {
     "cell_type": "code",
     "collapsed": false,
     "input": [
      "data['OBSID']"
     ],
     "language": "python",
     "metadata": {},
     "outputs": [
      {
       "metadata": {},
       "output_type": "pyout",
       "prompt_number": 87,
       "text": [
        "<Column name='OBSID' unit=None format=None description=None>\n",
        "array(['FM1T00010019', 'FM1T00010020', 'FM1T00010021', ..., 'FM1T00014003',\n",
        "       'FM1T00014003', 'FM1T00014003'], \n",
        "      dtype='|S12')"
       ]
      }
     ],
     "prompt_number": 87
    },
    {
     "cell_type": "markdown",
     "metadata": {},
     "source": [
      "data['OBSID\"] is another object, looks like a Column object.  For some reason the IPython notebook doesn't let you tab the data['OBSID'] object to see what methods it has..."
     ]
    },
    {
     "cell_type": "code",
     "collapsed": false,
     "input": [
      "type(data['OBSID'])"
     ],
     "language": "python",
     "metadata": {},
     "outputs": [
      {
       "metadata": {},
       "output_type": "pyout",
       "prompt_number": 88,
       "text": [
        "astropy.table.column.Column"
       ]
      }
     ],
     "prompt_number": 88
    },
    {
     "cell_type": "markdown",
     "metadata": {},
     "source": [
      "But if we assign this to a new variable, we can do it..."
     ]
    },
    {
     "cell_type": "code",
     "collapsed": false,
     "input": [
      "obsidcol = data['OBSID']"
     ],
     "language": "python",
     "metadata": {},
     "outputs": [],
     "prompt_number": 89
    },
    {
     "cell_type": "code",
     "collapsed": false,
     "input": [
      "obsidcol."
     ],
     "language": "python",
     "metadata": {},
     "outputs": []
    },
    {
     "cell_type": "markdown",
     "metadata": {},
     "source": [
      "It looks a lot like a numpy ndarray, but the actual array part is in the 'data' member.\n",
      "\n",
      "We can use the numpy 'where' method to find all the exposures taken with the imaging array and with at least 5 integrations:"
     ]
    },
    {
     "cell_type": "code",
     "collapsed": false,
     "input": [
      "imaging = np.where(data['Detectors'].data == 'IMAGER')\n",
      "imaging"
     ],
     "language": "python",
     "metadata": {},
     "outputs": [
      {
       "metadata": {},
       "output_type": "pyout",
       "prompt_number": 90,
       "text": [
        "(array([   0,   10,   11, ..., 8323, 8324, 8325], dtype=int64),)"
       ]
      }
     ],
     "prompt_number": 90
    },
    {
     "cell_type": "markdown",
     "metadata": {},
     "source": [
      "The 'where' function of numpy returns a tuple with an associative array as the first element.  This array gives\n",
      "the indices (or row numbers) where the condition was found to be True, and can be used as an index for a numpy array."
     ]
    },
    {
     "cell_type": "code",
     "collapsed": false,
     "input": [
      "len(imaging[0])"
     ],
     "language": "python",
     "metadata": {},
     "outputs": [
      {
       "metadata": {},
       "output_type": "pyout",
       "prompt_number": 91,
       "text": [
        "4454"
       ]
      }
     ],
     "prompt_number": 91
    },
    {
     "cell_type": "code",
     "collapsed": false,
     "input": [
      "desired = np.where(data['Nints'].data[imaging] >= 5)\n",
      "desired"
     ],
     "language": "python",
     "metadata": {},
     "outputs": [
      {
       "metadata": {},
       "output_type": "pyout",
       "prompt_number": 92,
       "text": [
        "(array([ 128,  129,  130, ..., 4451, 4452, 4453], dtype=int64),)"
       ]
      }
     ],
     "prompt_number": 92
    },
    {
     "cell_type": "code",
     "collapsed": false,
     "input": [
      "len(desired[0])"
     ],
     "language": "python",
     "metadata": {},
     "outputs": [
      {
       "metadata": {},
       "output_type": "pyout",
       "prompt_number": 93,
       "text": [
        "2392"
       ]
      }
     ],
     "prompt_number": 93
    },
    {
     "cell_type": "code",
     "collapsed": false,
     "input": [
      "data['OBSID'].data[desired]"
     ],
     "language": "python",
     "metadata": {},
     "outputs": [
      {
       "metadata": {},
       "output_type": "pyout",
       "prompt_number": 94,
       "text": [
        "array(['FM1T00010235', 'FM1T00010235', 'FM1T00010235', ..., 'FM1T00012149',\n",
        "       'FM1T00012149', 'FM1T00012149'], \n",
        "      dtype='|S12')"
       ]
      }
     ],
     "prompt_number": 94
    },
    {
     "cell_type": "markdown",
     "metadata": {},
     "source": []
    },
    {
     "cell_type": "code",
     "collapsed": false,
     "input": [
      "data['Detector Temp'].data"
     ],
     "language": "python",
     "metadata": {},
     "outputs": [
      {
       "metadata": {},
       "output_type": "pyout",
       "prompt_number": 95,
       "text": [
        "array([ 293.2877724 ,  293.3529064 ,  293.4533905 , ...,    6.69992188,\n",
        "          6.69992188,    6.70012893])"
       ]
      }
     ],
     "prompt_number": 95
    },
    {
     "cell_type": "code",
     "collapsed": false,
     "input": [
      "data['BB Temp'].data"
     ],
     "language": "python",
     "metadata": {},
     "outputs": [
      {
       "metadata": {},
       "output_type": "pyout",
       "prompt_number": 96,
       "text": [
        "array([ 294.7900085,  294.7839966,  294.776001 , ...,  800.0009766,\n",
        "        799.9990234,  800.0020142])"
       ]
      }
     ],
     "prompt_number": 96
    },
    {
     "cell_type": "code",
     "collapsed": false,
     "input": [
      "pyplot.plot(data['Detector Temp'].data,data['FM4 Temp'].data,'+')"
     ],
     "language": "python",
     "metadata": {},
     "outputs": [
      {
       "metadata": {},
       "output_type": "pyout",
       "prompt_number": 98,
       "text": [
        "[<matplotlib.lines.Line2D at 0x118ce470>]"
       ]
      },
      {
       "metadata": {},
       "output_type": "display_data",
       "png": "[encoded data removed]",
       "text": [
        "<matplotlib.figure.Figure at 0x1047add8>"
       ]
      }
     ],
     "prompt_number": 98
    },
    {
     "cell_type": "code",
     "collapsed": false,
     "input": [
      "data[0].data"
     ],
     "language": "python",
     "metadata": {},
     "outputs": [
      {
       "metadata": {},
       "output_type": "pyout",
       "prompt_number": 99,
       "text": [
        "('FM1T00010019', 1, 'MIRI_FT_FPE_IM_FULL_TP', '2011-04-26:16:24:53', 'NOMINAL', 'IMAGER', 2, 3, 'FULL', 1032, 1024, 'FAST', 'TEST_PATTERN', 1, 1, 293.2877724, 0, 3, 260, 24, 12, 24, -0.000383, -0.000383, -0.000217, -0.002797, 295.6150632, 'NOMINAL', 'LOCKED', 'F770W', 'LONG', 'LONG', 0.0, 0.0, 'NA', 0.0, 0.0, 'NA', 'UNKNOWN', 0.0, 294.7900085, 292.2000122, 'UNKNOWN', 'NONE', 0.0, 0.0, -999.0, -999.0, 0.0, 0, -999.0, -999.0, 'NONE', 0.0, 0.0, 0.0)"
       ]
      }
     ],
     "prompt_number": 99
    },
    {
     "cell_type": "code",
     "collapsed": false,
     "input": [],
     "language": "python",
     "metadata": {},
     "outputs": []
    }
   ],
   "metadata": {}
  }
 ]
}