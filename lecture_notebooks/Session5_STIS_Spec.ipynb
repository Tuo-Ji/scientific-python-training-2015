{
 "metadata": {
  "name": "",
  "signature": "sha256:3eaffbb2f2952e9109aa7f7e472617293b078012fb6835c316fa061af929e060"
 },
 "nbformat": 3,
 "nbformat_minor": 0,
 "worksheets": [
  {
   "cells": [
    {
     "cell_type": "heading",
     "level": 1,
     "metadata": {},
     "source": [
      "Scientific Python Lecture 5: STIS Long-Slit Spectral Extraction Example"
     ]
    },
    {
     "cell_type": "markdown",
     "metadata": {},
     "source": [
      "**Credits**\n",
      "\n",
      "- Adapted from Python script contributed by Azalee Bostroem.\n",
      "\n",
      "- Lecture prepared by Pey Lian Lim, Phil Hodge, and Nadia Dencheva."
     ]
    },
    {
     "cell_type": "markdown",
     "metadata": {},
     "source": [
      "Scientific goal:\n",
      "\n",
      "* Identify all the distinct spatial features and extract each spectrum separately.\n",
      "\n",
      "Extraction steps:\n",
      "\n",
      "1. Collapses the spectrum in the dispersion direction to get a cross-dispersion profile.\n",
      "2. Median smooths the collapsed spectrum to get a background estimate.\n",
      "3. Finds all points > 2*median smoothed background (assume these are spectrum locations).\n",
      "4. Fit a gaussian to a point > 2*median smoothed background.\n",
      "5. Feeds the peak of the gaussian to CALSTIS x1d (cs6.e) program to extract the spectrum.\n",
      "6. Plot results.\n",
      "\n",
      "Python topics covered:\n",
      "\n",
      "* calling external programs\n",
      "* fitting\n",
      "* functions\n",
      "* numpy techniques and libraries"
     ]
    },
    {
     "cell_type": "code",
     "collapsed": false,
     "input": [
      "# Enable plots to show up within this notebook\n",
      "%matplotlib inline"
     ],
     "language": "python",
     "metadata": {},
     "outputs": []
    },
    {
     "cell_type": "code",
     "collapsed": false,
     "input": [
      "# Import the required modules.\n",
      "\n",
      "from __future__ import print_function\n",
      "\n",
      "# STDLIB\n",
      "import os\n",
      "import subprocess\n",
      "\n",
      "# THIRD-PARTY - SCIPY\n",
      "from scipy.signal import medfilt\n",
      "from scipy.optimize import curve_fit\n",
      "\n",
      "# THIRD-PARTY - OTHER\n",
      "import matplotlib.pyplot as plt\n",
      "import numpy as np\n",
      "from astropy.io import fits as pyfits"
     ],
     "language": "python",
     "metadata": {},
     "outputs": []
    },
    {
     "cell_type": "code",
     "collapsed": false,
     "input": [
      "# This is the image we will use.\n",
      "# Note: CRJ is better to use than FLT\n",
      "#       since the latter has cosmic rays.\n",
      "ifile = '../data/o67501020_flt.fits'\n",
      "\n",
      "# Get EXT 1 data from the FLT image\n",
      "img = pyfits.getdata(ifile, 1)\n",
      "\n",
      "# Get TARGNAME value from primary header\n",
      "targname = pyfits.getval(ifile, 'targname')\n",
      "print(targname)"
     ],
     "language": "python",
     "metadata": {},
     "outputs": []
    },
    {
     "cell_type": "heading",
     "level": 4,
     "metadata": {},
     "source": [
      "Collapses the spectrum in the dispersion direction to get a cross-dispersion profile."
     ]
    },
    {
     "cell_type": "code",
     "collapsed": false,
     "input": [
      "# Show the FLT image with dispersion on the X-axis\n",
      "plt.imshow(img, vmin=0, vmax=50, cmap=plt.cm.gray, origin='lower')"
     ],
     "language": "python",
     "metadata": {},
     "outputs": []
    },
    {
     "cell_type": "code",
     "collapsed": false,
     "input": [
      "# Collapse in the dispersion direction\n",
      "collapsed_img = np.sum(img, axis=1)\n",
      "\n",
      "print('Original shape:', img.shape)\n",
      "print('Collapsed shape:', collapsed_img.shape)"
     ],
     "language": "python",
     "metadata": {},
     "outputs": []
    },
    {
     "cell_type": "code",
     "collapsed": false,
     "input": [
      "# Plot the collapsed image\n",
      "plt.plot(collapsed_img, 'b.-')"
     ],
     "language": "python",
     "metadata": {},
     "outputs": []
    },
    {
     "cell_type": "heading",
     "level": 4,
     "metadata": {},
     "source": [
      "Median smooths the collapsed spectrum to get a background estimate."
     ]
    },
    {
     "cell_type": "markdown",
     "metadata": {},
     "source": [
      "In this method, the median filtering result is not pure background. After all, much of the signal remains in the big features, even if it is much smaller than the original peak."
     ]
    },
    {
     "cell_type": "code",
     "collapsed": false,
     "input": [
      "# Median smooth the collapsed image.\n",
      "# Smoothing kernel size here is 109 (must be odd).\n",
      "kernel_size = 109\n",
      "med_fit = medfilt(collapsed_img, kernel_size)"
     ],
     "language": "python",
     "metadata": {},
     "outputs": []
    },
    {
     "cell_type": "code",
     "collapsed": false,
     "input": [
      "# Plot the smoothed image\n",
      "plt.plot(med_fit, 'c')"
     ],
     "language": "python",
     "metadata": {},
     "outputs": []
    },
    {
     "cell_type": "heading",
     "level": 4,
     "metadata": {},
     "source": [
      "Finds all points > 2*median smoothed background (assume these are spectrum locations)."
     ]
    },
    {
     "cell_type": "code",
     "collapsed": false,
     "input": [
      "# Identify points greater than 2*the median smoothed background\n",
      "specs = np.array(collapsed_img > 2.0 * med_fit)"
     ],
     "language": "python",
     "metadata": {},
     "outputs": []
    },
    {
     "cell_type": "markdown",
     "metadata": {},
     "source": [
      "The implementation below using loops can be slow if specs is a very large array."
     ]
    },
    {
     "cell_type": "code",
     "collapsed": false,
     "input": [
      "# Get starting and ending index of each set of\n",
      "# consecutive points >2*median smoothed spectrum.\n",
      "def get_spec_values(specs):   \n",
      "    spec_start = []\n",
      "    spec_end = []\n",
      "    spec_flag = False  # Is previous pixel >2*median smoothed spectrum\n",
      "\n",
      "    for i, p in enumerate(specs):\n",
      "    \n",
      "        # If pixel is >2*median smoothed spectrum\n",
      "        if p:\n",
      "            # If previous pixel was not >2*median smoothed spectrum\n",
      "            # then this is the starting index, set flag to True\n",
      "            if not spec_flag:  \n",
      "                spec_start.append(i)\n",
      "                spec_flag = p\n",
      "        # If pixel is not >2*median smoothed spectrum\n",
      "        else:\n",
      "            # If previous pixel was >2*median smoothed spectrum\n",
      "            # then this is the ending index, set flag to False\n",
      "            if spec_flag:\n",
      "                spec_end.append(i)\n",
      "                spec_flag = p\n",
      "\n",
      "    # Add the last index manually, if needed\n",
      "    if len(spec_end) == len(spec_start) - 1:\n",
      "        spec_end.append(specs.size)\n",
      "        \n",
      "    return spec_start, spec_end\n",
      "\n",
      "# Call the function above\n",
      "spec_start, spec_end = get_spec_values(specs)"
     ],
     "language": "python",
     "metadata": {},
     "outputs": []
    },
    {
     "cell_type": "markdown",
     "metadata": {},
     "source": [
      "**Taking advantage of Numpy slicing.**\n",
      "\n",
      "For simplicity, we are illustrating slicing basics with only the first few values of specs.\n",
      "\n",
      "    0 = False\n",
      "    1 = True"
     ]
    },
    {
     "cell_type": "code",
     "collapsed": false,
     "input": [
      "n_to_show = 10\n",
      "specs_subset = specs[:n_to_show]\n",
      "\n",
      "plt.bar(np.arange(n_to_show) - 0.5, specs_subset, 0.75)\n",
      "plt.axis([-1, 10, -0.1, 1.1])\n",
      "\n",
      "print('data     :', specs_subset)\n",
      "\n",
      "# Exclude the first element of the subset\n",
      "\n",
      "plt.arrow(0.5, 0.8, 9, 0, color='k', lw=3)\n",
      "plt.text(8, 0.85, 'data[1:]', fontsize=12)\n",
      "\n",
      "print('data[1:] :', specs_subset[1:])\n",
      "\n",
      "# Exclude the last element of the subset\n",
      "\n",
      "plt.arrow(-0.5, 0.6, 8.75, 0, color='k', lw=3)\n",
      "plt.text(8, 0.65, 'data[:-1]', fontsize=12)\n",
      "\n",
      "print('data[:-1]:', specs_subset[:-1])"
     ],
     "language": "python",
     "metadata": {},
     "outputs": []
    },
    {
     "cell_type": "markdown",
     "metadata": {},
     "source": [
      "Now we want to find starting and ending indices of each set of consecutive True points. From the plot above, these locations are where `data[1:]` differ from `data[:-1]`."
     ]
    },
    {
     "cell_type": "code",
     "collapsed": false,
     "input": [
      "# where()[1] has no data because specs_subset is 1-D array\n",
      "np.where(specs_subset[:-1] != specs_subset[1:])"
     ],
     "language": "python",
     "metadata": {},
     "outputs": []
    },
    {
     "cell_type": "code",
     "collapsed": false,
     "input": [
      "sp_bounds = np.where(specs_subset[:-1] != specs_subset[1:])[0]\n",
      "\n",
      "# OR (note the comma!)\n",
      "\n",
      "sp_bounds, = np.where(specs_subset[:-1] != specs_subset[1:])\n",
      "\n",
      "# We add 1 back because where() operated on 1 less element than specs_subset.\n",
      "# This will become clear in later steps.\n",
      "#\n",
      "# Note: += behaves the same as in C/C++ and IDL.\n",
      "sp_bounds += 1  # sp_bounds = sp_bounds + 1\n",
      "\n",
      "print('sp_bounds:', sp_bounds)"
     ],
     "language": "python",
     "metadata": {},
     "outputs": []
    },
    {
     "cell_type": "markdown",
     "metadata": {},
     "source": [
      "`where()` above cannot account for flag changes in first and last elements because you cannot compare first with `[-1]` nor last with `[last + 1]`.\n",
      "\n",
      "Note: Even if you do not care for spectra near edges, the below step is needed to obtain the correct `sp_start` and `sp_end` lists in the following step."
     ]
    },
    {
     "cell_type": "code",
     "collapsed": false,
     "input": [
      "# If the first element is True, we need to manually insert\n",
      "# 0 at the start of sp_bounds.\n",
      "if specs_subset[0]:\n",
      "    sp_bounds = np.insert(sp_bounds, 0, 0)\n",
      "\n",
      "# If the last element is True, we need to manually insert\n",
      "# spec_subset.size at the end of sp_bounds.\n",
      "if specs_subset[-1]:\n",
      "    sp_bounds = np.append(sp_bounds, specs.size)\n",
      "\n",
      "print('sp_bounds:', sp_bounds)"
     ],
     "language": "python",
     "metadata": {},
     "outputs": []
    },
    {
     "cell_type": "markdown",
     "metadata": {},
     "source": [
      "Now we can break `sp_bounds` into 2 separate lists, one with starting indices and the other with ending indices.\n",
      "\n",
      "Note: This lecture uses Python string formatting. See http://docs.python.org/2/library/string.html#formatspec ."
     ]
    },
    {
     "cell_type": "code",
     "collapsed": false,
     "input": [
      "sp_start = sp_bounds[::2]  # Even elements, including [0]\n",
      "sp_end = sp_bounds[1::2]   # Odd elements\n",
      "\n",
      "print('Consecutive True points found at:')\n",
      "for i, j in zip(sp_start, sp_end):\n",
      "    print('\\tspec_subset[{}:{}]'.format(i, j))"
     ],
     "language": "python",
     "metadata": {},
     "outputs": []
    },
    {
     "cell_type": "markdown",
     "metadata": {},
     "source": [
      "It works! Now we put all these into a function below and run it for `specs` instead of just the subset."
     ]
    },
    {
     "cell_type": "code",
     "collapsed": false,
     "input": [
      "# Here is an alternate implementation of get_spec_values()\n",
      "# that takes advantage of Numpy slicing.\n",
      "def get_spec_values_2(specs):\n",
      "\n",
      "    # Where specs bool flags change mark boundaries.\n",
      "    #\n",
      "    # specs[:-1] does this\n",
      "    #     [True  True  True  False  True  True  True  False  False ...\n",
      "    #      True  False  True]\n",
      "    #\n",
      "    # specs[1:] does this\n",
      "    #            [True  True  False  True  True  True  False  False ...\n",
      "    #      True  False]\n",
      "    #\n",
      "    # specs[:-1] != specs[1:] will yield\n",
      "    #     [False  False  True  True  False  False  True  False ...\n",
      "    #      True  True]\n",
      "    #\n",
      "    # Since specs is 1-D, only index 0 has usable data.\n",
      "    sp_bounds = np.where(specs[:-1] != specs[1:])[0]\n",
      "\n",
      "    # Since np.where was operated on specs offset by 1,\n",
      "    # to match the indices back with specs, we need to add 1 back.\n",
      "    sp_bounds += 1\n",
      "\n",
      "    # We need to manually check first and last elements.\n",
      "    if specs[0]:\n",
      "        sp_bounds = np.insert(sp_bounds, 0, 0)\n",
      "    if specs[-1]:\n",
      "        sp_bounds = np.append(sp_bounds, specs.size)\n",
      "\n",
      "    # Every other element marks starting and ending of a spectrum\n",
      "    sp_start = sp_bounds[::2]\n",
      "    sp_end = sp_bounds[1::2]\n",
      "    \n",
      "    return sp_start, sp_end\n",
      "\n",
      "# Call this function\n",
      "sp_start, sp_end = get_spec_values_2(specs)"
     ],
     "language": "python",
     "metadata": {},
     "outputs": []
    },
    {
     "cell_type": "markdown",
     "metadata": {},
     "source": [
      "Testing codes."
     ]
    },
    {
     "cell_type": "code",
     "collapsed": false,
     "input": [
      "# Check whether the two different implementations\n",
      "# return the same results.\n",
      "#\n",
      "# If they are not the same, AssertionError is raised.\n",
      "np.testing.assert_array_equal(spec_start, sp_start)\n",
      "np.testing.assert_array_equal(spec_end, sp_end)"
     ],
     "language": "python",
     "metadata": {},
     "outputs": []
    },
    {
     "cell_type": "markdown",
     "metadata": {},
     "source": [
      "This raises AssertionError because the arrays are not the same."
     ]
    },
    {
     "cell_type": "code",
     "collapsed": false,
     "input": [
      "np.testing.assert_array_equal(sp_start, sp_end)"
     ],
     "language": "python",
     "metadata": {},
     "outputs": []
    },
    {
     "cell_type": "markdown",
     "metadata": {},
     "source": [
      "Numpy also has other testing functions, see:\n",
      "\n",
      "- http://docs.scipy.org/doc/numpy/reference/routines.testing.html\n",
      "- http://docs.scipy.org/doc/numpy/reference/generated/numpy.allclose.html\n",
      "\n",
      "Sometimes you have to provide your own tolerance value. Here is an example which will fail `assert_array_equal` but will pass within the user-given tolerance:"
     ]
    },
    {
     "cell_type": "code",
     "collapsed": false,
     "input": [
      "x = [0.001, 0.002, 0.003]\n",
      "y = [0.00101, 0.002, 0.003]\n",
      "\n",
      "# Exceptions will be covered in Session 6\n",
      "try:\n",
      "    np.testing.assert_array_equal(x, y)\n",
      "except AssertionError:\n",
      "    print('assert_array_equal failed')\n",
      "\n",
      "np.testing.assert_almost_equal(x, y, decimal=5)"
     ],
     "language": "python",
     "metadata": {},
     "outputs": []
    },
    {
     "cell_type": "markdown",
     "metadata": {},
     "source": [
      "Timing functions with iPython `%timeit` magic. (Not to be confused with `python -m timeit`.)"
     ]
    },
    {
     "cell_type": "code",
     "collapsed": false,
     "input": [
      "%timeit get_spec_values(specs)"
     ],
     "language": "python",
     "metadata": {},
     "outputs": []
    },
    {
     "cell_type": "code",
     "collapsed": false,
     "input": [
      "%timeit get_spec_values_2(specs)"
     ],
     "language": "python",
     "metadata": {},
     "outputs": []
    },
    {
     "cell_type": "code",
     "collapsed": false,
     "input": [
      "# Plot the results to make sure we detected the right stuff\n",
      "plt.plot(collapsed_img, 'b')\n",
      "for start, end in zip(sp_start, sp_end):\n",
      "    plt.plot(range(start, end), collapsed_img[start:end], 'r')\n",
      "\n",
      "# For simplicity, we are going to extract one only\n",
      "i_loc = 31\n",
      "loc_start = sp_start[i_loc]\n",
      "loc_end = sp_end[i_loc]\n",
      "\n",
      "plt.plot(range(loc_start, loc_end), collapsed_img[loc_start:loc_end], 'k')"
     ],
     "language": "python",
     "metadata": {},
     "outputs": []
    },
    {
     "cell_type": "markdown",
     "metadata": {},
     "source": [
      "**Alternately, one can also use `scipy.ndimage.morphology` to find the spectra locations.**\n",
      "\n",
      "This is probably the way to go for more complex data like features on 2D image.\n",
      "\n",
      "http://stackoverflow.com/questions/4087919/how-can-i-improve-my-paw-detection"
     ]
    },
    {
     "cell_type": "code",
     "collapsed": false,
     "input": [
      "from scipy import ndimage\n",
      "\n",
      "labeled_specs, num_specs = ndimage.label(specs_subset)\n",
      "\n",
      "print('Num specs:', num_specs)\n",
      "print('Specs found:', ndimage.find_objects(labeled_specs))"
     ],
     "language": "python",
     "metadata": {},
     "outputs": []
    },
    {
     "cell_type": "heading",
     "level": 4,
     "metadata": {},
     "source": [
      "Fit a gaussian to a point > 2*median smoothed background."
     ]
    },
    {
     "cell_type": "markdown",
     "metadata": {},
     "source": [
      "Fit a function using non-linear least-square:\n",
      "\n",
      "http://docs.scipy.org/doc/scipy/reference/generated/scipy.optimize.curve_fit.html\n",
      "\n",
      "SciPy also has other functions you might find useful for science:\n",
      "\n",
      "http://docs.scipy.org/doc/scipy-0.10.0/reference/"
     ]
    },
    {
     "cell_type": "code",
     "collapsed": false,
     "input": [
      "# Gaussian\n",
      "def myfunc(x, a0, a1, a2):\n",
      "    return a0 * np.exp(-((x - a1) / a2)**2 / 2.0)"
     ],
     "language": "python",
     "metadata": {},
     "outputs": []
    },
    {
     "cell_type": "code",
     "collapsed": false,
     "input": [
      "# Extract the image data to fit\n",
      "collapsed_section = collapsed_img[loc_start:loc_end]\n",
      "collapsed_pixels = range(loc_start, loc_end)\n",
      "\n",
      "# Provide an initial guess to curvefit\n",
      "# a. Max value\n",
      "# b. Pixel location of max value\n",
      "# c. Width\n",
      "guesses = [collapsed_section.max(),\n",
      "           collapsed_pixels[np.argmax(collapsed_section)],\n",
      "           collapsed_section.size] \n",
      "\n",
      "# Do the fitting\n",
      "try:\n",
      "    # This raises TypeError or RuntimeError if fitting fails.\n",
      "    popt, pcov = curve_fit(myfunc, collapsed_pixels, collapsed_section, p0=guesses)\n",
      "except (TypeError, RuntimeError) as e:\n",
      "    pix_bestfit = -1\n",
      "    print(str(e))  # Prints error message\n",
      "else:\n",
      "    # This is the centroid we are looking for\n",
      "    pix_bestfit = popt[1]\n",
      "    print('Peak found at location', pix_bestfit)"
     ],
     "language": "python",
     "metadata": {},
     "outputs": []
    },
    {
     "cell_type": "markdown",
     "metadata": {},
     "source": [
      "Plot to make sure it looks right:"
     ]
    },
    {
     "cell_type": "code",
     "collapsed": false,
     "input": [
      "# This is to plot the fitted Gaussian\n",
      "xfit = np.arange(loc_start, loc_end, 0.2)  # Finer grid\n",
      "yfit = myfunc(xfit, *popt)"
     ],
     "language": "python",
     "metadata": {},
     "outputs": []
    },
    {
     "cell_type": "code",
     "collapsed": false,
     "input": [
      "plt.plot(collapsed_pixels, collapsed_section, 'bo--',\n",
      "         xfit, yfit, 'r-')\n",
      "plt.axvline(pix_bestfit, color='r')"
     ],
     "language": "python",
     "metadata": {},
     "outputs": []
    },
    {
     "cell_type": "heading",
     "level": 4,
     "metadata": {},
     "source": [
      "Alternate Gaussian fitting using `astropy.modeling`"
     ]
    },
    {
     "cell_type": "markdown",
     "metadata": {},
     "source": [
      "NOTE: This was not yet available in the original 2012 lecture.\n",
      "\n",
      "http://astropy.readthedocs.org/en/latest/modeling/index.html#simple-1-d-model-fitting"
     ]
    },
    {
     "cell_type": "code",
     "collapsed": false,
     "input": [
      "from astropy.modeling import models, fitting\n",
      "\n",
      "# Fit the data using a Gaussian\n",
      "g_init = models.Gaussian1D(amplitude=guesses[0], mean=guesses[1], stddev=guesses[2])\n",
      "fit_g = fitting.LevMarLSQFitter()\n",
      "g = fit_g(g_init, collapsed_pixels, collapsed_section)\n",
      "print('Peak found at location', g.mean)\n",
      "\n",
      "# Plot the data with the best-fit model\n",
      "plt.plot(collapsed_pixels, collapsed_section, 'bo--',\n",
      "         xfit, g(xfit), 'r-')\n",
      "plt.axvline(g.mean, color='r')"
     ],
     "language": "python",
     "metadata": {},
     "outputs": []
    },
    {
     "cell_type": "heading",
     "level": 4,
     "metadata": {},
     "source": [
      "Feeds the peak of the gaussian to CALSTIS x1d (cs6.e) program to extract the spectrum."
     ]
    },
    {
     "cell_type": "markdown",
     "metadata": {},
     "source": [
      "We extract the spectrum using `cs6.e`, that is the HSTCAL equivalent of IRAF CALSTIS `x1d` task.\n",
      "\n",
      "It is documented in STIS ISR 1998-10\n",
      "\n",
      "http://www.stsci.edu/hst/stis/documents/isrs/199810.pdf\n",
      "\n",
      "Since `cs6.e` is an external executable, we use `subprocess` module to call it.\n",
      "\n",
      "http://docs.python.org/2/library/subprocess.html"
     ]
    },
    {
     "cell_type": "code",
     "collapsed": false,
     "input": [
      "# Set up output filename for the next step.\n",
      "ofile = '{}_loc{:.0f}_x1d.fits'.format(targname, pix_bestfit)\n",
      "print(ofile)\n",
      "\n",
      "# Delete existing file from previous run, if needed.\n",
      "if os.path.exists(ofile):\n",
      "    os.remove(ofile)"
     ],
     "language": "python",
     "metadata": {},
     "outputs": []
    },
    {
     "cell_type": "code",
     "collapsed": false,
     "input": [
      "# Make sure we have cs6.e for the next step.\n",
      "!which cs6.e"
     ],
     "language": "python",
     "metadata": {},
     "outputs": []
    },
    {
     "cell_type": "code",
     "collapsed": false,
     "input": [
      "# Print command line help of cs6.e\n",
      "!cs6.e"
     ],
     "language": "python",
     "metadata": {},
     "outputs": []
    },
    {
     "cell_type": "markdown",
     "metadata": {},
     "source": [
      "Call the external program, `cs6.e` with these options:\n",
      "\n",
      "* -c a2center\n",
      "* -r maxsearch\n",
      "\n",
      "Return code:\n",
      "\n",
      "    0 = success"
     ]
    },
    {
     "cell_type": "code",
     "collapsed": false,
     "input": [
      "subprocess.call(['cs6.e', ifile, ofile, '-c', str(pix_bestfit), '-r', '4'])"
     ],
     "language": "python",
     "metadata": {},
     "outputs": []
    },
    {
     "cell_type": "code",
     "collapsed": false,
     "input": [
      "!ls *x1d.fits"
     ],
     "language": "python",
     "metadata": {},
     "outputs": []
    },
    {
     "cell_type": "heading",
     "level": 4,
     "metadata": {},
     "source": [
      "Plot results."
     ]
    },
    {
     "cell_type": "code",
     "collapsed": false,
     "input": [
      "# Extract table data from output file\n",
      "tbdata = pyfits.getdata(ofile, 1)\n",
      "\n",
      "# Location of the spectrum in the cross-dispersion direction\n",
      "extrlocy = tbdata['extrlocy'][0]"
     ],
     "language": "python",
     "metadata": {},
     "outputs": []
    },
    {
     "cell_type": "code",
     "collapsed": false,
     "input": [
      "# Plot extracted location on FLT image\n",
      "plt.imshow(img, vmin=0, vmax=50, cmap=plt.cm.summer, origin='lower')\n",
      "plt.plot(extrlocy, 'r--', lw=2)\n",
      "\n",
      "print('a2center:', pix_bestfit)\n",
      "print('extrlocy:', extrlocy)"
     ],
     "language": "python",
     "metadata": {},
     "outputs": []
    },
    {
     "cell_type": "code",
     "collapsed": false,
     "input": [
      "# Plot extracted spectrum\n",
      "lines = plt.plot(tbdata['WAVELENGTH'][0], tbdata['FLUX'][0], 'k-')"
     ],
     "language": "python",
     "metadata": {},
     "outputs": []
    }
   ],
   "metadata": {}
  }
 ]
}